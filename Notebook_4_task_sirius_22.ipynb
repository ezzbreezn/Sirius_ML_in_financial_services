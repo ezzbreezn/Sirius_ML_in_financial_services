{
  "nbformat": 4,
  "nbformat_minor": 0,
  "metadata": {
    "colab": {
      "name": "Notebook_4_task_sirius_22.ipynb",
      "provenance": [],
      "collapsed_sections": []
    },
    "kernelspec": {
      "display_name": "Python 3",
      "language": "python",
      "name": "python3"
    },
    "language_info": {
      "codemirror_mode": {
        "name": "ipython",
        "version": 3
      },
      "file_extension": ".py",
      "mimetype": "text/x-python",
      "name": "python",
      "nbconvert_exporter": "python",
      "pygments_lexer": "ipython3",
      "version": "3.7.6"
    }
  },
  "cells": [
    {
      "cell_type": "code",
      "metadata": {
        "id": "fAXVZXJC7TNb"
      },
      "source": [
        "import numpy as np\n",
        "import pandas as pd\n",
        "import datetime as dt\n",
        "import pickle\n",
        "from scipy.stats import norm\n",
        "import string\n",
        "import datetime\n",
        "from dateutil.relativedelta import relativedelta\n",
        "\n",
        "from sklearn.linear_model import LinearRegression\n",
        "from sklearn.linear_model import LogisticRegression\n",
        "\n",
        "import matplotlib.pyplot as plt\n",
        "\n",
        "from sklearn.calibration import CalibratedClassifierCV\n",
        "from sklearn.calibration import calibration_curve\n",
        "from sklearn.metrics import brier_score_loss\n",
        "\n",
        "from IPython.display import clear_output\n",
        "import warnings\n",
        "warnings.filterwarnings(\"ignore\")"
      ],
      "execution_count": null,
      "outputs": []
    },
    {
      "cell_type": "code",
      "metadata": {
        "id": "SjjJpfmq-739"
      },
      "source": [
        "# Авторизация гугл диска\n",
        "from google.colab import drive\n",
        "drive.mount('/content/drive')"
      ],
      "execution_count": null,
      "outputs": []
    },
    {
      "cell_type": "code",
      "metadata": {
        "id": "4sUR4CZ3rFme"
      },
      "source": [
        "%cd /content/drive/"
      ],
      "execution_count": null,
      "outputs": []
    },
    {
      "cell_type": "code",
      "metadata": {
        "id": "hplcjRBoBfr0"
      },
      "source": [
        "# создаем датасет для проверки функций\n",
        "np.random.seed(42)\n",
        "n = 600\n",
        "assert_data = pd.DataFrame(columns=['id', 'member_id', 'issue_d', 'target', 'test_flg', 'atr_int_1', 'atr_int_2', 'atr_int_3', 'atr_cat_1', 'atr_cat_2', 'atr_cat_3'])\n",
        "assert_data['id'] = range(n)\n",
        "assert_data['member_id'] = range(n)\n",
        "assert_data['issue_d'] = [datetime.datetime.strftime(datetime.date(2000,1,1) + relativedelta(months=d),'%Y-%m-%d') for d in range(60)] * int(n/60)\n",
        "assert_data['target'] = [np.random.randint(2) for i in range(n)]\n",
        "assert_data['test_flg'] = [np.random.randint(2) for i in range(n)]\n",
        "for i in range(1, 4):\n",
        "    assert_data[f'atr_int_{i}'] = np.random.random(n)\n",
        "    assert_data[f'atr_cat_{i}'] = np.random.random_integers(0, 25, n)\n",
        "\n",
        "assert_tech_columns = ['id', 'member_id', 'issue_d', 'target']\n",
        "assert_interrval_features = [f'atr_int_{i}' for i in range(1, 4)]\n",
        "assert_category_features = [f'atr_cat_{i}' for i in range(1, 4)]\n",
        "assert_features = assert_interrval_features + assert_category_features\n",
        "\n",
        "assert_logreg = LogisticRegression(random_state=42)\n",
        "assert_logreg.fit(assert_data[assert_data['test_flg']==0][assert_features], assert_data[assert_data['test_flg']==0]['target'])\n",
        "assert_data['PD'] = assert_logreg.predict_proba(assert_data[assert_features])[:, -1]\n",
        "# assert_data['PD'] = np.random.random(n)\n",
        "assert_data['SCORE'] = np.round(assert_data[assert_features].values.dot(assert_logreg.coef_[0]) * 100)\n",
        "\n",
        "assert_data['calib_flg'] = np.where(assert_data['issue_d']>'2001-12-01', 1, 0)\n",
        "\n",
        "assert_data.head()"
      ],
      "execution_count": null,
      "outputs": []
    },
    {
      "cell_type": "markdown",
      "metadata": {
        "id": "neZg-vtf9ZLG"
      },
      "source": [
        "# Загрузка данных"
      ]
    },
    {
      "cell_type": "code",
      "metadata": {
        "id": "SddbjF-D-H69"
      },
      "source": [
        "# Загрузка обученной модели\n",
        "with open('./model_logreg_woe.pickle', 'rb') as f:\n",
        "    model = pickle.load(f)\n",
        "    \n",
        "# Загрузка короткого списка атрибутов\n",
        "with open('./attributes_logreg_woe.pickle', 'rb') as f:\n",
        "    features = pickle.load(f)\n",
        "    \n",
        "# Загрузка выборки\n",
        "data_backup = pd.read_csv('./data_grp_woe_pd_score.csv')\n",
        "data_backup['issue_d'] = pd.to_datetime(data_backup['issue_d'])"
      ],
      "execution_count": null,
      "outputs": []
    },
    {
      "cell_type": "code",
      "metadata": {
        "id": "Clf9mqTUkMz_"
      },
      "source": [
        "data = data_backup.copy()"
      ],
      "execution_count": null,
      "outputs": []
    },
    {
      "cell_type": "markdown",
      "metadata": {
        "id": "y3QnCVx0_UMY"
      },
      "source": [
        "# Task 1. Реализация алгоритмов калибровки"
      ]
    },
    {
      "cell_type": "markdown",
      "metadata": {
        "id": "G8eh5tTNEIeB"
      },
      "source": [
        "Выборку для калибровки можно формировать исходя из разных целей. \n",
        "\n",
        "В случае, если целью проведения калибровки является привести значения уровня дефолта к актуальному значению (Point-in-time - PIT), то в качестве выборки для калибровки следует использовать последние несколько месяцев выборки, которые характеризуют текущую экономическую ситуацию.\n",
        "\n",
        "В случае, если целью проведения калибровки является привести значения уровня дефолта к историческому значению (Through-the-circle - TTC), то в качестве выборки для калибровки следует использовать те месяцы выборки, которые соответствуют последнему историческому экономическому циклу."
      ]
    },
    {
      "cell_type": "markdown",
      "metadata": {
        "id": "6foO_AF8F2X_"
      },
      "source": [
        "Выберете один из вариантов калибровки, объясните свой выбор, проставьте флаг выборки для калибровки."
      ]
    },
    {
      "cell_type": "code",
      "metadata": {
        "id": "nGxylYncGdma"
      },
      "source": [
        "# Выборка для калибровки \n",
        "start_date = # YOUR CODE HERE\n",
        "end_date = # YOUR CODE HERE\n",
        "data['calib_flg'] = np.where(((data['issue_d'] > start_date) & (data['issue_d'] <= end_date)) , 1, 0)\n",
        "print(f\"Даты выборки для калибровки: с {data[data['calib_flg']==1]['issue_d'].min()} по {data[data['calib_flg']==1]['issue_d'].max()}\")"
      ],
      "execution_count": null,
      "outputs": []
    },
    {
      "cell_type": "markdown",
      "metadata": {
        "id": "LyE6_q4IOJuU"
      },
      "source": [
        "Ниже реализована функция для сопоставление бина мастер-шкалы наблюдению в зависимости от вероятности дефолта данного наблюдения."
      ]
    },
    {
      "cell_type": "code",
      "metadata": {
        "id": "3jq8JbyvOJuV"
      },
      "source": [
        "# Функция для разбивки PD по обобщенной масетр-шкале\n",
        "def f_master_gen(x):\n",
        "    ans = np.where((0 <= x) & (x < 0.001), 'MA', \n",
        "                   np.where((0.001 <= x) & (x < 0.0027), 'MB', \n",
        "                            np.where((0.0027 <= x) & (x < 0.0075), 'MC', \n",
        "                                     np.where((0.0075 <= x) & (x < 0.0208), 'MD', \n",
        "                                              np.where((0.0208 <= x) & (x < 0.0577), 'ME', \n",
        "                                                       np.where((0.0577 <= x) & (x < 0.1601), 'MF', \n",
        "                                                                np.where((0.1601 <= x) & (x < 1), 'MG', 'MSD')\n",
        "                                                               )\n",
        "                                                      )\n",
        "                                             )\n",
        "                                    )\n",
        "                           )\n",
        "                  )\n",
        "    \n",
        "    return ans\n",
        "\n",
        "\n",
        "# Функция для разбивки PD по детализированной масетр-шкале\n",
        "def f_master_det(x):\n",
        "    ans = np.where((0 <= x) & (x < 0.0005), 'MA1', \n",
        "                   np.where((0.0005 <= x) & (x < 0.0007), 'MA2', \n",
        "                            np.where((0.0007 <= x) & (x < 0.001), 'MA3', \n",
        "                                     np.where((0.001 <= x) & (x < 0.0014), 'MB1', \n",
        "                                              np.where((0.0014 <= x) & (x < 0.0019), 'MB2', \n",
        "                                                       np.where((0.0019 <= x) & (x < 0.0027), 'MB3', \n",
        "                                                                np.where((0.0027 <= x) & (x < 0.0032), 'MC1+', \n",
        "                                                                         np.where((0.0032 <= x) & (x < 0.0038), 'MC1-', \n",
        "                                                                                  np.where((0.0038 <= x) & (x < 0.0045), 'MC2+', \n",
        "                                                                                           np.where((0.0045 <= x) & (x < 0.0053), 'MC2-', \n",
        "                                                                                                    np.where((0.0053 <= x) & (x < 0.0063), 'MC3+', \n",
        "                                                                                                             np.where((0.0063 <= x) & (x < 0.0075), 'MC3-', \n",
        "                                                                                                                      np.where((0.0075 <= x) & (x < 0.0089), 'MD1+', \n",
        "                                                                                                                               np.where((0.0089 <= x) & (x < 0.0105), 'MD1-', \n",
        "                                                                                                                                        np.where((0.0105 <= x) & (x < 0.0125), 'MD2+', \n",
        "                                                                                                                                                 np.where((0.0125 <= x) & (x < 0.0148), 'MD2-', \n",
        "                                                                                                                                                          np.where((0.0148 <= x) & (x < 0.0176), 'MD3+', \n",
        "                                                                                                                                                                   np.where((0.0176 <= x) & (x < 0.0208), 'MD3-', \n",
        "                                                                                                                                                                            np.where((0.0208 <= x) & (x < 0.0247), 'ME1+', \n",
        "                                                                                                                                                                                     np.where((0.0247 <= x) & (x < 0.0293), 'ME1-', \n",
        "                                                                                                                                                                                              np.where((0.0293 <= x) & (x < 0.0347), 'ME2+', \n",
        "                                                                                                                                                                                                       np.where((0.0347 <= x) & (x < 0.0411), 'ME2-', \n",
        "                                                                                                                                                                                                                np.where((0.0411 <= x) & (x < 0.0487), 'ME3+', \n",
        "                                                                                                                                                                                                                         np.where((0.0487 <= x) & (x < 0.0577), 'ME3-', \n",
        "                                                                                                                                                                                                                                  np.where((0.0577 <= x) & (x < 0.0811), 'MF1', \n",
        "                                                                                                                                                                                                                                           np.where((0.0811 <= x) & (x < 0.114), 'MF2', \n",
        "                                                                                                                                                                                                                                                    np.where((0.114 <= x) & (x < 0.1601), 'MF3', \n",
        "                                                                                                                                                                                                                                                             np.where((0.1601 <= x) & (x < 0.225), 'MG1', \n",
        "                                                                                                                                                                                                                                                                      np.where((0.225 <= x) & (x < 0.3161), 'MG2', \n",
        "                                                                                                                                                                                                                                                                               np.where((0.3161 <= x) & (x < 1), 'MG3', 'MSD'))))))))))))))))))))))))))))))\n",
        "    return ans"
      ],
      "execution_count": null,
      "outputs": []
    },
    {
      "cell_type": "markdown",
      "metadata": {
        "id": "cavSb3C8OjfS"
      },
      "source": [
        "Сформируем новый столбец, содержащий наименование бина мастер-шкалы, определенного по вероятности дефолта нашей модели"
      ]
    },
    {
      "cell_type": "code",
      "metadata": {
        "id": "JEokkzfokDCP"
      },
      "source": [
        "data['MS_gen_PD'] = f_master_gen(data['PD'])\n",
        "data['MS_det_PD'] = f_master_det(data['PD'])\n",
        "\n",
        "assert_data['MS_gen_PD'] = f_master_gen(assert_data['PD'])\n",
        "assert_data['MS_det_PD'] = f_master_det(assert_data['PD'])"
      ],
      "execution_count": null,
      "outputs": []
    },
    {
      "cell_type": "markdown",
      "metadata": {
        "id": "Y_Q306Tr_e9l"
      },
      "source": [
        "## Task 1-a. Калибровка Платта."
      ]
    },
    {
      "cell_type": "markdown",
      "metadata": {
        "id": "fwc3yPGHs90y"
      },
      "source": [
        "> Реализуйте функцию для обучения калибровки Платта (она же сигмоидальная калибровка) и добавление калиброванных значений к датасету.\n",
        "\n",
        "> При реализации функции учтите следующее:\n",
        "* Для реализации калибровки воспользуйтесь: CalibratedClassifierCV() \n",
        "* Настройте калибровку на выборке для калибровки без переобучения модели\n",
        "* Имя столбца с калиброванным значением вероятности дефолта должно быть 'PD_calib_platt'\n",
        "\n",
        "> Описание функции:\n",
        "* На вход принимает:\n",
        "1. model_ - обученная ранее модель\n",
        "2. data_ - датасет со всеми полями\n",
        "3. attributes - наименования атрибутов, на которых обучена модель\n",
        "4. calib_flg_name - флаг принадлежности наблюдения к выборке для калибровки\n",
        "5. target_name - имя целевого события\n",
        "* Возвращает pandas.DataFrame с идентичными полями, что и исходный датафрейм + дополняет калиброванным значением 'PD_calib_platt'"
      ]
    },
    {
      "cell_type": "code",
      "metadata": {
        "id": "YhU3lBmJI58x"
      },
      "source": [
        "def calib_platt(model_, data_, attributes, calib_flg_name, target_name):\n",
        "    # YOUR CODE HERE\n",
        "    raise NotImplementedError()"
      ],
      "execution_count": null,
      "outputs": []
    },
    {
      "cell_type": "code",
      "metadata": {
        "id": "jlN6bS5zIYUJ"
      },
      "source": [
        "# Проверяем реализацию функции\n",
        "assert_data = calib_platt(model_ = assert_logreg, \n",
        "                          data_ = assert_data.copy(), \n",
        "                          attributes = assert_features, \n",
        "                          calib_flg_name = 'calib_flg',\n",
        "                          target_name = 'target')\n",
        "\n",
        "assert assert_data.shape == (600, 17)\n",
        "assert 'PD_calib_platt' in assert_data.columns\n",
        "assert round(assert_data['PD_calib_platt'].sum(), 5) == 330.5645"
      ],
      "execution_count": null,
      "outputs": []
    },
    {
      "cell_type": "code",
      "metadata": {
        "id": "znhqxGSnKZsE"
      },
      "source": [
        "%%time\n",
        "# Применяем функцию к целевой таблице\n",
        "data = calib_platt(model_ = model, \n",
        "                   data_ = data.copy(), \n",
        "                   attributes = [f'WOE_{col}' for col in features], \n",
        "                   calib_flg_name='calib_flg',\n",
        "                   target_name='target')"
      ],
      "execution_count": null,
      "outputs": []
    },
    {
      "cell_type": "markdown",
      "metadata": {
        "id": "gqjrQx1HLqq-"
      },
      "source": [
        "## Task 1-b. Изотоническая калибровка"
      ]
    },
    {
      "cell_type": "markdown",
      "metadata": {
        "id": "MZ0QWg-DuojW"
      },
      "source": [
        "> Реализуйте функцию для обучения калибровки изотонической регрессией и добавление калиброванных значений к датасету.\n",
        "\n",
        "> При реализации функции учтите следующее:\n",
        "* Для реализации калибровки воспользуйтесь: CalibratedClassifierCV() \n",
        "* Настройте калибровку на выборке для калибровки без переобучения модели\n",
        "* Имя столбца с калиброванным значением вероятности дефолта должно быть 'PD_calib_isoton'\n",
        "\n",
        "> Описание функции:\n",
        "* На вход принимает:\n",
        "1. model_ - обученная ранее модель\n",
        "2. data_ - датасет со всеми полями\n",
        "3. attributes - наименования атрибутов, на которых обучена модель\n",
        "4. calib_flg_name - флаг принадлежности наблюдения к выборке для калибровки\n",
        "5. target_name - имя целевого события\n",
        "* Возвращает pandas.DataFrame с идентичными полями, что и исходный датафрейм + дополняет калиброванным значением 'PD_calib_isoton'"
      ]
    },
    {
      "cell_type": "code",
      "metadata": {
        "id": "z_qtEF8jL0F0"
      },
      "source": [
        "def calib_isoton(model_, data_, attributes, calib_flg_name, target_name):\n",
        "    # YOUR CODE HERE\n",
        "    raise NotImplementedError()"
      ],
      "execution_count": null,
      "outputs": []
    },
    {
      "cell_type": "code",
      "metadata": {
        "id": "lXBKx5naQJvL"
      },
      "source": [
        "# Проверяем реализацию функции\n",
        "assert_data = calib_isoton(model_ = assert_logreg, \n",
        "                           data_ = assert_data.copy(), \n",
        "                           attributes = assert_features, \n",
        "                           calib_flg_name = 'calib_flg',\n",
        "                           target_name = 'target')\n",
        "\n",
        "assert assert_data.shape == (600, 18)\n",
        "assert 'PD_calib_isoton' in assert_data.columns\n",
        "assert round(assert_data['PD_calib_isoton'].sum(), 5) == 330.48299"
      ],
      "execution_count": null,
      "outputs": []
    },
    {
      "cell_type": "code",
      "metadata": {
        "id": "sUrVQBwEL0F0"
      },
      "source": [
        "%%time\n",
        "# Применяем функцию к целевой таблице\n",
        "data = calib_isoton(model_ = model, \n",
        "                    data_ = data.copy(), \n",
        "                    attributes = [f'WOE_{col}' for col in features], \n",
        "                    calib_flg_name='calib_flg',\n",
        "                    target_name='target')"
      ],
      "execution_count": null,
      "outputs": []
    },
    {
      "cell_type": "markdown",
      "metadata": {
        "id": "hpB12HpMMxds"
      },
      "source": [
        "## Task 1-c. Калибровка Байеса"
      ]
    },
    {
      "cell_type": "markdown",
      "source": [
        "Алгоритм калибровки:\n",
        "![image.png](data:image/png;base64,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)"
      ],
      "metadata": {
        "id": "Q8z6XsWPJ6IF"
      }
    },
    {
      "cell_type": "markdown",
      "source": [
        "В пункте 6 PD_i считается для каждого наблюдения в отдельности, используя индивидуальные значения Score_i для каждого наблюдения"
      ],
      "metadata": {
        "id": "LFK7tnb1u4o1"
      }
    },
    {
      "cell_type": "markdown",
      "metadata": {
        "id": "T5f0qQj0u22d"
      },
      "source": [
        "> Реализуйте функцию для обучения Байесовской калибровки и добавление калиброванных значений к датасету.\n",
        "\n",
        "> При реализации функции учтите следующее:\n",
        "* Имя столбца с калиброванным значением вероятности дефолта должно быть равно значению переменной column_name\n",
        "* округлите до 5-го знака значения PIT, DR_val и коэффициенты регрессии\n",
        "\n",
        "> Описание функции:\n",
        "* На вход принимает:\n",
        "1. data_ - датасет со всеми полями\n",
        "2. master_scale_name - тип мастер-шкалы по которой строим калибровку\n",
        "3. calib_flg_name - имя колонки с флагом принадлежности наблюдения к выборке для калибровки\n",
        "4. test_flg_name - имя колонки с флагом принадлежности наблюдения к тестовой выборке\n",
        "5. target_name - имя целевого событие\n",
        "6. score_name - имя скорингового балла\n",
        "7. column_name - имя нового столбца, куда будут записаны калиброванные значения вероятности дефолта\n",
        "* Возвращает pandas.DataFrame с идентичными полями, что и исходный датафрейм + дополняет калиброванным значением column_name"
      ]
    },
    {
      "cell_type": "code",
      "metadata": {
        "id": "2xi0I3CqMxdv"
      },
      "source": [
        "def bayes_calibration(data_, master_scale_name, calib_flg_name, test_flg_name, target_name, score_name, column_name):\n",
        "    # YOUR CODE HERE\n",
        "    raise NotImplementedError()"
      ],
      "execution_count": null,
      "outputs": []
    },
    {
      "cell_type": "code",
      "metadata": {
        "id": "ikzYCKeEQ_fk"
      },
      "source": [
        "# Проверяем реализацию функции\n",
        "# Калибровка по обобщенной мастер-шкале\n",
        "assert_data = bayes_calibration(data_ = assert_data.copy(), \n",
        "                                master_scale_name='MS_gen_PD', \n",
        "                                calib_flg_name='calib_flg',\n",
        "                                test_flg_name='test_flg',\n",
        "                                target_name='target',\n",
        "                                score_name='SCORE',\n",
        "                                column_name='PD_calib_bayes_gen')\n",
        "\n",
        "assert assert_data.shape == (600, 19)\n",
        "assert 'PD_calib_bayes_gen' in assert_data.columns\n",
        "assert round(assert_data['PD_calib_bayes_gen'].sum(), 5) == 333.33281"
      ],
      "execution_count": null,
      "outputs": []
    },
    {
      "cell_type": "code",
      "metadata": {
        "id": "5qKcFPUGYF8e"
      },
      "source": [
        "# Проверяем реализацию функции\n",
        "# Калибровка по детализированной мастер-шкале\n",
        "assert_data = bayes_calibration(data_ = assert_data.copy(), \n",
        "                                master_scale_name='MS_det_PD', \n",
        "                                calib_flg_name='calib_flg',\n",
        "                                test_flg_name='test_flg',\n",
        "                                target_name='target',\n",
        "                                score_name='SCORE',\n",
        "                                column_name='PD_calib_bayes_det')\n",
        "\n",
        "assert assert_data.shape == (600, 20)\n",
        "assert 'PD_calib_bayes_det' in assert_data.columns\n",
        "assert round(assert_data['PD_calib_bayes_det'].sum(), 5) == 328.33406"
      ],
      "execution_count": null,
      "outputs": []
    },
    {
      "cell_type": "code",
      "metadata": {
        "id": "R6512kmMUJZ8"
      },
      "source": [
        "%%time\n",
        "# Применяем функцию к целевой таблице\n",
        "# Калибровка по обобщенной мастер-шкале\n",
        "data = bayes_calibration(data_ = data.copy(), \n",
        "                         master_scale_name = 'MS_gen_PD', \n",
        "                         calib_flg_name = 'calib_flg',\n",
        "                         test_flg_name = 'test_flg',\n",
        "                         target_name = 'target',\n",
        "                         score_name = 'SCORE',\n",
        "                         column_name = 'PD_calib_bayes_gen'\n",
        "                         )\n",
        "\n",
        "# Калибровка по обобщенной мастер-шкале\n",
        "data = bayes_calibration(data_ = data.copy(), \n",
        "                         master_scale_name = 'MS_det_PD', \n",
        "                         calib_flg_name = 'calib_flg',\n",
        "                         test_flg_name = 'test_flg',\n",
        "                         target_name = 'target',\n",
        "                         score_name = 'SCORE',\n",
        "                         column_name = 'PD_calib_bayes_det'\n",
        "                         )"
      ],
      "execution_count": null,
      "outputs": []
    },
    {
      "cell_type": "markdown",
      "metadata": {
        "id": "SIWnO5x82USD"
      },
      "source": [
        "# Task 2. Визуализация диаграмм надежности"
      ]
    },
    {
      "cell_type": "markdown",
      "metadata": {
        "id": "thzKRMdv3I6H"
      },
      "source": [
        "> Реализуйте функцию отображения диаграмм надежности и вычисления Brier score\n",
        "\n",
        "> При реализации функции учтите следующее:\n",
        "* В качестве примера можете воспользоваться примером: https://scikit-learn.org/stable/auto_examples/calibration/plot_calibration_curve.html#sphx-glr-auto-examples-calibration-plot-calibration-curve-py\n",
        "\n",
        "> Описание функции:\n",
        "* На вход принимает:\n",
        "1. data_ - датасет со всеми полями\n",
        "2. prob_names_list - имена колонок, содержащие вероятности дефолта, которые необходимо отобразить на диаграмме\n",
        "* Отображает диаграмму надежности, аналогичную примеру\n",
        "* Возвращает список Brier score для каждого целевого события\n",
        "\n",
        "\n"
      ]
    },
    {
      "cell_type": "code",
      "metadata": {
        "id": "F1rcWBbh28lA"
      },
      "source": [
        "# Функция для отрисовки диаграмм надежности\n",
        "def plot_calibration_curve(data_, prob_names_list):\n",
        "    # YOUR CODE HERE\n",
        "    raise NotImplementedError()"
      ],
      "execution_count": null,
      "outputs": []
    },
    {
      "cell_type": "code",
      "metadata": {
        "id": "vtIPcVM_bubK"
      },
      "source": [
        "# Проверяем реализацию функции\n",
        "assert_brier_score_list = plot_calibration_curve(data_ = assert_data[assert_data['calib_flg']==1].copy(),\n",
        "                                          prob_names_list = ['PD', \n",
        "                                                             'PD_calib_platt',\n",
        "                                                             'PD_calib_isoton', \n",
        "                                                             'PD_calib_bayes_gen',\n",
        "                                                             'PD_calib_bayes_det'\n",
        "                                                             ]\n",
        "                                          )\n",
        "clear_output()\n",
        "assert round(np.sum(assert_brier_score_list), 5) == 1.19124"
      ],
      "execution_count": null,
      "outputs": []
    },
    {
      "cell_type": "code",
      "metadata": {
        "id": "Tg9d6P8V6n3z"
      },
      "source": [
        "# Применяем функцию к целевой таблице\n",
        "brier_score_list = plot_calibration_curve(data_=data[data['calib_flg']==1].copy(),\n",
        "                                          prob_names_list = ['PD', \n",
        "                                                             'PD_calib_platt',\n",
        "                                                             'PD_calib_isoton', \n",
        "                                                             'PD_calib_bayes_gen',\n",
        "                                                             'PD_calib_bayes_det'\n",
        "                                                             ]\n",
        "                                          )"
      ],
      "execution_count": null,
      "outputs": []
    },
    {
      "cell_type": "markdown",
      "metadata": {
        "id": "fRXPZUIk2eXG"
      },
      "source": [
        "# Task 3. Визуализация распределения по мастер-шкале"
      ]
    },
    {
      "cell_type": "markdown",
      "metadata": {
        "id": "ujVcnpfLxGUr"
      },
      "source": [
        "> Реализуйте функцию для визуализации распределения вероятности дефолта по мастер-шкале.\n",
        "\n",
        "> При реализации функции учтите следующее:\n",
        "* не забудьте, что для каждого откалиброванного значения PD необходимо сделать свое распределение по мастер-шкале\n",
        "\n",
        "> Описание функции:\n",
        "* На вход принимает:\n",
        "1. data_ - датасет со всеми полями\n",
        "2. test_flg_name - флаг принадлежности наблюдения к тестовой выборке \n",
        "3. pd_name - имя столбца с вероятностью дефолта\n",
        "4. target_name - имя целевого события\n",
        "5. master_scale_type - тип мастер-шкалы (может быть 'generalized' - обобщенной и 'detailed' - детализированной)\n",
        "* Возвращает список из двух pandas.DataFrame: первый элемент списка сформирован для train выборки, второй элемент списка сформирован для test выборки\n",
        "* pandas.DataFrame содержат следующие столбцы:\n",
        "1. MASTER_SCALE - названия бинов мастер-шкалы\t\n",
        "2. pd_name (параметр функции) - среднее значение столбца pd_name для соответствующего бина мастер-шкалы\n",
        "3. target - среднее уровень дефолта наблюдений в соответствующем бине мастер-шкалы"
      ]
    },
    {
      "cell_type": "code",
      "metadata": {
        "id": "r3acL9sJAbYY"
      },
      "source": [
        "# Функция отображения распределений по мастер-шкале\n",
        "def plot_master_distribution(data_, test_flg_name, pd_name, target_name, master_scale_type):\n",
        "    # YPUR CODE HERE\n",
        "    raise NotImplementedError()"
      ],
      "execution_count": null,
      "outputs": []
    },
    {
      "cell_type": "code",
      "metadata": {
        "id": "xeRqFQmKiHU2"
      },
      "source": [
        "# Проверяем реализацию функции\n",
        "assert_df_list = []\n",
        "pd_name_list = ['PD', \n",
        "                'PD_calib_platt',\n",
        "                'PD_calib_isoton', \n",
        "                'PD_calib_bayes_gen',\n",
        "                'PD_calib_bayes_det'\n",
        "                ]\n",
        "for pd_name in pd_name_list:\n",
        "    for ms_type in ['generalized', 'detailed']:\n",
        "        assert_df_list.append(plot_master_distribution(data_ = assert_data.copy(), \n",
        "                                                       test_flg_name = 'test_flg',\n",
        "                                                       pd_name = pd_name,\n",
        "                                                       target_name = 'target',\n",
        "                                                       master_scale_type = ms_type\n",
        "                                                       )\n",
        "        )\n",
        "\n",
        "res = 0\n",
        "for i, ls in enumerate(assert_df_list):\n",
        "    for j, d in enumerate(ls):\n",
        "        res += assert_df_list[i][j]['target'].sum()\n",
        "assert round(res, 5) == 13.32501"
      ],
      "execution_count": null,
      "outputs": []
    },
    {
      "cell_type": "code",
      "metadata": {
        "id": "4sG1_CBPDQm0"
      },
      "source": [
        "# Применяем функцию к целевой таблице\n",
        "pd_name_list = ['PD', \n",
        "                'PD_calib_platt',\n",
        "                'PD_calib_isoton', \n",
        "                'PD_calib_bayes_gen',\n",
        "                'PD_calib_bayes_det'\n",
        "                ]\n",
        "for pd_name in pd_name_list:\n",
        "    for ms_type in ['generalized', 'detailed']:\n",
        "        df_list = plot_master_distribution(data_ = data.copy(), \n",
        "                                            test_flg_name = 'test_flg',\n",
        "                                            pd_name = pd_name,\n",
        "                                            target_name = 'target',\n",
        "                                            master_scale_type = ms_type\n",
        "                                            )\n",
        "        fig, ax = plt.subplots(1, 2, figsize=(18,6))\n",
        "        df_name_list = ['TRAIN', 'TEST']\n",
        "        for i, df in enumerate(df_list):\n",
        "            \n",
        "            ax[i].set_title(f'Распределение {pd_name} по {ms_type} мастер шкале \\nна {df_name_list[i]} выборке')\n",
        "            ax[i].set_xlabel('Бин мастер шкалы')\n",
        "            ax[i].set_ylabel('Уровень дефолта')\n",
        "            ax[i].tick_params(axis='x', rotation=90)\n",
        "\n",
        "            ax[i].plot(df['MASTER_SCALE'], df['target'], label='target', linestyle ='-')\n",
        "            ax[i].plot(df['MASTER_SCALE'], df[pd_name], label=pd_name, linestyle ='-')\n",
        "            ax[i].legend()\n",
        "\n",
        "        plt.show()"
      ],
      "execution_count": null,
      "outputs": []
    },
    {
      "cell_type": "markdown",
      "metadata": {
        "id": "qwtcww-V2nvG"
      },
      "source": [
        "# Task 4. Биномиальный тест"
      ]
    },
    {
      "cell_type": "markdown",
      "metadata": {
        "id": "-wjP3clkIc9I"
      },
      "source": [
        "Идея теста заключается в определении критического значения числа дефолтов или вероятности дефолта для каждого рейтингового класса и сравнения фактических значений с критическими.\n",
        "\n",
        "В рамках данного теста выдвигаются следующие гипотезы:\n",
        "H0 - все оценки PD, полученные при помощи модели, корректны\n",
        "H1 - хотя бы одна оценка PD некорректна\n",
        "\n",
        "Расчет доверительных интервалов:\n",
        "![image.png](data:image/png;base64,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)\n",
        "\n",
        "* ![image.png](data:image/png;base64,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) - критическое значение уровня дефолтов, аппроксимированное с помощью\n",
        "нормального распределения\n",
        "* ![image.png](data:image/png;base64,iVBORw0KGgoAAAANSUhEUgAAADYAAAAmCAYAAACPk2hGAAAC3ElEQVRoBe2YzWviQBjG+z/mMtCABUGwNIfS0x6kwgoLZRHKFjwUxEV6KRKEsrBr6nHR7R6W1nhUe9rKHDysBIoYniUfzmRMomHX6igWCkkmzjy/PPN+JAfY0b+DHeXC9oFZz2jpV8ie1tG3423ZHjCbomNUkVNTUEgKyvaDTUDNLyhqGWQvdXytFEB2A2yEH7qO74Oxu+/sQR3aboCJcbQHE5+H/GeSOPaKvn7uZTEnLpL8L8l2ezD5N5+oUBLHRFGrOFsNmFPt6yXkPrVAWftiwxr85IXSiRvtCrX2M6xVKF8yx3+COeKbKGppkPwtHunEX24C2r5GlhwjV/3lwVodlLU0FHKMvPEbjH+JwH8atikeq37noX5ArecV7ai5InpFG1bvzu3JSP4OPWsm1YZl3iBLUiDvmxjOLsPGuF1K1OZECVh+LUFmVUtojZkgd8o5MA6laNdoMacA2H3UTh1n3qFs/hH0TM0qDt1UfoEGnQpjmzoRwdi2OkGxPRI0LdrbkoMFLA8VST52WOlC9GQKalz4xVdGx6ZdlI+c7iANTe+LSYBtw7CTgIVO5cwDO6qiI1ILrq/zhG9F2kTOjZMzlM25xD1+QNF9wYtwhEGnQC4fEJ+n1okF/mlgUZywsdAWBVjskSg31wsTXC2BYzy+wo6M0Lo8cbehWAKCS2zmmIOxLTUfYy9o5DNQSAY54yWgclasU1CWFMvAj9Z2yMHAC7CifkRj6HcbLL7OURu8+sImoE+33ocVtYDPT1RMNmuTH79QAMy5aYy+UXK7C0UtoGx0Mez53xjc6j4V+kSSv2HfIuKX2MzIHJgnwqZd3Bu62yuGXg4d4G9N3JvyuRR8hJFg/IZZcpiPO36HrEeLwVhCiahtshL5uhaDzYp2RPcsORcv0GGhb/06El5xlVcWOMYLc7jxXaWEt5krHozFl1ytUtLHEA+WdAZJ79uDSWpMrKy9Y7GPRtKBvxNzpBtOqUvtAAAAAElFTkSuQmCC) - обратная функция нормального распределения,\n",
        "* 𝐶𝐼 - уровень доверия,\n",
        "* 𝑃𝐷𝑖 - вероятность дефолта в i ом скоринговом классе."
      ]
    },
    {
      "cell_type": "markdown",
      "metadata": {
        "id": "FjBvPQ7ky7Q2"
      },
      "source": [
        "> Реализуйте функцию для визуализации биномиального теста.\n",
        "\n",
        "> При реализации функции учтите следующее:\n",
        "* воспользуйтесь функцией norm.ppf(CI)\n",
        "\n",
        "> Описание функции:\n",
        "* На вход принимает:\n",
        "1. data_ - датасет со всеми полями\n",
        "2. pd_name - имя столбца с вероятностью дефолта\n",
        "3. target_name - имя целевого события\n",
        "4. master_scale_type - тип мастер-шкалы (может быть 'generalized' - обобщенной и 'detailed' - детализированной)\n",
        "5. a_CI_for_binominal_test - доверительный интервал\n",
        "* Возвращает pandas.DataFrame со следующими столбцами:\n",
        "1. MASTER_SCALE - названия бинов мастер-шкалы\t\n",
        "2. pd_name (параметр функции) - среднее значение столбца pd_name для соответствующего бина мастер-шкалы\n",
        "3. target - среднее уровень дефолта наблюдений в соответствующем бине мастер-шкалы\n",
        "4. cnt - количество наблюдений в соответствующем бине мастер-шкалы\n",
        "5. CI_LEFT - левая граница доверительного интервала для соответствующего бина мастер-шкалы\n",
        "6. CI_RIGHT - правая граница доверительного интервала для соответствующего бина мастер-шкалы\n",
        "7. conclusion - заключение о прохождении теста: 'тест пройден' или 'тест не пройден'"
      ]
    },
    {
      "cell_type": "code",
      "metadata": {
        "id": "UBzn9PR5HRoZ"
      },
      "source": [
        "def binomial_test(data_, pd_name, target_name, master_scale_type, a_CI_for_binominal_test):\n",
        "    # YPUR CODE HERE\n",
        "    raise NotImplementedError()"
      ],
      "execution_count": null,
      "outputs": []
    },
    {
      "cell_type": "code",
      "metadata": {
        "id": "1iWXulK4Eeqq"
      },
      "source": [
        "# Проверяем реализацию функции\n",
        "assert_df_list = []\n",
        "pd_name_list = ['PD', \n",
        "                'PD_calib_platt',\n",
        "                'PD_calib_isoton', \n",
        "                'PD_calib_bayes_gen',\n",
        "                'PD_calib_bayes_det'\n",
        "                ]\n",
        "for pd_name in pd_name_list:\n",
        "    for i, ms_type in enumerate(['generalized', 'detailed']):\n",
        "        assert_df_list.append(binomial_test(data_ = assert_data[assert_data['calib_flg']==1].copy(), \n",
        "                              pd_name = pd_name,\n",
        "                              target_name = 'target',\n",
        "                              master_scale_type = ms_type,\n",
        "                              a_CI_for_binominal_test = 0.99\n",
        "                              ))\n",
        "        \n",
        "res_tar = 0\n",
        "res_ci_left = 0\n",
        "res_ci_right = 0\n",
        "for i, d in enumerate(assert_df_list):\n",
        "    res_tar += assert_df_list[i]['target'].sum()\n",
        "    res_ci_left += assert_df_list[i]['CI_LEFT'].sum()\n",
        "    res_ci_right += assert_df_list[i]['CI_RIGHT'].sum()\n",
        "assert round(res_tar, 5) == 6.47692\n",
        "assert round(res_ci_left, 5) == 4.25204\n",
        "assert round(res_ci_right, 5) == 8.54361"
      ],
      "execution_count": null,
      "outputs": []
    },
    {
      "cell_type": "code",
      "metadata": {
        "id": "YTR3vbaxK6Ha"
      },
      "source": [
        "# Применяем функцию к целевой таблице\n",
        "pd_name_list = ['PD', \n",
        "                'PD_calib_platt',\n",
        "                'PD_calib_isoton', \n",
        "                'PD_calib_bayes_gen',\n",
        "                'PD_calib_bayes_det'\n",
        "                ]\n",
        "for pd_name in pd_name_list:\n",
        "    fig, ax = plt.subplots(1, 2, figsize=(18,6))\n",
        "    for i, ms_type in enumerate(['generalized', 'detailed']):\n",
        "        df = binomial_test(data_ = data[data['calib_flg']==1].copy(), \n",
        "                           pd_name = pd_name,\n",
        "                           target_name = 'target',\n",
        "                           master_scale_type = ms_type,\n",
        "                           a_CI_for_binominal_test = 0.99\n",
        "                           )\n",
        "        \n",
        "        # визуализация\n",
        "        ax[i].set_title(f'Биномиальный тест для {pd_name} по {ms_type} мастер шкале')\n",
        "        ax[i].set_xlabel('Мастер-шкала')\n",
        "        ax[i].set_ylabel('Вероятность дефолта')\n",
        "        ax[i].tick_params(axis='x', rotation=90)\n",
        "        \n",
        "        ax[i].plot(df['MASTER_SCALE'], df['CI_LEFT'], label='ДИ левая граница')\n",
        "        ax[i].plot(df['MASTER_SCALE'], df['CI_RIGHT'], label='ДИ правая граница')\n",
        "        ax[i].scatter(df[df['conclusion']=='тест пройден']['MASTER_SCALE'], \n",
        "                df[df['conclusion']=='тест пройден']['target'], \n",
        "                label='Фактический уровень дефолта внутри ДИ',\n",
        "                color = 'green'\n",
        "                )\n",
        "        ax[i].scatter(df[df['conclusion']=='тест не пройден']['MASTER_SCALE'], \n",
        "                df[df['conclusion']=='тест не пройден']['target'], \n",
        "                label='Фактический уровень дефолта вне ДИ',\n",
        "                color = 'red'\n",
        "                )\n",
        "        ax[i].legend()\n",
        "\n",
        "    plt.show()"
      ],
      "execution_count": null,
      "outputs": []
    },
    {
      "cell_type": "markdown",
      "metadata": {
        "id": "8PeTbth-jdqa"
      },
      "source": [
        "# Сохранение результатов"
      ]
    },
    {
      "cell_type": "markdown",
      "metadata": {
        "id": "7T16xIdEHJCp"
      },
      "source": [
        "Выберете способ предпочитаемой калибровки, объясните свой выбор."
      ]
    },
    {
      "cell_type": "markdown",
      "metadata": {
        "id": "q21uuGDMHUtN"
      },
      "source": [
        "Сохраните выбранное значение калиброванного значения PD в таблицу с наименованием поля \"PD_calib\".\n",
        "\n",
        "Также проставим бакет по мастер-шкале в зависимости от значения PD_calib."
      ]
    },
    {
      "cell_type": "code",
      "metadata": {
        "id": "LRiv_dR-81CT"
      },
      "source": [
        "data['PD_calib'] = data['PD_calib_isoton']\n",
        "data['MS_gen_PD_calib'] = f_master_gen(data['PD_calib'])\n",
        "data['MS_det_PD_calib'] = f_master_det(data['PD_calib'])"
      ],
      "execution_count": null,
      "outputs": []
    },
    {
      "cell_type": "code",
      "metadata": {
        "id": "ydaK84KMK6Au"
      },
      "source": [
        "data.to_csv('./data_grp_woe_pd_score_calib.csv', index=False)"
      ],
      "execution_count": null,
      "outputs": []
    }
  ]
}