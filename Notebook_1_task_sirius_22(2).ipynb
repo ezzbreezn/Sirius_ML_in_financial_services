{
  "nbformat": 4,
  "nbformat_minor": 0,
  "metadata": {
    "kernelspec": {
      "display_name": "Python 3",
      "language": "python",
      "name": "python3"
    },
    "language_info": {
      "codemirror_mode": {
        "name": "ipython",
        "version": 3
      },
      "file_extension": ".py",
      "mimetype": "text/x-python",
      "name": "python",
      "nbconvert_exporter": "python",
      "pygments_lexer": "ipython3",
      "version": "3.7.6"
    },
    "colab": {
      "name": "Notebook_1_task_sirius_22.ipynb",
      "provenance": [],
      "collapsed_sections": [
        "hqFdyB1xMDzI"
      ]
    }
  },
  "cells": [
    {
      "cell_type": "code",
      "metadata": {
        "id": "Vt3OwunambaG",
        "colab": {
          "base_uri": "https://localhost:8080/"
        },
        "outputId": "186554d1-9fd9-49dd-bfa7-f19496df4064"
      },
      "source": [
        "# Авторизация гугл диска\n",
        "from google.colab import drive\n",
        "drive.mount('/content/drive')"
      ],
      "execution_count": 1,
      "outputs": [
        {
          "output_type": "stream",
          "name": "stdout",
          "text": [
            "Mounted at /content/drive\n"
          ]
        }
      ]
    },
    {
      "cell_type": "code",
      "source": [
        "# Здесь укажите путь к папке с ноутбуком и датасетом на гугл диске\n",
        "%cd  /content/drive/MyDrive/"
      ],
      "metadata": {
        "id": "lXy1mmQO2FeA",
        "colab": {
          "base_uri": "https://localhost:8080/"
        },
        "outputId": "025408ed-bef3-41c4-d139-8af01ee4a794"
      },
      "execution_count": 2,
      "outputs": [
        {
          "output_type": "stream",
          "name": "stdout",
          "text": [
            "/content/drive/MyDrive\n"
          ]
        }
      ]
    },
    {
      "cell_type": "code",
      "metadata": {
        "id": "r24Ge40hhTh3"
      },
      "source": [
        "import numpy as np\n",
        "import pandas as pd\n",
        "import datetime as dt\n",
        "import matplotlib.pyplot as plt\n",
        "\n",
        "import warnings\n",
        "warnings.filterwarnings(\"ignore\")"
      ],
      "execution_count": 3,
      "outputs": []
    },
    {
      "cell_type": "code",
      "metadata": {
        "id": "fxy64QREncRg",
        "colab": {
          "base_uri": "https://localhost:8080/",
          "height": 206
        },
        "outputId": "09bfbf0b-0e09-4662-abae-dd95ec024a48"
      },
      "source": [
        "# Загрузка датасета\n",
        "credit_data = pd.read_csv('./data_1_in.csv')\n",
        "credit_data.head()"
      ],
      "execution_count": 4,
      "outputs": [
        {
          "output_type": "execute_result",
          "data": {
            "text/html": [
              "\n",
              "  <div id=\"df-1edb07ff-fbca-4aac-a439-a6c18bd6cbf6\">\n",
              "    <div class=\"colab-df-container\">\n",
              "      <div>\n",
              "<style scoped>\n",
              "    .dataframe tbody tr th:only-of-type {\n",
              "        vertical-align: middle;\n",
              "    }\n",
              "\n",
              "    .dataframe tbody tr th {\n",
              "        vertical-align: top;\n",
              "    }\n",
              "\n",
              "    .dataframe thead th {\n",
              "        text-align: right;\n",
              "    }\n",
              "</style>\n",
              "<table border=\"1\" class=\"dataframe\">\n",
              "  <thead>\n",
              "    <tr style=\"text-align: right;\">\n",
              "      <th></th>\n",
              "      <th>ID</th>\n",
              "      <th>MONTHS_BALANCE</th>\n",
              "      <th>STATUS</th>\n",
              "    </tr>\n",
              "  </thead>\n",
              "  <tbody>\n",
              "    <tr>\n",
              "      <th>0</th>\n",
              "      <td>5001711</td>\n",
              "      <td>0</td>\n",
              "      <td>X</td>\n",
              "    </tr>\n",
              "    <tr>\n",
              "      <th>1</th>\n",
              "      <td>5001711</td>\n",
              "      <td>-1</td>\n",
              "      <td>0</td>\n",
              "    </tr>\n",
              "    <tr>\n",
              "      <th>2</th>\n",
              "      <td>5001711</td>\n",
              "      <td>-2</td>\n",
              "      <td>0</td>\n",
              "    </tr>\n",
              "    <tr>\n",
              "      <th>3</th>\n",
              "      <td>5001711</td>\n",
              "      <td>-3</td>\n",
              "      <td>0</td>\n",
              "    </tr>\n",
              "    <tr>\n",
              "      <th>4</th>\n",
              "      <td>5001712</td>\n",
              "      <td>0</td>\n",
              "      <td>C</td>\n",
              "    </tr>\n",
              "  </tbody>\n",
              "</table>\n",
              "</div>\n",
              "      <button class=\"colab-df-convert\" onclick=\"convertToInteractive('df-1edb07ff-fbca-4aac-a439-a6c18bd6cbf6')\"\n",
              "              title=\"Convert this dataframe to an interactive table.\"\n",
              "              style=\"display:none;\">\n",
              "        \n",
              "  <svg xmlns=\"http://www.w3.org/2000/svg\" height=\"24px\"viewBox=\"0 0 24 24\"\n",
              "       width=\"24px\">\n",
              "    <path d=\"M0 0h24v24H0V0z\" fill=\"none\"/>\n",
              "    <path d=\"M18.56 5.44l.94 2.06.94-2.06 2.06-.94-2.06-.94-.94-2.06-.94 2.06-2.06.94zm-11 1L8.5 8.5l.94-2.06 2.06-.94-2.06-.94L8.5 2.5l-.94 2.06-2.06.94zm10 10l.94 2.06.94-2.06 2.06-.94-2.06-.94-.94-2.06-.94 2.06-2.06.94z\"/><path d=\"M17.41 7.96l-1.37-1.37c-.4-.4-.92-.59-1.43-.59-.52 0-1.04.2-1.43.59L10.3 9.45l-7.72 7.72c-.78.78-.78 2.05 0 2.83L4 21.41c.39.39.9.59 1.41.59.51 0 1.02-.2 1.41-.59l7.78-7.78 2.81-2.81c.8-.78.8-2.07 0-2.86zM5.41 20L4 18.59l7.72-7.72 1.47 1.35L5.41 20z\"/>\n",
              "  </svg>\n",
              "      </button>\n",
              "      \n",
              "  <style>\n",
              "    .colab-df-container {\n",
              "      display:flex;\n",
              "      flex-wrap:wrap;\n",
              "      gap: 12px;\n",
              "    }\n",
              "\n",
              "    .colab-df-convert {\n",
              "      background-color: #E8F0FE;\n",
              "      border: none;\n",
              "      border-radius: 50%;\n",
              "      cursor: pointer;\n",
              "      display: none;\n",
              "      fill: #1967D2;\n",
              "      height: 32px;\n",
              "      padding: 0 0 0 0;\n",
              "      width: 32px;\n",
              "    }\n",
              "\n",
              "    .colab-df-convert:hover {\n",
              "      background-color: #E2EBFA;\n",
              "      box-shadow: 0px 1px 2px rgba(60, 64, 67, 0.3), 0px 1px 3px 1px rgba(60, 64, 67, 0.15);\n",
              "      fill: #174EA6;\n",
              "    }\n",
              "\n",
              "    [theme=dark] .colab-df-convert {\n",
              "      background-color: #3B4455;\n",
              "      fill: #D2E3FC;\n",
              "    }\n",
              "\n",
              "    [theme=dark] .colab-df-convert:hover {\n",
              "      background-color: #434B5C;\n",
              "      box-shadow: 0px 1px 3px 1px rgba(0, 0, 0, 0.15);\n",
              "      filter: drop-shadow(0px 1px 2px rgba(0, 0, 0, 0.3));\n",
              "      fill: #FFFFFF;\n",
              "    }\n",
              "  </style>\n",
              "\n",
              "      <script>\n",
              "        const buttonEl =\n",
              "          document.querySelector('#df-1edb07ff-fbca-4aac-a439-a6c18bd6cbf6 button.colab-df-convert');\n",
              "        buttonEl.style.display =\n",
              "          google.colab.kernel.accessAllowed ? 'block' : 'none';\n",
              "\n",
              "        async function convertToInteractive(key) {\n",
              "          const element = document.querySelector('#df-1edb07ff-fbca-4aac-a439-a6c18bd6cbf6');\n",
              "          const dataTable =\n",
              "            await google.colab.kernel.invokeFunction('convertToInteractive',\n",
              "                                                     [key], {});\n",
              "          if (!dataTable) return;\n",
              "\n",
              "          const docLinkHtml = 'Like what you see? Visit the ' +\n",
              "            '<a target=\"_blank\" href=https://colab.research.google.com/notebooks/data_table.ipynb>data table notebook</a>'\n",
              "            + ' to learn more about interactive tables.';\n",
              "          element.innerHTML = '';\n",
              "          dataTable['output_type'] = 'display_data';\n",
              "          await google.colab.output.renderOutput(dataTable, element);\n",
              "          const docLink = document.createElement('div');\n",
              "          docLink.innerHTML = docLinkHtml;\n",
              "          element.appendChild(docLink);\n",
              "        }\n",
              "      </script>\n",
              "    </div>\n",
              "  </div>\n",
              "  "
            ],
            "text/plain": [
              "        ID  MONTHS_BALANCE STATUS\n",
              "0  5001711               0      X\n",
              "1  5001711              -1      0\n",
              "2  5001711              -2      0\n",
              "3  5001711              -3      0\n",
              "4  5001712               0      C"
            ]
          },
          "metadata": {},
          "execution_count": 4
        }
      ]
    },
    {
      "cell_type": "code",
      "source": [
        "credit_data.shape"
      ],
      "metadata": {
        "colab": {
          "base_uri": "https://localhost:8080/"
        },
        "id": "9eD1CaKvcLKJ",
        "outputId": "d0197c2d-3136-4b93-8108-7ea942733da3"
      },
      "execution_count": 5,
      "outputs": [
        {
          "output_type": "execute_result",
          "data": {
            "text/plain": [
              "(1048575, 3)"
            ]
          },
          "metadata": {},
          "execution_count": 5
        }
      ]
    },
    {
      "cell_type": "markdown",
      "metadata": {
        "id": "-m4h5ugFhTiB"
      },
      "source": [
        "# Обработка таблицы с платежеспособностью"
      ]
    },
    {
      "cell_type": "markdown",
      "metadata": {
        "id": "PGMSXQfdJx6f"
      },
      "source": [
        "> Описание полей таблицы:\n",
        "* ID - Идентификатор клиента\t\n",
        "* MONTHS_BALANCE - Номер месяца жизни договора, отсчитывается от текущего: 0 - текущий, -1 предыдущий и т.д. \n",
        "* STATUS - Статус договора:\n",
        "> * 0: 1-29 дней в просрочке\n",
        "> * 1: 30-59 дней в просрочке  \n",
        "> * 2: 60-89 дней в просрочке  \n",
        "> * 3: 90-119 дней в просрочке  \n",
        "> * 4: 120-149 дней в просрочке  \n",
        "> * 5: Просрочка 150 и более дней  \n",
        "> * C: совершен платеж в отчетном месяце \n",
        "> * X: в отчетном месяце нет кредитного договора\n",
        "\n",
        "> Стоит отметить, что в данной задаче у одного клиента может быть только один кредитный договор, если у клиента несколько кредитных договоров, то необходимо проводить их агрегацию с точки зрения просрочки. Чаще всего из текущих просрочек по всем действующим договорам выбирается максимальная просрочка."
      ]
    },
    {
      "cell_type": "markdown",
      "metadata": {
        "id": "LMla2LuPoYjt"
      },
      "source": [
        "Дополним таблицу с платежами столбцами с числовым статусом кредитного договора и флагом дефолта."
      ]
    },
    {
      "cell_type": "code",
      "metadata": {
        "id": "c3bncMoxhTiC"
      },
      "source": [
        "max_days_delay = 3\n",
        "\n",
        "dict_status = {'X' : -2,\n",
        "               'C' : -1,\n",
        "               '0' : 0,\n",
        "               '1' : 1,\n",
        "               '2' : 2,\n",
        "               '3' : 3,\n",
        "               '4' : 4,\n",
        "               '5' : 5\n",
        "              }\n",
        "credit_data['STATUS_NUM'] = credit_data['STATUS'].apply(lambda x: dict_status[x])\n",
        "credit_data['CUR_DEFAULT'] = credit_data['STATUS_NUM'].apply(lambda x: int(x >= max_days_delay))"
      ],
      "execution_count": 6,
      "outputs": []
    },
    {
      "cell_type": "code",
      "metadata": {
        "id": "bWvDrrJJvzWL",
        "colab": {
          "base_uri": "https://localhost:8080/",
          "height": 206
        },
        "outputId": "e92c8626-0c50-4d8c-ae42-2107a0404123"
      },
      "source": [
        "# наша стартовая таблица\n",
        "credit_data.head()"
      ],
      "execution_count": 7,
      "outputs": [
        {
          "output_type": "execute_result",
          "data": {
            "text/html": [
              "\n",
              "  <div id=\"df-f397dcfb-6f4d-4a57-a32f-850aa9fa22e2\">\n",
              "    <div class=\"colab-df-container\">\n",
              "      <div>\n",
              "<style scoped>\n",
              "    .dataframe tbody tr th:only-of-type {\n",
              "        vertical-align: middle;\n",
              "    }\n",
              "\n",
              "    .dataframe tbody tr th {\n",
              "        vertical-align: top;\n",
              "    }\n",
              "\n",
              "    .dataframe thead th {\n",
              "        text-align: right;\n",
              "    }\n",
              "</style>\n",
              "<table border=\"1\" class=\"dataframe\">\n",
              "  <thead>\n",
              "    <tr style=\"text-align: right;\">\n",
              "      <th></th>\n",
              "      <th>ID</th>\n",
              "      <th>MONTHS_BALANCE</th>\n",
              "      <th>STATUS</th>\n",
              "      <th>STATUS_NUM</th>\n",
              "      <th>CUR_DEFAULT</th>\n",
              "    </tr>\n",
              "  </thead>\n",
              "  <tbody>\n",
              "    <tr>\n",
              "      <th>0</th>\n",
              "      <td>5001711</td>\n",
              "      <td>0</td>\n",
              "      <td>X</td>\n",
              "      <td>-2</td>\n",
              "      <td>0</td>\n",
              "    </tr>\n",
              "    <tr>\n",
              "      <th>1</th>\n",
              "      <td>5001711</td>\n",
              "      <td>-1</td>\n",
              "      <td>0</td>\n",
              "      <td>0</td>\n",
              "      <td>0</td>\n",
              "    </tr>\n",
              "    <tr>\n",
              "      <th>2</th>\n",
              "      <td>5001711</td>\n",
              "      <td>-2</td>\n",
              "      <td>0</td>\n",
              "      <td>0</td>\n",
              "      <td>0</td>\n",
              "    </tr>\n",
              "    <tr>\n",
              "      <th>3</th>\n",
              "      <td>5001711</td>\n",
              "      <td>-3</td>\n",
              "      <td>0</td>\n",
              "      <td>0</td>\n",
              "      <td>0</td>\n",
              "    </tr>\n",
              "    <tr>\n",
              "      <th>4</th>\n",
              "      <td>5001712</td>\n",
              "      <td>0</td>\n",
              "      <td>C</td>\n",
              "      <td>-1</td>\n",
              "      <td>0</td>\n",
              "    </tr>\n",
              "  </tbody>\n",
              "</table>\n",
              "</div>\n",
              "      <button class=\"colab-df-convert\" onclick=\"convertToInteractive('df-f397dcfb-6f4d-4a57-a32f-850aa9fa22e2')\"\n",
              "              title=\"Convert this dataframe to an interactive table.\"\n",
              "              style=\"display:none;\">\n",
              "        \n",
              "  <svg xmlns=\"http://www.w3.org/2000/svg\" height=\"24px\"viewBox=\"0 0 24 24\"\n",
              "       width=\"24px\">\n",
              "    <path d=\"M0 0h24v24H0V0z\" fill=\"none\"/>\n",
              "    <path d=\"M18.56 5.44l.94 2.06.94-2.06 2.06-.94-2.06-.94-.94-2.06-.94 2.06-2.06.94zm-11 1L8.5 8.5l.94-2.06 2.06-.94-2.06-.94L8.5 2.5l-.94 2.06-2.06.94zm10 10l.94 2.06.94-2.06 2.06-.94-2.06-.94-.94-2.06-.94 2.06-2.06.94z\"/><path d=\"M17.41 7.96l-1.37-1.37c-.4-.4-.92-.59-1.43-.59-.52 0-1.04.2-1.43.59L10.3 9.45l-7.72 7.72c-.78.78-.78 2.05 0 2.83L4 21.41c.39.39.9.59 1.41.59.51 0 1.02-.2 1.41-.59l7.78-7.78 2.81-2.81c.8-.78.8-2.07 0-2.86zM5.41 20L4 18.59l7.72-7.72 1.47 1.35L5.41 20z\"/>\n",
              "  </svg>\n",
              "      </button>\n",
              "      \n",
              "  <style>\n",
              "    .colab-df-container {\n",
              "      display:flex;\n",
              "      flex-wrap:wrap;\n",
              "      gap: 12px;\n",
              "    }\n",
              "\n",
              "    .colab-df-convert {\n",
              "      background-color: #E8F0FE;\n",
              "      border: none;\n",
              "      border-radius: 50%;\n",
              "      cursor: pointer;\n",
              "      display: none;\n",
              "      fill: #1967D2;\n",
              "      height: 32px;\n",
              "      padding: 0 0 0 0;\n",
              "      width: 32px;\n",
              "    }\n",
              "\n",
              "    .colab-df-convert:hover {\n",
              "      background-color: #E2EBFA;\n",
              "      box-shadow: 0px 1px 2px rgba(60, 64, 67, 0.3), 0px 1px 3px 1px rgba(60, 64, 67, 0.15);\n",
              "      fill: #174EA6;\n",
              "    }\n",
              "\n",
              "    [theme=dark] .colab-df-convert {\n",
              "      background-color: #3B4455;\n",
              "      fill: #D2E3FC;\n",
              "    }\n",
              "\n",
              "    [theme=dark] .colab-df-convert:hover {\n",
              "      background-color: #434B5C;\n",
              "      box-shadow: 0px 1px 3px 1px rgba(0, 0, 0, 0.15);\n",
              "      filter: drop-shadow(0px 1px 2px rgba(0, 0, 0, 0.3));\n",
              "      fill: #FFFFFF;\n",
              "    }\n",
              "  </style>\n",
              "\n",
              "      <script>\n",
              "        const buttonEl =\n",
              "          document.querySelector('#df-f397dcfb-6f4d-4a57-a32f-850aa9fa22e2 button.colab-df-convert');\n",
              "        buttonEl.style.display =\n",
              "          google.colab.kernel.accessAllowed ? 'block' : 'none';\n",
              "\n",
              "        async function convertToInteractive(key) {\n",
              "          const element = document.querySelector('#df-f397dcfb-6f4d-4a57-a32f-850aa9fa22e2');\n",
              "          const dataTable =\n",
              "            await google.colab.kernel.invokeFunction('convertToInteractive',\n",
              "                                                     [key], {});\n",
              "          if (!dataTable) return;\n",
              "\n",
              "          const docLinkHtml = 'Like what you see? Visit the ' +\n",
              "            '<a target=\"_blank\" href=https://colab.research.google.com/notebooks/data_table.ipynb>data table notebook</a>'\n",
              "            + ' to learn more about interactive tables.';\n",
              "          element.innerHTML = '';\n",
              "          dataTable['output_type'] = 'display_data';\n",
              "          await google.colab.output.renderOutput(dataTable, element);\n",
              "          const docLink = document.createElement('div');\n",
              "          docLink.innerHTML = docLinkHtml;\n",
              "          element.appendChild(docLink);\n",
              "        }\n",
              "      </script>\n",
              "    </div>\n",
              "  </div>\n",
              "  "
            ],
            "text/plain": [
              "        ID  MONTHS_BALANCE STATUS  STATUS_NUM  CUR_DEFAULT\n",
              "0  5001711               0      X          -2            0\n",
              "1  5001711              -1      0           0            0\n",
              "2  5001711              -2      0           0            0\n",
              "3  5001711              -3      0           0            0\n",
              "4  5001712               0      C          -1            0"
            ]
          },
          "metadata": {},
          "execution_count": 7
        }
      ]
    },
    {
      "cell_type": "code",
      "source": [
        "credit_data.shape"
      ],
      "metadata": {
        "colab": {
          "base_uri": "https://localhost:8080/"
        },
        "id": "2v7qrCTtb8Kk",
        "outputId": "6ba7e634-708f-44ef-b81b-84d87d352e8d"
      },
      "execution_count": 8,
      "outputs": [
        {
          "output_type": "execute_result",
          "data": {
            "text/plain": [
              "(1048575, 5)"
            ]
          },
          "metadata": {},
          "execution_count": 8
        }
      ]
    },
    {
      "cell_type": "markdown",
      "metadata": {
        "id": "XPnvuGmFhTiD"
      },
      "source": [
        "# Task 1. Построение винтажного анализа."
      ]
    },
    {
      "cell_type": "markdown",
      "metadata": {
        "id": "orBB1EPolgkB"
      },
      "source": [
        "Винтажный анализ позволяет отслеживать состояние кредитного портфеля по поколениям выдач. Поколение можно выделить временными ограничениями (к примеру, одно поколение - все выдачи одного месяца) или причинными эпохами (к примеру, выдачи после внедрения изменений в процесс кредитования или выдачи в кризисный период).\n",
        "\n",
        "В нашем примере поколения будем выделать помесячно.\n",
        "\n",
        "Задание\n",
        "Напишите функцию, которая сформирует DataFrame со следующим набором полей:\n",
        "*  ID - уникальный номер клиента\n",
        "*  MONTHS_BALANCE - текущий месяц\n",
        "*  STATUS - статус платежа клиента в текущем месяце\n",
        "*  STATUS_NUM - статус платежа в числовой шкале\n",
        "*  CUR_DEFAULT - флаг нахождения клиента в дефолте на истории.\n",
        "\n",
        "Алгоритм формирования поля CUR_DEFAULT:\n",
        "*  Если клиент хотя бы раз уходил в дефолт, то флаг для месяца дефолта и всех последующих месяцев принимает значение 1, включая известную историю (0 исходной таблицы меняется на 1 для всех месяцев после первого дефолта);\n",
        "* Если клиент ни разу не уходил в дефолт, то флаг принимает значение 0 для всех месяцев, по которым нам известна история и последующих;\n",
        "* Для месяцев, когда нам неизвестна информация о клиенте, флаг принимает значение NaN (Прошлое для всех клиентов не заполняем)\n",
        "\n",
        "При формировании таблицы следует учесть следующее:\n",
        "\n",
        "* В датафрейме по сделке должны храниться записи по всем месяцам, начиная от месяца, задаваемого параметром функции, до текущего. Стоит отметить, что в таблице credit_data необязательно есть информация по требуемым месяцам;\n",
        "* Для строк с 'дополненными' месяцами поля STATUS и STATUS_NUM должны принимать значение NaN\n",
        "\n",
        "Требуемая таблица формируется функцией.\n",
        "На вход функция принимает:\n",
        "* Таблицу со статусами платежей по клиентам (credit_data)\n",
        "* Ранжированный нумерной список месяцев, для которых необходимо собрать данные\n"
      ]
    },
    {
      "cell_type": "code",
      "source": [
        "from itertools import product\n",
        "\n",
        "\n",
        "def make_vintage_table(input_data, time_list):\n",
        "  res = pd.DataFrame(product(pd.Series(input_data.ID.unique()), pd.Series(time_list)), columns=['ID', 'MONTHS_BALANCE'])\n",
        "  res['STATUS'] = np.nan\n",
        "  res['STATUS_NUM'] = np.nan\n",
        "  res['CUR_DEFAULT'] = np.nan\n",
        "\n",
        "  id_month_input = input_data['MONTHS_BALANCE'].astype(str) + ' ' + input_data['ID'].astype(str)\n",
        "  id_month_output = res['MONTHS_BALANCE'].astype(str) + ' ' + res['ID'].astype(str)\n",
        "  res.loc[id_month_output.isin(id_month_input), 'STATUS'] = list(input_data['STATUS'])\n",
        "  res.loc[id_month_output.isin(id_month_input), 'STATUS_NUM'] = list(input_data['STATUS_NUM'])\n",
        "\n",
        "  first_status = input_data.loc[input_data['STATUS_NUM'].notnull()].groupby('ID')['MONTHS_BALANCE'].min()\n",
        "  res['CUR_DEFAULT'] = res.apply(lambda row: 0 if row['MONTHS_BALANCE'] >= first_status[row['ID']] else np.nan, axis=1)\n",
        "\n",
        "  first_default = pd.DataFrame(index=pd.Series(input_data.ID.unique()))\n",
        "  first_default['default'] = 1\n",
        "  id = pd.Series(input_data.ID.unique())\n",
        "  id_default = id.isin(pd.Series((input_data.loc[input_data['CUR_DEFAULT'] == 1]).ID.unique()))\n",
        "  first_default.loc[id[id_default], 'default'] = input_data.loc[input_data['CUR_DEFAULT'] == 1].groupby('ID')['MONTHS_BALANCE'].min()\n",
        "  first_default[first_default.default != 1]\n",
        "  res['CUR_DEFAULT'] = res.apply(lambda row: 1 if row['MONTHS_BALANCE'] >= first_default.loc[row['ID'], 'default'] else row['CUR_DEFAULT'], axis=1)\n",
        "  return res"
      ],
      "metadata": {
        "id": "YCJOX2oWvcHr"
      },
      "execution_count": 11,
      "outputs": []
    },
    {
      "cell_type": "code",
      "metadata": {
        "id": "5bD-8c6QHCdz"
      },
      "source": [
        "credit_data_vin = make_vintage_table(input_data=credit_data.copy(), time_list=range(0, -61, -1))\n",
        "\n",
        "assert credit_data_vin.shape == (2805085, 5)\n",
        "assert set(credit_data_vin.columns) == {'CUR_DEFAULT','ID','MONTHS_BALANCE','STATUS','STATUS_NUM'}\n",
        "assert credit_data_vin['MONTHS_BALANCE'].sum() == -84152550\n",
        "assert credit_data_vin['STATUS_NUM'].sum() == -837348\n",
        "assert credit_data_vin[credit_data_vin['CUR_DEFAULT'].isna()].shape == (1543556, 5)"
      ],
      "execution_count": 12,
      "outputs": []
    },
    {
      "cell_type": "markdown",
      "metadata": {
        "id": "xrGEPiVMRYKF"
      },
      "source": [
        "Используя таблицу для винтажного анализа, отобразим винтажи для временных срезов: -40, -45, -50, -55"
      ]
    },
    {
      "cell_type": "code",
      "metadata": {
        "id": "kZR3rwg5H4Vc",
        "colab": {
          "base_uri": "https://localhost:8080/",
          "height": 513
        },
        "outputId": "ff40bf27-a7b3-479e-9df1-1d8cbca8c991"
      },
      "source": [
        "start_month = -60\n",
        "\n",
        "fig, ax = plt.subplots(figsize=(10,8))\n",
        "plt.title('Винтажный анализ')\n",
        "\n",
        "def_rate_list = []\n",
        "for start_month in range(-40, -60, -5):\n",
        "    start_id = credit_data_vin[(credit_data_vin['CUR_DEFAULT']==0) & (credit_data_vin['MONTHS_BALANCE']==start_month)]['ID'].drop_duplicates()\n",
        "    temp_df = credit_data_vin[(credit_data_vin['ID'].isin(start_id))&(credit_data_vin['MONTHS_BALANCE']>=start_month)].groupby('MONTHS_BALANCE')['CUR_DEFAULT'].agg(['mean', 'sum']).rename(columns={'mean' : 'DEFAULT_RATE', 'sum' : 'QNT_DEFAULTES'}).reset_index()\n",
        "    plt.plot(range(temp_df.shape[0]), temp_df['DEFAULT_RATE'], label=f'Start point = {start_month}')\n",
        "    def_rate_list.append(max(temp_df['QNT_DEFAULTES'])*0.8/len(start_id))\n",
        "    \n",
        "plt.axhline(max(def_rate_list), ls='-.')\n",
        "plt.axhline(min(def_rate_list), ls='-.')\n",
        "plt.xlabel('Месяц наблюдения от начала')\n",
        "plt.ylabel('Уровень дефолта')\n",
        "plt.legend()\n",
        "plt.show()"
      ],
      "execution_count": null,
      "outputs": [
        {
          "output_type": "display_data",
          "data": {
            "image/png": "[encoded data removed]",
            "text/plain": [
              "<Figure size 720x576 with 1 Axes>"
            ]
          },
          "metadata": {
            "needs_background": "light"
          }
        }
      ]
    },
    {
      "cell_type": "markdown",
      "metadata": {
        "id": "4eT0uDdmSmfD"
      },
      "source": [
        "> На графике пунктирными линиями отделены диапазоны, в которых находятся 80% всех дефолтов (для соотвествующего поколения).\n",
        "\n",
        "> Начиная с определенного месяца наблюдения винтажи выходят на плато. Исходя из этих соображений, в качестве горизонта наблюдения, в данном случае, может быть выбран горизонт равный 15 месяцам."
      ]
    },
    {
      "cell_type": "code",
      "source": [
        ""
      ],
      "metadata": {
        "id": "FA_K8P7D5daF"
      },
      "execution_count": null,
      "outputs": []
    },
    {
      "cell_type": "code",
      "metadata": {
        "id": "8ahOyHG_hTiD"
      },
      "source": [
        "# credit_data_vin[credit_data_vin['ID']==5149192].head(60)"
      ],
      "execution_count": null,
      "outputs": []
    },
    {
      "cell_type": "code",
      "metadata": {
        "id": "pTE0enFphTiE"
      },
      "source": [
        "# credit_data_vin[credit_data_vin['ID']==5150482].head(60)"
      ],
      "execution_count": null,
      "outputs": []
    },
    {
      "cell_type": "markdown",
      "metadata": {
        "id": "xpGOf5VxhTiJ"
      },
      "source": [
        "# Task 2. Формирование витрины целевого события."
      ]
    },
    {
      "cell_type": "markdown",
      "metadata": {
        "id": "jS69JB42h1JF"
      },
      "source": [
        "> Напишите функцию, которая на основе данных о платежах клиентов, сформирует таблицу с целевым событием для каждого платежа клиента на выбранном горизонте.\n",
        "\n",
        "> Горизонт наблюдения - кол-во месяцев, начиная с рассматриваемого, на протяжении которых мы отслеживаем факт дефолта по клиенту.\n",
        "\n",
        "> Целевым событием называется факт выхода клиента в дефолт на рассматриваемом горизонте.\n",
        "\n",
        "> При формировании таблицы целевое событие определяется для каждой записи за исключением:\n",
        "* Месяцев, первого дефолта и последующих (Наблюдений, которые уже побывали в дефолте хотя бы раз);\n",
        "* Месяцев, для которых мы не можем собрать целевое событие (т.е. исключаем записи, для которых 'не набирается' горизонт события) \n",
        "\n",
        "> Описание функции:\n",
        "* На вход принимает:\n",
        "1. Таблицу со статусами платежей по клиентам (credit_data)\n",
        "2. Длину горизонта наблюдения\n",
        "* Возвращает pandas DataFrame со следующими столбцами:\n",
        "1. ID - уникальный номер клиента\t\n",
        "2. MONTHS_BALANCE - текущий месяц\n",
        "3. STATUS - статус платежа клиента в текущем месяце\n",
        "4. STATUS_NUM - статус платежа в числовой шкале\n",
        "5. CUR_DEFAULT - флаг нахождения клиента в дефолте в текущем месяце\n",
        "6. DEFAULT - флаг вхождения клиента в дефолт на горизонте наблюдения\n"
      ]
    },
    {
      "cell_type": "code",
      "source": [
        "def make_target_table(input_data, horizon):\n",
        "  # YOUR CODE HERE\n",
        "    max_months = input_data.groupby('ID')['MONTHS_BALANCE'].max()\n",
        "    min_months = input_data.groupby('ID')['MONTHS_BALANCE'].min()\n",
        "    \n",
        "    default_clients = set(input_data[input_data['CUR_DEFAULT'] == 1]['ID'])\n",
        "\n",
        "    df = input_data.set_index(['ID', 'MONTHS_BALANCE'])\n",
        "    df['DEFAULT'] = 0\n",
        "    for client in default_clients:\n",
        "        default_flag = False\n",
        "        for month in range(min_months[client], max_months[client]+1):\n",
        "            if default_flag:\n",
        "                df.loc[(client, month), 'DEFAULT'] = np.nan\n",
        "                continue\n",
        "                \n",
        "            if df.loc[(client, month), 'CUR_DEFAULT'] == 1:\n",
        "                default_flag = True\n",
        "                df.loc[(client, month), 'DEFAULT'] = np.nan\n",
        "                continue\n",
        "            \n",
        "            if month+horizon > max_months[client]:\n",
        "                df.loc[(client, month), 'DEFAULT'] = np.nan\n",
        "                continue \n",
        "                \n",
        "            if 1 in [df.loc[(client, month+hor), 'CUR_DEFAULT'] for hor in range(1, horizon+1)]:\n",
        "                df.loc[(client, month), 'DEFAULT'] = 1\n",
        "                \n",
        "    non_default_clients = set(input_data['ID']) - default_clients\n",
        "    \n",
        "    drop_idx = [(i,j) for i in non_default_clients \n",
        "                    for j in range(max(max_months[i]-horizon+1, min_months[i]), max_months[i]+1)]\n",
        "    df.loc[drop_idx, 'DEFAULT'] = np.nan\n",
        "    \n",
        "    return df.dropna().reset_index()"
      ],
      "metadata": {
        "id": "UnTknE8ikoQn"
      },
      "execution_count": 13,
      "outputs": []
    },
    {
      "cell_type": "code",
      "metadata": {
        "id": "tgWKZYn3nLFF"
      },
      "source": [
        "credit_data_tar = make_target_table(input_data=credit_data.copy(), horizon=6)\n",
        "\n",
        "assert credit_data_tar.shape == (780417, 6)\n",
        "assert set(credit_data_tar.columns) == {'CUR_DEFAULT', 'DEFAULT', 'ID', 'MONTHS_BALANCE', 'STATUS', 'STATUS_NUM'}\n",
        "assert credit_data_tar['MONTHS_BALANCE'].sum() == -18124141\n",
        "assert credit_data_tar['STATUS_NUM'].sum() == -623532\n",
        "assert credit_data_tar[credit_data_tar['CUR_DEFAULT'].isna()].shape == (0, 6)\n",
        "assert credit_data_tar['CUR_DEFAULT'].sum() == 0\n",
        "assert credit_data_tar['DEFAULT'].sum() == 1668"
      ],
      "execution_count": 14,
      "outputs": []
    },
    {
      "cell_type": "code",
      "metadata": {
        "id": "jPv0fYh8ev6_"
      },
      "source": [
        "# credit_data[credit_data['ID']==5150482].head(60)"
      ],
      "execution_count": null,
      "outputs": []
    },
    {
      "cell_type": "code",
      "metadata": {
        "id": "wZAn-HjwcEAi"
      },
      "source": [
        "# credit_data[credit_data['ID']==5149838].head(60)"
      ],
      "execution_count": null,
      "outputs": []
    },
    {
      "cell_type": "markdown",
      "metadata": {
        "id": "qfdDdFBLhTiL"
      },
      "source": [
        "# Task 3. Проведение roll-rate анализа."
      ]
    },
    {
      "cell_type": "markdown",
      "metadata": {
        "id": "-gfm2_NTsCMT"
      },
      "source": [
        "> Напишите функцию, которая на основе витрины реализованной в п.2, формирует таблицу с информацией о среднем уровне дефолта клиентов в разрезе бакетов просрочки (STATUS) и возрастной группы кредитного договора.\n",
        "\n",
        "> Возрастная группа кредитного договора определяется месяцем жизни кредитного договора в разбивке на несколько бинов. К примеру, если в таблице-источнике по договору есть записи от -20 до -5 месяцев жизни, то каждая запись будет попадать в один из 2х бинов: [-20; -10), [-10; 0) соответсвенно.\n",
        "\n",
        "> Рассмотрим пример расчета уровня дефолта в бакете просрочки '0' и возрастной группе [-10;0):\n",
        "1. Отберем из таблицы источника все записи, у которых STATUS принимает значение '0' в возрастной группе [-10;0)\n",
        "2. Уровень дефолта будет определяться как отношение кол-ва месяцев, когда клиенты были в дефолте к общему кол-ву месяцев из выборки выше.   \n",
        "\n",
        "> Описание функции.\n",
        "\n",
        "> На вход принимает:\n",
        "1. Таблицу с целевым событием на горизонте (credit_data_tar)\n",
        "2. Начало временного периода (start_date)\n",
        "3. Конец временного периода (end_date)\n",
        "4. Длина одного временного среза (period_length)\n",
        "\n",
        "> Возвращает удобную для просмотра сводную таблицу в формате pandas DataFrame:\n",
        "* где названия столбцов совпадают с уникальными значениями в поле STATUS, а для отображения уровня дефолта в разрезе возрастной группы добавляется столбец PERIOD.\t\n",
        "* столбец PERIOD - возрастная группа вида [a, b), где a - дата начала возрастной группы (включительно), b - конец возрастной группы (не включительно)\n",
        "* на пересечении бакета просрочки и возрастной группы находится средний уровень дефолта"
      ]
    },
    {
      "cell_type": "code",
      "metadata": {
        "id": "xMvbtjRUsCkZ"
      },
      "source": [
        "def make_rollrate_table(input_data, start_date, end_date, period_length):\n",
        "  # YOUR CODE HERE\n",
        "  full_length = end_date - start_date\n",
        "  columns = list(input_data['STATUS'].unique()) + ['PERIOD']\n",
        "  periods = []\n",
        "  start = start_date\n",
        "  while start < end_date:\n",
        "      periods.append('[' + str(start) + ', ' + str(min(start + period_length, end_date)) + ')')\n",
        "      start += period_length\n",
        "  res = pd.DataFrame(columns=columns)\n",
        "  res['PERIOD'] = periods\n",
        "  start = start_date\n",
        "  i = 0\n",
        "  statuses = input_data['STATUS'].unique()\n",
        "  while start < end_date:\n",
        "      for status in statuses:\n",
        "          all = input_data[(input_data['STATUS'] == status) & (input_data['MONTHS_BALANCE'] >= start) & (input_data['MONTHS_BALANCE'] < min(start + period_length, end_date))].shape[0]\n",
        "          default = input_data[(input_data['STATUS'] == status) & (input_data['MONTHS_BALANCE'] >= start) & (input_data['MONTHS_BALANCE'] < min(start + period_length, end_date)) & (input_data['DEFAULT'] == 1)].shape[0]\n",
        "          if all == 0:\n",
        "              default_rate = 0\n",
        "          else:\n",
        "              default_rate = default / all\n",
        "          res.loc[i, status] = default_rate\n",
        "      i += 1\n",
        "      start += period_length\n",
        "  return res\n",
        "  \n"
      ],
      "execution_count": 15,
      "outputs": []
    },
    {
      "cell_type": "code",
      "metadata": {
        "id": "WddKJWUBuLVr",
        "colab": {
          "base_uri": "https://localhost:8080/",
          "height": 206
        },
        "outputId": "4149ab25-3b23-4e6a-e541-15f207339245"
      },
      "source": [
        "roll_rate_data = make_rollrate_table(input_data=credit_data_tar.copy(), start_date=-60, end_date=0, period_length=12)\n",
        "display(roll_rate_data)\n",
        "assert roll_rate_data.shape == (5, 6)\n",
        "assert set(roll_rate_data.columns) == {'0', '1', '2', 'C', 'PERIOD', 'X'}\n",
        "assert round(roll_rate_data['0'].sum(), 5) == 0.01634\n",
        "assert round(roll_rate_data['1'].sum(), 5) == 0.238\n",
        "assert round(roll_rate_data['2'].sum(), 5) == 2.19876\n",
        "assert round(roll_rate_data['C'].sum(), 5) == 0\n",
        "assert round(roll_rate_data['X'].sum(), 5) == 0.00845\n",
        "assert set(roll_rate_data['PERIOD']) == {'[-12, 0)', '[-24, -12)', '[-36, -24)', '[-48, -36)', '[-60, -48)'}"
      ],
      "execution_count": 17,
      "outputs": [
        {
          "output_type": "display_data",
          "data": {
            "text/html": [
              "\n",
              "  <div id=\"df-1d25732a-bdb3-4fab-bea2-2a030aab626a\">\n",
              "    <div class=\"colab-df-container\">\n",
              "      <div>\n",
              "<style scoped>\n",
              "    .dataframe tbody tr th:only-of-type {\n",
              "        vertical-align: middle;\n",
              "    }\n",
              "\n",
              "    .dataframe tbody tr th {\n",
              "        vertical-align: top;\n",
              "    }\n",
              "\n",
              "    .dataframe thead th {\n",
              "        text-align: right;\n",
              "    }\n",
              "</style>\n",
              "<table border=\"1\" class=\"dataframe\">\n",
              "  <thead>\n",
              "    <tr style=\"text-align: right;\">\n",
              "      <th></th>\n",
              "      <th>C</th>\n",
              "      <th>0</th>\n",
              "      <th>X</th>\n",
              "      <th>1</th>\n",
              "      <th>2</th>\n",
              "      <th>PERIOD</th>\n",
              "    </tr>\n",
              "  </thead>\n",
              "  <tbody>\n",
              "    <tr>\n",
              "      <th>0</th>\n",
              "      <td>0.0</td>\n",
              "      <td>0.00458</td>\n",
              "      <td>0.004722</td>\n",
              "      <td>0.071984</td>\n",
              "      <td>0.541667</td>\n",
              "      <td>[-60, -48)</td>\n",
              "    </tr>\n",
              "    <tr>\n",
              "      <th>1</th>\n",
              "      <td>0.0</td>\n",
              "      <td>0.004265</td>\n",
              "      <td>0.00162</td>\n",
              "      <td>0.054159</td>\n",
              "      <td>0.45625</td>\n",
              "      <td>[-48, -36)</td>\n",
              "    </tr>\n",
              "    <tr>\n",
              "      <th>2</th>\n",
              "      <td>0.0</td>\n",
              "      <td>0.002486</td>\n",
              "      <td>0.000577</td>\n",
              "      <td>0.050251</td>\n",
              "      <td>0.4</td>\n",
              "      <td>[-36, -24)</td>\n",
              "    </tr>\n",
              "    <tr>\n",
              "      <th>3</th>\n",
              "      <td>0.0</td>\n",
              "      <td>0.002233</td>\n",
              "      <td>0.000785</td>\n",
              "      <td>0.026415</td>\n",
              "      <td>0.362245</td>\n",
              "      <td>[-24, -12)</td>\n",
              "    </tr>\n",
              "    <tr>\n",
              "      <th>4</th>\n",
              "      <td>0.0</td>\n",
              "      <td>0.002779</td>\n",
              "      <td>0.000749</td>\n",
              "      <td>0.035192</td>\n",
              "      <td>0.438596</td>\n",
              "      <td>[-12, 0)</td>\n",
              "    </tr>\n",
              "  </tbody>\n",
              "</table>\n",
              "</div>\n",
              "      <button class=\"colab-df-convert\" onclick=\"convertToInteractive('df-1d25732a-bdb3-4fab-bea2-2a030aab626a')\"\n",
              "              title=\"Convert this dataframe to an interactive table.\"\n",
              "              style=\"display:none;\">\n",
              "        \n",
              "  <svg xmlns=\"http://www.w3.org/2000/svg\" height=\"24px\"viewBox=\"0 0 24 24\"\n",
              "       width=\"24px\">\n",
              "    <path d=\"M0 0h24v24H0V0z\" fill=\"none\"/>\n",
              "    <path d=\"M18.56 5.44l.94 2.06.94-2.06 2.06-.94-2.06-.94-.94-2.06-.94 2.06-2.06.94zm-11 1L8.5 8.5l.94-2.06 2.06-.94-2.06-.94L8.5 2.5l-.94 2.06-2.06.94zm10 10l.94 2.06.94-2.06 2.06-.94-2.06-.94-.94-2.06-.94 2.06-2.06.94z\"/><path d=\"M17.41 7.96l-1.37-1.37c-.4-.4-.92-.59-1.43-.59-.52 0-1.04.2-1.43.59L10.3 9.45l-7.72 7.72c-.78.78-.78 2.05 0 2.83L4 21.41c.39.39.9.59 1.41.59.51 0 1.02-.2 1.41-.59l7.78-7.78 2.81-2.81c.8-.78.8-2.07 0-2.86zM5.41 20L4 18.59l7.72-7.72 1.47 1.35L5.41 20z\"/>\n",
              "  </svg>\n",
              "      </button>\n",
              "      \n",
              "  <style>\n",
              "    .colab-df-container {\n",
              "      display:flex;\n",
              "      flex-wrap:wrap;\n",
              "      gap: 12px;\n",
              "    }\n",
              "\n",
              "    .colab-df-convert {\n",
              "      background-color: #E8F0FE;\n",
              "      border: none;\n",
              "      border-radius: 50%;\n",
              "      cursor: pointer;\n",
              "      display: none;\n",
              "      fill: #1967D2;\n",
              "      height: 32px;\n",
              "      padding: 0 0 0 0;\n",
              "      width: 32px;\n",
              "    }\n",
              "\n",
              "    .colab-df-convert:hover {\n",
              "      background-color: #E2EBFA;\n",
              "      box-shadow: 0px 1px 2px rgba(60, 64, 67, 0.3), 0px 1px 3px 1px rgba(60, 64, 67, 0.15);\n",
              "      fill: #174EA6;\n",
              "    }\n",
              "\n",
              "    [theme=dark] .colab-df-convert {\n",
              "      background-color: #3B4455;\n",
              "      fill: #D2E3FC;\n",
              "    }\n",
              "\n",
              "    [theme=dark] .colab-df-convert:hover {\n",
              "      background-color: #434B5C;\n",
              "      box-shadow: 0px 1px 3px 1px rgba(0, 0, 0, 0.15);\n",
              "      filter: drop-shadow(0px 1px 2px rgba(0, 0, 0, 0.3));\n",
              "      fill: #FFFFFF;\n",
              "    }\n",
              "  </style>\n",
              "\n",
              "      <script>\n",
              "        const buttonEl =\n",
              "          document.querySelector('#df-1d25732a-bdb3-4fab-bea2-2a030aab626a button.colab-df-convert');\n",
              "        buttonEl.style.display =\n",
              "          google.colab.kernel.accessAllowed ? 'block' : 'none';\n",
              "\n",
              "        async function convertToInteractive(key) {\n",
              "          const element = document.querySelector('#df-1d25732a-bdb3-4fab-bea2-2a030aab626a');\n",
              "          const dataTable =\n",
              "            await google.colab.kernel.invokeFunction('convertToInteractive',\n",
              "                                                     [key], {});\n",
              "          if (!dataTable) return;\n",
              "\n",
              "          const docLinkHtml = 'Like what you see? Visit the ' +\n",
              "            '<a target=\"_blank\" href=https://colab.research.google.com/notebooks/data_table.ipynb>data table notebook</a>'\n",
              "            + ' to learn more about interactive tables.';\n",
              "          element.innerHTML = '';\n",
              "          dataTable['output_type'] = 'display_data';\n",
              "          await google.colab.output.renderOutput(dataTable, element);\n",
              "          const docLink = document.createElement('div');\n",
              "          docLink.innerHTML = docLinkHtml;\n",
              "          element.appendChild(docLink);\n",
              "        }\n",
              "      </script>\n",
              "    </div>\n",
              "  </div>\n",
              "  "
            ],
            "text/plain": [
              "     C         0         X         1         2      PERIOD\n",
              "0  0.0   0.00458  0.004722  0.071984  0.541667  [-60, -48)\n",
              "1  0.0  0.004265   0.00162  0.054159   0.45625  [-48, -36)\n",
              "2  0.0  0.002486  0.000577  0.050251       0.4  [-36, -24)\n",
              "3  0.0  0.002233  0.000785  0.026415  0.362245  [-24, -12)\n",
              "4  0.0  0.002779  0.000749  0.035192  0.438596    [-12, 0)"
            ]
          },
          "metadata": {}
        }
      ]
    },
    {
      "cell_type": "markdown",
      "metadata": {
        "id": "QOu8EJzUZb04"
      },
      "source": [
        "Визуализация полученных результатов roll-rate анализа"
      ]
    },
    {
      "cell_type": "code",
      "metadata": {
        "id": "vUvLhqYf6Mrp",
        "colab": {
          "base_uri": "https://localhost:8080/",
          "height": 404
        },
        "outputId": "f1558e53-2feb-4a2f-e2b0-8c8a9e8666c7"
      },
      "source": [
        "ind = np.arange(len(roll_rate_data))\n",
        "width = 0.2\n",
        "\n",
        "fig, ax = plt.subplots(figsize=(8, 6))\n",
        "for i, col in enumerate(roll_rate_data.columns):\n",
        "    if col != 'PERIOD':\n",
        "        ax.bar(ind + i*width, roll_rate_data[col], width, label=col)        \n",
        "\n",
        "ax.set(xticks=ind + 1.5*width, xticklabels=roll_rate_data['PERIOD'], xlim=[3*width - 1, len(roll_rate_data)])\n",
        "ax.set_xlabel('Период')\n",
        "ax.set_ylabel('Уровень дефолта')\n",
        "ax.set_title('Roll-rate анализ')\n",
        "ax.legend()\n",
        "\n",
        "plt.show()"
      ],
      "execution_count": null,
      "outputs": [
        {
          "output_type": "display_data",
          "data": {
            "image/png": "[encoded data removed]",
            "text/plain": [
              "<Figure size 576x432 with 1 Axes>"
            ]
          },
          "metadata": {
            "needs_background": "light"
          }
        }
      ]
    },
    {
      "cell_type": "markdown",
      "metadata": {
        "id": "jgtZXUU9PPSM"
      },
      "source": [
        "Результаты roll-rate анализа говорят нам, что для моделирования необходимо выделить два сегмента:\n",
        "* клиенты, находящиеся в просрочке\n",
        "* клиенты без текущей просрочки\n",
        "уровень дефолта которых значимо различается и следует строить две отдельные модели для разных групп.\n",
        "\n",
        "Данная сегментация производится, чтобы избежать следующей ситуации, когда некоторые атрибуты настолько сильно коррелируют с  целевой переменной, что вклад остальных практически нивелируется. Это приводит к моделям с плохим ранжированием внутри группы с одинаковым значением «главного» атрибута. Как мы сейчас увидели один из таких драйверов в кредитном риске – наличие или длительность просрочки по платежу. "
      ]
    },
    {
      "cell_type": "markdown",
      "metadata": {
        "id": "_yTmWhEOZvQW"
      },
      "source": [
        "Чтобы показать разницу в сегментах полезно отобразить зависимость уровня дефолта от месяца для разных сегментов"
      ]
    },
    {
      "cell_type": "code",
      "metadata": {
        "id": "VoHXCI60Zu-O",
        "colab": {
          "base_uri": "https://localhost:8080/",
          "height": 513
        },
        "outputId": "5a41f053-1058-48ac-b2d1-a1fb410018a2"
      },
      "source": [
        "segment_good = credit_data_tar[credit_data_tar['STATUS'].isin(['X', '0', 'C'])][['ID', 'MONTHS_BALANCE', 'DEFAULT']]\n",
        "segment_bad = credit_data_tar[~credit_data_tar['STATUS'].isin(['X', '0', 'C'])][['ID', 'MONTHS_BALANCE', 'DEFAULT']]\n",
        "\n",
        "segment_good_gr = segment_good.groupby('MONTHS_BALANCE')['DEFAULT'].mean().to_frame()\n",
        "segment_bad_gr = segment_bad.groupby('MONTHS_BALANCE')['DEFAULT'].mean().to_frame()\n",
        "\n",
        "fig, ax1 = plt.subplots(figsize=(12, 8))\n",
        "ax1.set_title('Распределение уровня дефолта по месяцам')\n",
        "ax1.set_xlabel('Месяц наблюдения')\n",
        "ax1.set_ylabel('Уровень дефолта', color='orange')\n",
        "line1, = ax1.plot(segment_good_gr.index, segment_good_gr['DEFAULT'], color='orange')\n",
        "\n",
        "ax1.tick_params(axis='y')\n",
        "ax2 = ax1.twinx()\n",
        "ax2.set_ylabel('Уровень дефолта', color='blue')\n",
        "line2, = ax2.plot(segment_bad_gr.index, segment_bad_gr['DEFAULT'], color='blue')\n",
        "\n",
        "plt.legend((line1, line2), ('Сегмент без просрочки', 'Сегмент с просрочкой'))\n",
        "\n",
        "plt.show()"
      ],
      "execution_count": null,
      "outputs": [
        {
          "output_type": "display_data",
          "data": {
            "image/png": "[encoded data removed]",
            "text/plain": [
              "<Figure size 864x576 with 2 Axes>"
            ]
          },
          "metadata": {
            "needs_background": "light"
          }
        }
      ]
    },
    {
      "cell_type": "markdown",
      "source": [
        "# Заполните, пожалуйста, обратную связь по ДЗ\n",
        "https://forms.gle/AY2Qadf1FBXArCuv7"
      ],
      "metadata": {
        "id": "hqFdyB1xMDzI"
      }
    }
  ]
}