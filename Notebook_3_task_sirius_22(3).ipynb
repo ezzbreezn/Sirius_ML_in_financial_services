{
  "nbformat": 4,
  "nbformat_minor": 0,
  "metadata": {
    "kernelspec": {
      "display_name": "Python 3",
      "language": "python",
      "name": "python3"
    },
    "language_info": {
      "codemirror_mode": {
        "name": "ipython",
        "version": 3
      },
      "file_extension": ".py",
      "mimetype": "text/x-python",
      "name": "python",
      "nbconvert_exporter": "python",
      "pygments_lexer": "ipython3",
      "version": "3.7.6"
    },
    "colab": {
      "name": "Notebook_3_task_sirius_22.ipynb",
      "provenance": [],
      "collapsed_sections": []
    }
  },
  "cells": [
    {
      "cell_type": "code",
      "metadata": {
        "id": "ncL1z_oEypbh"
      },
      "source": [
        "import numpy as np\n",
        "import pandas as pd\n",
        "import sklearn\n",
        "import matplotlib.pyplot as plt\n",
        "import pickle\n",
        "import string\n",
        "import datetime\n",
        "from dateutil.relativedelta import relativedelta\n",
        "\n",
        "from sklearn.metrics import roc_auc_score\n",
        "from sklearn.linear_model import LogisticRegression\n",
        "\n",
        "import re\n",
        "import warnings\n",
        "warnings.filterwarnings(\"ignore\")"
      ],
      "execution_count": 1,
      "outputs": []
    },
    {
      "cell_type": "code",
      "metadata": {
        "id": "9wufokgbypYi",
        "colab": {
          "base_uri": "https://localhost:8080/"
        },
        "outputId": "9fd5620e-0203-4956-92c9-f20cff4d6aac"
      },
      "source": [
        "# Авторизация гугл диска\n",
        "from google.colab import drive\n",
        "drive.mount('/content/drive')"
      ],
      "execution_count": 2,
      "outputs": [
        {
          "output_type": "stream",
          "name": "stdout",
          "text": [
            "Mounted at /content/drive\n"
          ]
        }
      ]
    },
    {
      "cell_type": "code",
      "metadata": {
        "id": "_xa-zks7gSVq",
        "colab": {
          "base_uri": "https://localhost:8080/"
        },
        "outputId": "8ed78232-7de0-4b5e-ac0d-90fcac511b56"
      },
      "source": [
        "%cd /content/drive/MyDrive"
      ],
      "execution_count": 3,
      "outputs": [
        {
          "output_type": "stream",
          "name": "stdout",
          "text": [
            "/content/drive/MyDrive\n"
          ]
        }
      ]
    },
    {
      "cell_type": "code",
      "metadata": {
        "id": "CF3zsbE2Eqac",
        "colab": {
          "base_uri": "https://localhost:8080/",
          "height": 206
        },
        "outputId": "5def7d5c-3995-401c-b137-5284c240cc15"
      },
      "source": [
        "# создаем датасет для проверки функций\n",
        "np.random.seed(42)\n",
        "n = 600\n",
        "assert_data = pd.DataFrame(columns=['id', 'member_id', 'issue_d', 'target', 'test_flg', 'atr_int_1', 'atr_int_2', 'atr_int_3', 'atr_cat_1', 'atr_cat_2', 'atr_cat_3'])\n",
        "assert_data['id'] = range(n)\n",
        "assert_data['member_id'] = range(n)\n",
        "assert_data['issue_d'] = [datetime.datetime.strftime(datetime.date(2000,1,1) + relativedelta(months=d),'%Y-%m-%d') for d in range(60)] * int(n/60)\n",
        "assert_data['target'] = [np.random.randint(2) for i in range(n)]\n",
        "assert_data['test_flg'] = [np.random.randint(2) for i in range(n)]\n",
        "for i in range(1, 4):\n",
        "    assert_data[f'atr_int_{i}'] = np.random.random(n)\n",
        "    assert_data.loc[np.random.randint(0, n, 20), f'atr_int_{i}'] = np.nan\n",
        "    assert_data[f'atr_cat_{i}'] = np.random.random_integers(0, 25, n)\n",
        "    assert_data.loc[np.random.randint(0, n, 20), f'atr_cat_{i}'] = np.nan\n",
        "\n",
        "\n",
        "assert_tech_columns = ['id', 'member_id', 'issue_d', 'target']\n",
        "assert_interrval_features = [f'atr_int_{i}' for i in range(1, 4)]\n",
        "assert_category_features = [f'atr_cat_{i}' for i in range(1, 4)]\n",
        "assert_features = assert_interrval_features + assert_category_features\n",
        "\n",
        "assert_data.head()"
      ],
      "execution_count": 4,
      "outputs": [
        {
          "output_type": "execute_result",
          "data": {
            "text/html": [
              "\n",
              "  <div id=\"df-95eda2e2-ca15-49b3-bb0f-7edb8e9e61c7\">\n",
              "    <div class=\"colab-df-container\">\n",
              "      <div>\n",
              "<style scoped>\n",
              "    .dataframe tbody tr th:only-of-type {\n",
              "        vertical-align: middle;\n",
              "    }\n",
              "\n",
              "    .dataframe tbody tr th {\n",
              "        vertical-align: top;\n",
              "    }\n",
              "\n",
              "    .dataframe thead th {\n",
              "        text-align: right;\n",
              "    }\n",
              "</style>\n",
              "<table border=\"1\" class=\"dataframe\">\n",
              "  <thead>\n",
              "    <tr style=\"text-align: right;\">\n",
              "      <th></th>\n",
              "      <th>id</th>\n",
              "      <th>member_id</th>\n",
              "      <th>issue_d</th>\n",
              "      <th>target</th>\n",
              "      <th>test_flg</th>\n",
              "      <th>atr_int_1</th>\n",
              "      <th>atr_int_2</th>\n",
              "      <th>atr_int_3</th>\n",
              "      <th>atr_cat_1</th>\n",
              "      <th>atr_cat_2</th>\n",
              "      <th>atr_cat_3</th>\n",
              "    </tr>\n",
              "  </thead>\n",
              "  <tbody>\n",
              "    <tr>\n",
              "      <th>0</th>\n",
              "      <td>0</td>\n",
              "      <td>0</td>\n",
              "      <td>2000-01-01</td>\n",
              "      <td>0</td>\n",
              "      <td>0</td>\n",
              "      <td>0.168935</td>\n",
              "      <td>0.603219</td>\n",
              "      <td>0.000135</td>\n",
              "      <td>19.0</td>\n",
              "      <td>13.0</td>\n",
              "      <td>21.0</td>\n",
              "    </tr>\n",
              "    <tr>\n",
              "      <th>1</th>\n",
              "      <td>1</td>\n",
              "      <td>1</td>\n",
              "      <td>2000-02-01</td>\n",
              "      <td>1</td>\n",
              "      <td>1</td>\n",
              "      <td>0.278590</td>\n",
              "      <td>0.337227</td>\n",
              "      <td>0.511129</td>\n",
              "      <td>1.0</td>\n",
              "      <td>8.0</td>\n",
              "      <td>21.0</td>\n",
              "    </tr>\n",
              "    <tr>\n",
              "      <th>2</th>\n",
              "      <td>2</td>\n",
              "      <td>2</td>\n",
              "      <td>2000-03-01</td>\n",
              "      <td>0</td>\n",
              "      <td>1</td>\n",
              "      <td>0.177010</td>\n",
              "      <td>0.905525</td>\n",
              "      <td>0.046852</td>\n",
              "      <td>14.0</td>\n",
              "      <td>22.0</td>\n",
              "      <td>0.0</td>\n",
              "    </tr>\n",
              "    <tr>\n",
              "      <th>3</th>\n",
              "      <td>3</td>\n",
              "      <td>3</td>\n",
              "      <td>2000-04-01</td>\n",
              "      <td>0</td>\n",
              "      <td>1</td>\n",
              "      <td>0.088703</td>\n",
              "      <td>0.772623</td>\n",
              "      <td>0.276170</td>\n",
              "      <td>13.0</td>\n",
              "      <td>24.0</td>\n",
              "      <td>16.0</td>\n",
              "    </tr>\n",
              "    <tr>\n",
              "      <th>4</th>\n",
              "      <td>4</td>\n",
              "      <td>4</td>\n",
              "      <td>2000-05-01</td>\n",
              "      <td>0</td>\n",
              "      <td>0</td>\n",
              "      <td>0.120636</td>\n",
              "      <td>0.264895</td>\n",
              "      <td>0.706976</td>\n",
              "      <td>19.0</td>\n",
              "      <td>18.0</td>\n",
              "      <td>10.0</td>\n",
              "    </tr>\n",
              "  </tbody>\n",
              "</table>\n",
              "</div>\n",
              "      <button class=\"colab-df-convert\" onclick=\"convertToInteractive('df-95eda2e2-ca15-49b3-bb0f-7edb8e9e61c7')\"\n",
              "              title=\"Convert this dataframe to an interactive table.\"\n",
              "              style=\"display:none;\">\n",
              "        \n",
              "  <svg xmlns=\"http://www.w3.org/2000/svg\" height=\"24px\"viewBox=\"0 0 24 24\"\n",
              "       width=\"24px\">\n",
              "    <path d=\"M0 0h24v24H0V0z\" fill=\"none\"/>\n",
              "    <path d=\"M18.56 5.44l.94 2.06.94-2.06 2.06-.94-2.06-.94-.94-2.06-.94 2.06-2.06.94zm-11 1L8.5 8.5l.94-2.06 2.06-.94-2.06-.94L8.5 2.5l-.94 2.06-2.06.94zm10 10l.94 2.06.94-2.06 2.06-.94-2.06-.94-.94-2.06-.94 2.06-2.06.94z\"/><path d=\"M17.41 7.96l-1.37-1.37c-.4-.4-.92-.59-1.43-.59-.52 0-1.04.2-1.43.59L10.3 9.45l-7.72 7.72c-.78.78-.78 2.05 0 2.83L4 21.41c.39.39.9.59 1.41.59.51 0 1.02-.2 1.41-.59l7.78-7.78 2.81-2.81c.8-.78.8-2.07 0-2.86zM5.41 20L4 18.59l7.72-7.72 1.47 1.35L5.41 20z\"/>\n",
              "  </svg>\n",
              "      </button>\n",
              "      \n",
              "  <style>\n",
              "    .colab-df-container {\n",
              "      display:flex;\n",
              "      flex-wrap:wrap;\n",
              "      gap: 12px;\n",
              "    }\n",
              "\n",
              "    .colab-df-convert {\n",
              "      background-color: #E8F0FE;\n",
              "      border: none;\n",
              "      border-radius: 50%;\n",
              "      cursor: pointer;\n",
              "      display: none;\n",
              "      fill: #1967D2;\n",
              "      height: 32px;\n",
              "      padding: 0 0 0 0;\n",
              "      width: 32px;\n",
              "    }\n",
              "\n",
              "    .colab-df-convert:hover {\n",
              "      background-color: #E2EBFA;\n",
              "      box-shadow: 0px 1px 2px rgba(60, 64, 67, 0.3), 0px 1px 3px 1px rgba(60, 64, 67, 0.15);\n",
              "      fill: #174EA6;\n",
              "    }\n",
              "\n",
              "    [theme=dark] .colab-df-convert {\n",
              "      background-color: #3B4455;\n",
              "      fill: #D2E3FC;\n",
              "    }\n",
              "\n",
              "    [theme=dark] .colab-df-convert:hover {\n",
              "      background-color: #434B5C;\n",
              "      box-shadow: 0px 1px 3px 1px rgba(0, 0, 0, 0.15);\n",
              "      filter: drop-shadow(0px 1px 2px rgba(0, 0, 0, 0.3));\n",
              "      fill: #FFFFFF;\n",
              "    }\n",
              "  </style>\n",
              "\n",
              "      <script>\n",
              "        const buttonEl =\n",
              "          document.querySelector('#df-95eda2e2-ca15-49b3-bb0f-7edb8e9e61c7 button.colab-df-convert');\n",
              "        buttonEl.style.display =\n",
              "          google.colab.kernel.accessAllowed ? 'block' : 'none';\n",
              "\n",
              "        async function convertToInteractive(key) {\n",
              "          const element = document.querySelector('#df-95eda2e2-ca15-49b3-bb0f-7edb8e9e61c7');\n",
              "          const dataTable =\n",
              "            await google.colab.kernel.invokeFunction('convertToInteractive',\n",
              "                                                     [key], {});\n",
              "          if (!dataTable) return;\n",
              "\n",
              "          const docLinkHtml = 'Like what you see? Visit the ' +\n",
              "            '<a target=\"_blank\" href=https://colab.research.google.com/notebooks/data_table.ipynb>data table notebook</a>'\n",
              "            + ' to learn more about interactive tables.';\n",
              "          element.innerHTML = '';\n",
              "          dataTable['output_type'] = 'display_data';\n",
              "          await google.colab.output.renderOutput(dataTable, element);\n",
              "          const docLink = document.createElement('div');\n",
              "          docLink.innerHTML = docLinkHtml;\n",
              "          element.appendChild(docLink);\n",
              "        }\n",
              "      </script>\n",
              "    </div>\n",
              "  </div>\n",
              "  "
            ],
            "text/plain": [
              "   id  member_id     issue_d  target  test_flg  atr_int_1  atr_int_2  \\\n",
              "0   0          0  2000-01-01       0         0   0.168935   0.603219   \n",
              "1   1          1  2000-02-01       1         1   0.278590   0.337227   \n",
              "2   2          2  2000-03-01       0         1   0.177010   0.905525   \n",
              "3   3          3  2000-04-01       0         1   0.088703   0.772623   \n",
              "4   4          4  2000-05-01       0         0   0.120636   0.264895   \n",
              "\n",
              "   atr_int_3  atr_cat_1  atr_cat_2  atr_cat_3  \n",
              "0   0.000135       19.0       13.0       21.0  \n",
              "1   0.511129        1.0        8.0       21.0  \n",
              "2   0.046852       14.0       22.0        0.0  \n",
              "3   0.276170       13.0       24.0       16.0  \n",
              "4   0.706976       19.0       18.0       10.0  "
            ]
          },
          "metadata": {},
          "execution_count": 4
        }
      ]
    },
    {
      "cell_type": "markdown",
      "metadata": {
        "id": "tzwfoQ6ow59M"
      },
      "source": [
        "# Загрузка датасета"
      ]
    },
    {
      "cell_type": "markdown",
      "metadata": {
        "id": "_aIIalcLyWZB"
      },
      "source": [
        "Описание полей датасета в файле: LCDataDictionary.xlsx (надо отредактировать файл, возможно там есть лишние столбцы)"
      ]
    },
    {
      "cell_type": "code",
      "metadata": {
        "id": "8xpM1sPQyajC",
        "colab": {
          "base_uri": "https://localhost:8080/",
          "height": 223
        },
        "outputId": "dbc6d70f-7a47-4b88-a980-e4bbd95a92a5"
      },
      "source": [
        "data_backup = pd.read_csv('./dataset_2_out.csv')\n",
        "print(data_backup.shape)\n",
        "data_backup.head(2)"
      ],
      "execution_count": 5,
      "outputs": [
        {
          "output_type": "stream",
          "name": "stdout",
          "text": [
            "(459681, 49)\n"
          ]
        },
        {
          "output_type": "execute_result",
          "data": {
            "text/html": [
              "\n",
              "  <div id=\"df-cb9bbbdc-fd0a-480d-85db-deb7c77fffd1\">\n",
              "    <div class=\"colab-df-container\">\n",
              "      <div>\n",
              "<style scoped>\n",
              "    .dataframe tbody tr th:only-of-type {\n",
              "        vertical-align: middle;\n",
              "    }\n",
              "\n",
              "    .dataframe tbody tr th {\n",
              "        vertical-align: top;\n",
              "    }\n",
              "\n",
              "    .dataframe thead th {\n",
              "        text-align: right;\n",
              "    }\n",
              "</style>\n",
              "<table border=\"1\" class=\"dataframe\">\n",
              "  <thead>\n",
              "    <tr style=\"text-align: right;\">\n",
              "      <th></th>\n",
              "      <th>id</th>\n",
              "      <th>member_id</th>\n",
              "      <th>loan_amnt</th>\n",
              "      <th>funded_amnt</th>\n",
              "      <th>funded_amnt_inv</th>\n",
              "      <th>term</th>\n",
              "      <th>int_rate</th>\n",
              "      <th>installment</th>\n",
              "      <th>grade</th>\n",
              "      <th>sub_grade</th>\n",
              "      <th>...</th>\n",
              "      <th>last_pymnt_amnt</th>\n",
              "      <th>collections_12_mths_ex_med</th>\n",
              "      <th>mths_since_last_major_derog</th>\n",
              "      <th>application_type</th>\n",
              "      <th>acc_now_delinq</th>\n",
              "      <th>tot_coll_amt</th>\n",
              "      <th>tot_cur_bal</th>\n",
              "      <th>total_rev_hi_lim</th>\n",
              "      <th>target</th>\n",
              "      <th>test_flg</th>\n",
              "    </tr>\n",
              "  </thead>\n",
              "  <tbody>\n",
              "    <tr>\n",
              "      <th>0</th>\n",
              "      <td>1077501</td>\n",
              "      <td>1296599</td>\n",
              "      <td>5000</td>\n",
              "      <td>5000</td>\n",
              "      <td>4975.0</td>\n",
              "      <td>0</td>\n",
              "      <td>10.65</td>\n",
              "      <td>162.87</td>\n",
              "      <td>1</td>\n",
              "      <td>6</td>\n",
              "      <td>...</td>\n",
              "      <td>171.62</td>\n",
              "      <td>0.0</td>\n",
              "      <td>NaN</td>\n",
              "      <td>0</td>\n",
              "      <td>0.0</td>\n",
              "      <td>NaN</td>\n",
              "      <td>NaN</td>\n",
              "      <td>NaN</td>\n",
              "      <td>0</td>\n",
              "      <td>0</td>\n",
              "    </tr>\n",
              "    <tr>\n",
              "      <th>1</th>\n",
              "      <td>1077430</td>\n",
              "      <td>1314167</td>\n",
              "      <td>2500</td>\n",
              "      <td>2500</td>\n",
              "      <td>2500.0</td>\n",
              "      <td>1</td>\n",
              "      <td>15.27</td>\n",
              "      <td>59.83</td>\n",
              "      <td>2</td>\n",
              "      <td>13</td>\n",
              "      <td>...</td>\n",
              "      <td>119.66</td>\n",
              "      <td>0.0</td>\n",
              "      <td>NaN</td>\n",
              "      <td>0</td>\n",
              "      <td>0.0</td>\n",
              "      <td>NaN</td>\n",
              "      <td>NaN</td>\n",
              "      <td>NaN</td>\n",
              "      <td>1</td>\n",
              "      <td>0</td>\n",
              "    </tr>\n",
              "  </tbody>\n",
              "</table>\n",
              "<p>2 rows × 49 columns</p>\n",
              "</div>\n",
              "      <button class=\"colab-df-convert\" onclick=\"convertToInteractive('df-cb9bbbdc-fd0a-480d-85db-deb7c77fffd1')\"\n",
              "              title=\"Convert this dataframe to an interactive table.\"\n",
              "              style=\"display:none;\">\n",
              "        \n",
              "  <svg xmlns=\"http://www.w3.org/2000/svg\" height=\"24px\"viewBox=\"0 0 24 24\"\n",
              "       width=\"24px\">\n",
              "    <path d=\"M0 0h24v24H0V0z\" fill=\"none\"/>\n",
              "    <path d=\"M18.56 5.44l.94 2.06.94-2.06 2.06-.94-2.06-.94-.94-2.06-.94 2.06-2.06.94zm-11 1L8.5 8.5l.94-2.06 2.06-.94-2.06-.94L8.5 2.5l-.94 2.06-2.06.94zm10 10l.94 2.06.94-2.06 2.06-.94-2.06-.94-.94-2.06-.94 2.06-2.06.94z\"/><path d=\"M17.41 7.96l-1.37-1.37c-.4-.4-.92-.59-1.43-.59-.52 0-1.04.2-1.43.59L10.3 9.45l-7.72 7.72c-.78.78-.78 2.05 0 2.83L4 21.41c.39.39.9.59 1.41.59.51 0 1.02-.2 1.41-.59l7.78-7.78 2.81-2.81c.8-.78.8-2.07 0-2.86zM5.41 20L4 18.59l7.72-7.72 1.47 1.35L5.41 20z\"/>\n",
              "  </svg>\n",
              "      </button>\n",
              "      \n",
              "  <style>\n",
              "    .colab-df-container {\n",
              "      display:flex;\n",
              "      flex-wrap:wrap;\n",
              "      gap: 12px;\n",
              "    }\n",
              "\n",
              "    .colab-df-convert {\n",
              "      background-color: #E8F0FE;\n",
              "      border: none;\n",
              "      border-radius: 50%;\n",
              "      cursor: pointer;\n",
              "      display: none;\n",
              "      fill: #1967D2;\n",
              "      height: 32px;\n",
              "      padding: 0 0 0 0;\n",
              "      width: 32px;\n",
              "    }\n",
              "\n",
              "    .colab-df-convert:hover {\n",
              "      background-color: #E2EBFA;\n",
              "      box-shadow: 0px 1px 2px rgba(60, 64, 67, 0.3), 0px 1px 3px 1px rgba(60, 64, 67, 0.15);\n",
              "      fill: #174EA6;\n",
              "    }\n",
              "\n",
              "    [theme=dark] .colab-df-convert {\n",
              "      background-color: #3B4455;\n",
              "      fill: #D2E3FC;\n",
              "    }\n",
              "\n",
              "    [theme=dark] .colab-df-convert:hover {\n",
              "      background-color: #434B5C;\n",
              "      box-shadow: 0px 1px 3px 1px rgba(0, 0, 0, 0.15);\n",
              "      filter: drop-shadow(0px 1px 2px rgba(0, 0, 0, 0.3));\n",
              "      fill: #FFFFFF;\n",
              "    }\n",
              "  </style>\n",
              "\n",
              "      <script>\n",
              "        const buttonEl =\n",
              "          document.querySelector('#df-cb9bbbdc-fd0a-480d-85db-deb7c77fffd1 button.colab-df-convert');\n",
              "        buttonEl.style.display =\n",
              "          google.colab.kernel.accessAllowed ? 'block' : 'none';\n",
              "\n",
              "        async function convertToInteractive(key) {\n",
              "          const element = document.querySelector('#df-cb9bbbdc-fd0a-480d-85db-deb7c77fffd1');\n",
              "          const dataTable =\n",
              "            await google.colab.kernel.invokeFunction('convertToInteractive',\n",
              "                                                     [key], {});\n",
              "          if (!dataTable) return;\n",
              "\n",
              "          const docLinkHtml = 'Like what you see? Visit the ' +\n",
              "            '<a target=\"_blank\" href=https://colab.research.google.com/notebooks/data_table.ipynb>data table notebook</a>'\n",
              "            + ' to learn more about interactive tables.';\n",
              "          element.innerHTML = '';\n",
              "          dataTable['output_type'] = 'display_data';\n",
              "          await google.colab.output.renderOutput(dataTable, element);\n",
              "          const docLink = document.createElement('div');\n",
              "          docLink.innerHTML = docLinkHtml;\n",
              "          element.appendChild(docLink);\n",
              "        }\n",
              "      </script>\n",
              "    </div>\n",
              "  </div>\n",
              "  "
            ],
            "text/plain": [
              "        id  member_id  loan_amnt  funded_amnt  funded_amnt_inv  term  \\\n",
              "0  1077501    1296599       5000         5000           4975.0     0   \n",
              "1  1077430    1314167       2500         2500           2500.0     1   \n",
              "\n",
              "   int_rate  installment  grade  sub_grade  ...  last_pymnt_amnt  \\\n",
              "0     10.65       162.87      1          6  ...           171.62   \n",
              "1     15.27        59.83      2         13  ...           119.66   \n",
              "\n",
              "   collections_12_mths_ex_med  mths_since_last_major_derog  application_type  \\\n",
              "0                         0.0                          NaN                 0   \n",
              "1                         0.0                          NaN                 0   \n",
              "\n",
              "   acc_now_delinq tot_coll_amt  tot_cur_bal  total_rev_hi_lim  target  \\\n",
              "0             0.0          NaN          NaN               NaN       0   \n",
              "1             0.0          NaN          NaN               NaN       1   \n",
              "\n",
              "   test_flg  \n",
              "0         0  \n",
              "1         0  \n",
              "\n",
              "[2 rows x 49 columns]"
            ]
          },
          "metadata": {},
          "execution_count": 5
        }
      ]
    },
    {
      "cell_type": "code",
      "metadata": {
        "id": "FKaNZJ8vyabo"
      },
      "source": [
        "data = data_backup.copy()"
      ],
      "execution_count": 6,
      "outputs": []
    },
    {
      "cell_type": "markdown",
      "metadata": {
        "id": "aeVuojzA3kex"
      },
      "source": [
        "Сформируем списки технических, категориальных и интервальных атрибутов"
      ]
    },
    {
      "cell_type": "code",
      "metadata": {
        "id": "0l5wD5Id3u9X",
        "colab": {
          "base_uri": "https://localhost:8080/"
        },
        "outputId": "08ff04cf-7681-4630-e561-5ecdeabd872f"
      },
      "source": [
        "# Список технических полей\n",
        "tech_columns = ['id', 'member_id', 'issue_d', 'target', 'test_flg']\n",
        "print(f\"Количество технических атрибутов: {len(tech_columns)}\")\n",
        "\n",
        "# Список категориальных атрибутов\n",
        "with open('./category_features.pickle', 'rb') as f:\n",
        "    category_features = pickle.load(f)\n",
        "print(f\"Количество категориальных атрибутов: {len(category_features)}\")\n",
        "\n",
        "# Список интервальных атрибутов\n",
        "interrval_features = list(set(data.columns) - set(tech_columns) - set(category_features))\n",
        "print(f\"Количество интервальных атрибутов: {len(interrval_features)}\")\n",
        "\n",
        "# Список всех атрибутов: категориальные + интервальные\n",
        "features = interrval_features + category_features\n",
        "print(f\"Общее количество атрибутов: {len(features)}\")"
      ],
      "execution_count": 7,
      "outputs": [
        {
          "output_type": "stream",
          "name": "stdout",
          "text": [
            "Количество технических атрибутов: 5\n",
            "Количество категориальных атрибутов: 12\n",
            "Количество интервальных атрибутов: 32\n",
            "Общее количество атрибутов: 44\n"
          ]
        }
      ]
    },
    {
      "cell_type": "markdown",
      "metadata": {
        "id": "3hW9p7BTw59N"
      },
      "source": [
        "# Task 1. Биннинг атрибутов."
      ]
    },
    {
      "cell_type": "markdown",
      "metadata": {
        "id": "C2uqQbCRj8QP"
      },
      "source": [
        "## Task 1-a\n",
        "> Реализуйте функцию, которая бинаризует каждый интервальный атрибут.\n",
        "\n",
        "> При реализации функции учтите следующее:\n",
        "* Для реализации бининга воспользуйтесь pandas.qcut\n",
        "* В словарь не добавляйте первую и последнюю границы, полученные функцией pandas.qcut\n",
        "* Бининг производится только на заполненных наблюдениях\n",
        "\n",
        "> Описание функции:\n",
        "* На вход принимает:\n",
        "1. data_ - датасет со всеми столбцами\n",
        "2. interval_attributes - список интервальных атрибутов\n",
        "3. category_attributes - список категориальных атрибутов\n",
        "4. num_bins - количество бинов, на которые надо разбить значения атрибутов\n",
        "* Возвращает словарь, ключами которого являются названия атрибутов, а значениями список из границ бинов"
      ]
    },
    {
      "cell_type": "code",
      "metadata": {
        "id": "OMUdko6DSopW"
      },
      "source": [
        "def calc_binning(data_, interval_attributes, num_bins):\n",
        "    # YOUR CODE HERE\n",
        "    bins = {}\n",
        "    for attr in interval_attributes:\n",
        "        boundaries = []\n",
        "        for boundary in pd.qcut(data_[attr], q=num_bins, precision=5, duplicates='drop').value_counts().index:\n",
        "            boundaries.append(boundary.right)\n",
        "        bins.update({attr: np.unique(sorted(boundaries))[:-1]})\n",
        "    return bins"
      ],
      "execution_count": 8,
      "outputs": []
    },
    {
      "cell_type": "code",
      "metadata": {
        "id": "gluR3DLUL-Y7"
      },
      "source": [
        "# Проверяем реализацию функции\n",
        "assert_binning_dict = calc_binning(data_=assert_data[assert_data['test_flg']==0].copy(),\n",
        "                                   interval_attributes=assert_interrval_features,\n",
        "                                   num_bins=10\n",
        "                                   )\n",
        "\n",
        "assert len(assert_binning_dict.keys()) == 3\n",
        "res = 0\n",
        "res_1 = 0\n",
        "res__1 = 0\n",
        "for col in assert_binning_dict.keys():\n",
        "    res += assert_binning_dict[col].sum()\n",
        "    res_1 += assert_binning_dict[col][0]\n",
        "    res__1 += assert_binning_dict[col][-1]\n",
        "assert round(res, 5) == 13.09998\n",
        "assert round(res_1, 5) == 0.26374\n",
        "assert round(res__1, 5) == 2.66354"
      ],
      "execution_count": 9,
      "outputs": []
    },
    {
      "cell_type": "code",
      "metadata": {
        "id": "O74u6SV3S-Xf",
        "colab": {
          "base_uri": "https://localhost:8080/"
        },
        "outputId": "1997afcb-64b4-4df9-fff4-c1d577b7f432"
      },
      "source": [
        "%%time\n",
        "# Применяем функцию к целевой таблице\n",
        "binning_dict = calc_binning(data_=data[data['test_flg']==0].copy(),\n",
        "                            interval_attributes=interrval_features,\n",
        "                            num_bins=10\n",
        "                            )"
      ],
      "execution_count": 10,
      "outputs": [
        {
          "output_type": "stream",
          "name": "stdout",
          "text": [
            "CPU times: user 1.33 s, sys: 19.2 ms, total: 1.35 s\n",
            "Wall time: 1.98 s\n"
          ]
        }
      ]
    },
    {
      "cell_type": "markdown",
      "metadata": {
        "id": "JwOhatGGmQ66"
      },
      "source": [
        "## Task 1-b\n",
        "> Реализуйте функцию, которая по каждому значению атрибута проставляет каждому наблюдению номер группы в зависимости от значения атрибута.\n",
        "\n",
        "> При реализации функции учтите следующее:\n",
        "* Для интервальных атрибутов:\n",
        "1. Бины состоят из полуинтервалов вида: '(board_X, board_Y]'\n",
        "1. Если не удалось разбинить атрибут (все наблюдения попадают в один бин), то всем наблюдениям присваивается номер группы: '(-inf, +inf)'\n",
        "2. Если наблюдение принадлежит первому или последнему бину, то номер группы должен выглядеть следующим образом: '(-inf, board_1]' и '(board_N, +inf)', соответственно\n",
        "3. Все случаи пропсуков должны быть выделены в отдельный бин с названием 'MISSING'\n",
        "* Для категориальных атрибутов: будем использовать самый простой вариант биннинга - каждое значение категориального атрибута является своим номером группы \n",
        "\n",
        "Имена столбцов с номерами групп должны иметь имена формата: 'GRP_col', где col - имя атрибута\n",
        "Приведите номера групп в строковый формат (str).\n",
        "\n",
        "> Описание функции:\n",
        "* На вход принимает:\n",
        "1. data_ - датасет со всеми столбцами\n",
        "2. interval_attributes - список интервальных атрибутов\n",
        "3. category_attributes - список категориальных атрибутов\n",
        "4. dict_binning - словарь бининга, полученный из предыдущей функции\n",
        "* Возвращает pandas.DataFrame с идентичными полями, что и исходный датафрейм + дополняет его именами групп ('GRP_col') для каждого атрибута"
      ]
    },
    {
      "cell_type": "code",
      "source": [
        "def make_grps(data_, interval_attributes, category_attributes, dict_binning):\n",
        "    data_out = data_.copy()\n",
        "    for cat_col in category_attributes:\n",
        "        data_out['GRP_' + str(cat_col)] = data_out[cat_col].astype(str)\n",
        "        data_out.loc[:, 'GRP_' + cat_col] = data_out['GRP_' + cat_col].fillna('MISSING')\n",
        "    cool_binning_dict = dict_binning.copy()\n",
        "    for key in cool_binning_dict:\n",
        "        l = [-np.inf]\n",
        "        l.extend(list(cool_binning_dict[key]))\n",
        "        l.extend([+np.inf])\n",
        "        cool_binning_dict[key] = l\n",
        "    for tobin_col in interval_attributes:\n",
        "        ref_list = cool_binning_dict[tobin_col]\n",
        "        data_out.loc[(data_out[tobin_col] >= ref_list[0]) & (data_out[tobin_col] < ref_list[1]), 'GRP_' + tobin_col] = '(-inf, ' + str(ref_list[1]) + ']'\n",
        "        for idx in range(2, len(ref_list) - 1):\n",
        "            data_out.loc[(data_out[tobin_col] >= ref_list[idx - 1]) & (data_out[tobin_col] < ref_list[idx]), 'GRP_' + tobin_col] = '(' + str(ref_list[idx - 1]) +', ' + str(ref_list[idx]) +']'\n",
        "        data_out.loc[(data_out[tobin_col] >= ref_list[-2]) & (data_out[tobin_col] < ref_list[-1]), 'GRP_' + tobin_col] = '(' + str(ref_list[-2]) + ', +inf)'\n",
        "        data_out.loc[:, 'GRP_' + tobin_col] = data_out['GRP_' + tobin_col].fillna('MISSING')\n",
        "    return data_out"
      ],
      "metadata": {
        "id": "lTZy7WktD7PM"
      },
      "execution_count": 13,
      "outputs": []
    },
    {
      "cell_type": "code",
      "metadata": {
        "id": "LfJbW4_wQj7i",
        "colab": {
          "base_uri": "https://localhost:8080/",
          "height": 254
        },
        "outputId": "5f85241a-31d6-4e24-f76c-aa56ea032080"
      },
      "source": [
        "# Проверяем реализацию функции\n",
        "assert_data_binned = make_grps(data_= assert_data.copy(), \n",
        "                               interval_attributes = assert_interrval_features, \n",
        "                               category_attributes = assert_category_features, \n",
        "                               dict_binning = assert_binning_dict\n",
        "                               )\n",
        "\n",
        "assert assert_data_binned.shape == (600, 17)\n",
        "re1 = r\"^\\(\\-inf, \\+inf\\)$\"\n",
        "re2 = \"^\\([-+]?[0-9]*[.]?[0-9]+, \\+inf\\)$\"\n",
        "re3 = \"^\\(\\-inf, [-+]?[0-9]*[.]?[0-9]+\\]$\"\n",
        "re4 = \"^\\([-+]?[0-9]*[.]?[0-9]+, [-+]?[0-9]*[.]?[0-9]+\\]$\"\n",
        "re5 = \"^MISSING$\"\n",
        "generic_re = re.compile(\"(%s|%s|%s|%s|%s)\" % (re1, re2, re3, re4, re5))\n",
        "flg_assert = True\n",
        "for i in range(1, 4):\n",
        "    col = f'GRP_atr_int_{i}'\n",
        "    flg_assert = flg_assert * (np.sum(assert_data_binned[col].str.fullmatch(generic_re)) == assert_data_binned.shape[0])\n",
        "assert flg_assert\n",
        "\n",
        "res_int = 0\n",
        "res_cat = 0\n",
        "for i in range(1, 4):\n",
        "    col = f'GRP_atr_int_{i}'\n",
        "    res_int += np.hstack(assert_data_binned[col].apply(lambda x: np.array(re.findall('[-+]?[0-9]*[.]?[0-9]+', x), dtype=float))).sum()\n",
        "    col = f'GRP_atr_cat_{i}'\n",
        "    res_cat += np.hstack(assert_data_binned[col].apply(lambda x: np.array(re.findall('[-+]?[0-9]*[.]?[0-9]+', x), dtype=float))).sum()\n",
        "\n",
        "print(round(res_int, 5))\n",
        "assert round(res_int, 5) == 1530.37743\n",
        "assert round(res_cat, 5) == 22074.0\n",
        "\n",
        "#Тут небольшое расхождение"
      ],
      "execution_count": 45,
      "outputs": [
        {
          "output_type": "stream",
          "name": "stdout",
          "text": [
            "1530.48218\n"
          ]
        },
        {
          "output_type": "error",
          "ename": "AssertionError",
          "evalue": "ignored",
          "traceback": [
            "\u001b[0;31m---------------------------------------------------------------------------\u001b[0m",
            "\u001b[0;31mAssertionError\u001b[0m                            Traceback (most recent call last)",
            "\u001b[0;32m<ipython-input-45-c0186bba1509>\u001b[0m in \u001b[0;36m<module>\u001b[0;34m()\u001b[0m\n\u001b[1;32m     28\u001b[0m \u001b[0;34m\u001b[0m\u001b[0m\n\u001b[1;32m     29\u001b[0m \u001b[0mprint\u001b[0m\u001b[0;34m(\u001b[0m\u001b[0mround\u001b[0m\u001b[0;34m(\u001b[0m\u001b[0mres_int\u001b[0m\u001b[0;34m,\u001b[0m \u001b[0;36m5\u001b[0m\u001b[0;34m)\u001b[0m\u001b[0;34m)\u001b[0m\u001b[0;34m\u001b[0m\u001b[0;34m\u001b[0m\u001b[0m\n\u001b[0;32m---> 30\u001b[0;31m \u001b[0;32massert\u001b[0m \u001b[0mround\u001b[0m\u001b[0;34m(\u001b[0m\u001b[0mres_int\u001b[0m\u001b[0;34m,\u001b[0m \u001b[0;36m5\u001b[0m\u001b[0;34m)\u001b[0m \u001b[0;34m==\u001b[0m \u001b[0;36m1530.37743\u001b[0m\u001b[0;34m\u001b[0m\u001b[0;34m\u001b[0m\u001b[0m\n\u001b[0m\u001b[1;32m     31\u001b[0m \u001b[0;32massert\u001b[0m \u001b[0mround\u001b[0m\u001b[0;34m(\u001b[0m\u001b[0mres_cat\u001b[0m\u001b[0;34m,\u001b[0m \u001b[0;36m5\u001b[0m\u001b[0;34m)\u001b[0m \u001b[0;34m==\u001b[0m \u001b[0;36m22074.0\u001b[0m\u001b[0;34m\u001b[0m\u001b[0;34m\u001b[0m\u001b[0m\n\u001b[1;32m     32\u001b[0m \u001b[0;34m\u001b[0m\u001b[0m\n",
            "\u001b[0;31mAssertionError\u001b[0m: "
          ]
        }
      ]
    },
    {
      "cell_type": "code",
      "metadata": {
        "id": "yxuug69kUW3g",
        "colab": {
          "base_uri": "https://localhost:8080/"
        },
        "outputId": "1a4992b9-a6db-4921-bac7-f5e51cb461f6"
      },
      "source": [
        "%%time\n",
        "# Применяем функцию к целевой таблице\n",
        "data_binned = make_grps(data_=data.copy(), \n",
        "                        interval_attributes=interrval_features, \n",
        "                        category_attributes=category_features, \n",
        "                        dict_binning=binning_dict\n",
        "                        )"
      ],
      "execution_count": 15,
      "outputs": [
        {
          "output_type": "stream",
          "name": "stdout",
          "text": [
            "CPU times: user 9.96 s, sys: 607 ms, total: 10.6 s\n",
            "Wall time: 12 s\n"
          ]
        }
      ]
    },
    {
      "cell_type": "markdown",
      "metadata": {
        "id": "COYkftr2w59O"
      },
      "source": [
        "#Task 2. Вычисление значение WOE-факторов"
      ]
    },
    {
      "cell_type": "markdown",
      "metadata": {
        "id": "Wi93M24sppCP"
      },
      "source": [
        "## Task 2-a\n",
        "> Реализуйте функцию, которая вычисляет значение WOE-фактора для каждого бина каждого атрибута.\n",
        "\n",
        "> Если атрибут разбит на n категорий, то для категории i WOE рассчитывается по следующей формуле:\n",
        "![image.png](data:image/png;base64,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)\n",
        "* bad_i - доля всех плохих клиентов (целевое событие 1), которая попадает в группу i\n",
        "* good_i - доля всех плохих клиентов (целевое событие 0), которая попадает в группу i\n",
        "\n",
        "> При реализации функции учтите следующее:\n",
        "* При необходимости, чтобы избежать NAN в качестве значения WOE, замените все пропуски при вычислении на 0.00001.\n",
        "\n",
        "> Описание функции:\n",
        "* На вход принимает:\n",
        "1. data_ - датасет со всеми столбцами\n",
        "2. attributes_ - список атрибутов\n",
        "3. target_name - имя колонки с целевым событием\n",
        "* Возвращает словарь, ключами которого являются названия атрибутов, а значениями pandas.DataFrame со столбцами: GRP_col и WOE_col, где col - имя атрибута\n",
        "\n"
      ]
    },
    {
      "cell_type": "code",
      "source": [
        "!pip install category_encoders"
      ],
      "metadata": {
        "colab": {
          "base_uri": "https://localhost:8080/"
        },
        "id": "hG29jZIUFEp6",
        "outputId": "8cdcd958-9b53-49bc-b3e4-1c289b4d3002"
      },
      "execution_count": null,
      "outputs": [
        {
          "output_type": "stream",
          "name": "stdout",
          "text": [
            "Collecting category_encoders\n",
            "  Downloading category_encoders-2.3.0-py2.py3-none-any.whl (82 kB)\n",
            "\u001b[?25l\r\u001b[K     |████                            | 10 kB 14.4 MB/s eta 0:00:01\r\u001b[K     |████████                        | 20 kB 16.8 MB/s eta 0:00:01\r\u001b[K     |████████████                    | 30 kB 19.3 MB/s eta 0:00:01\r\u001b[K     |████████████████                | 40 kB 15.1 MB/s eta 0:00:01\r\u001b[K     |████████████████████            | 51 kB 8.7 MB/s eta 0:00:01\r\u001b[K     |████████████████████████        | 61 kB 10.0 MB/s eta 0:00:01\r\u001b[K     |████████████████████████████    | 71 kB 8.1 MB/s eta 0:00:01\r\u001b[K     |███████████████████████████████▉| 81 kB 8.2 MB/s eta 0:00:01\r\u001b[K     |████████████████████████████████| 82 kB 325 kB/s \n",
            "\u001b[?25hRequirement already satisfied: statsmodels>=0.9.0 in /usr/local/lib/python3.7/dist-packages (from category_encoders) (0.10.2)\n",
            "Requirement already satisfied: scikit-learn>=0.20.0 in /usr/local/lib/python3.7/dist-packages (from category_encoders) (1.0.2)\n",
            "Requirement already satisfied: numpy>=1.14.0 in /usr/local/lib/python3.7/dist-packages (from category_encoders) (1.21.5)\n",
            "Requirement already satisfied: patsy>=0.5.1 in /usr/local/lib/python3.7/dist-packages (from category_encoders) (0.5.2)\n",
            "Requirement already satisfied: scipy>=1.0.0 in /usr/local/lib/python3.7/dist-packages (from category_encoders) (1.4.1)\n",
            "Requirement already satisfied: pandas>=0.21.1 in /usr/local/lib/python3.7/dist-packages (from category_encoders) (1.3.5)\n",
            "Requirement already satisfied: python-dateutil>=2.7.3 in /usr/local/lib/python3.7/dist-packages (from pandas>=0.21.1->category_encoders) (2.8.2)\n",
            "Requirement already satisfied: pytz>=2017.3 in /usr/local/lib/python3.7/dist-packages (from pandas>=0.21.1->category_encoders) (2018.9)\n",
            "Requirement already satisfied: six in /usr/local/lib/python3.7/dist-packages (from patsy>=0.5.1->category_encoders) (1.15.0)\n",
            "Requirement already satisfied: threadpoolctl>=2.0.0 in /usr/local/lib/python3.7/dist-packages (from scikit-learn>=0.20.0->category_encoders) (3.1.0)\n",
            "Requirement already satisfied: joblib>=0.11 in /usr/local/lib/python3.7/dist-packages (from scikit-learn>=0.20.0->category_encoders) (1.1.0)\n",
            "Installing collected packages: category-encoders\n",
            "Successfully installed category-encoders-2.3.0\n"
          ]
        }
      ]
    },
    {
      "cell_type": "code",
      "source": [
        "import category_encoders"
      ],
      "metadata": {
        "id": "SVOBp_vgFLUi"
      },
      "execution_count": 19,
      "outputs": []
    },
    {
      "cell_type": "code",
      "metadata": {
        "id": "iMe1b_EyVj_t"
      },
      "source": [
        "def calc_woe(data_, attributes_, target_name):\n",
        "    eps = 0.00001\n",
        "    res_dict = {}\n",
        "    for col in attributes_:\n",
        "        df = data_[['GRP_'+str(col), target_name]]\n",
        "        val_counts = df.groupby(target_name)['GRP_'+col].value_counts()\n",
        "        \n",
        "        bad = val_counts[1]/df[target_name].value_counts()[1]\n",
        "        good = val_counts[0]/df[target_name].value_counts()[0]\n",
        "        bad_good = pd.concat([good.rename('good'), bad.rename('bad')], axis=1).fillna(eps)\n",
        "        \n",
        "        res_df = np.log(bad_good['bad']/bad_good['good']) * -1\n",
        "        \n",
        "        res_df = res_df.fillna(eps)\n",
        "        res_df = res_df.to_frame('WOE_'+col).reset_index()\n",
        "        res_dict[str(col)] = res_df\n",
        "\n",
        "    return res_dict"
      ],
      "execution_count": 38,
      "outputs": []
    },
    {
      "cell_type": "code",
      "metadata": {
        "id": "gC2jlhLkXgoT"
      },
      "source": [
        "# Проверяем реализацию функции\n",
        "assert_woe_dict = calc_woe(data_= assert_data_binned[assert_data_binned['test_flg']==0], attributes_ = assert_features, target_name='target')\n",
        "\n",
        "assert len(assert_woe_dict.keys()) == 6\n",
        "res = 0\n",
        "for col in assert_woe_dict.keys():\n",
        "    res += np.array(assert_woe_dict[col].shape)\n",
        "assert set(res) == {12, 114}"
      ],
      "execution_count": 39,
      "outputs": []
    },
    {
      "cell_type": "code",
      "metadata": {
        "id": "v72itHpaVj8U",
        "colab": {
          "base_uri": "https://localhost:8080/"
        },
        "outputId": "7d830191-dd07-4a31-9c09-93318ee30949"
      },
      "source": [
        "%%time\n",
        "# Применяем функцию к целевой таблице\n",
        "woe_dict = calc_woe(data_=data_binned[data_binned['test_flg']==0], attributes_=features, target_name='target')"
      ],
      "execution_count": 40,
      "outputs": [
        {
          "output_type": "stream",
          "name": "stdout",
          "text": [
            "CPU times: user 3.06 s, sys: 33.9 ms, total: 3.09 s\n",
            "Wall time: 3.08 s\n"
          ]
        }
      ]
    },
    {
      "cell_type": "markdown",
      "metadata": {
        "id": "vh7yamBEtR6k"
      },
      "source": [
        "## Task 2-b\n",
        "> Реализуйте функцию, которая каждому наблюдению присоединяет значение WOE в зависимости от значения атрибута.\n",
        "\n",
        "> При реализации функции учтите следующее:\n",
        "* При необходимости, чтобы избежать NAN в столбцах со значениями WOE, замените все пропуски на 0.\n",
        "\n",
        "Имена столбцов со значением WOE должны иметь имена формата: 'WOE_col', где col - имя атрибута\n",
        "\n",
        "> Описание функции:\n",
        "* На вход принимает:\n",
        "1. data_ - датасет со всеми столбцами\n",
        "2. attributes_ - список атрибутов\n",
        "3. dict_woe - словарь со значениями WOE из предыдущей функции\n",
        "* Возвращает pandas.DataFrame с идентичными полями, что и исходный датафрейм + дополняет его значениями WOE ('WOE_col') для каждого атрибута"
      ]
    },
    {
      "cell_type": "code",
      "metadata": {
        "id": "-mayypZKVj4-"
      },
      "source": [
        "def merge_woe(data_, attributes_, dict_woe):\n",
        "    for col in attributes_:\n",
        "        woes = dict_woe[col]\n",
        "        data_ = data_.merge(woes, on='GRP_'+str(col) )\n",
        "    return data_ "
      ],
      "execution_count": 41,
      "outputs": []
    },
    {
      "cell_type": "code",
      "metadata": {
        "id": "og7H2QnPZlvQ"
      },
      "source": [
        "# Проверяем реализацию функции\n",
        "assert_data_binned_woe = merge_woe(data_ = assert_data_binned.copy(), attributes_ = assert_features, dict_woe = assert_woe_dict)\n",
        "\n",
        "assert assert_data_binned_woe.shape == (600, 23)\n",
        "woe_sum = [6.41035, 10.09985, -8.87265, -47.36889, -114.97994, 7.88363]\n",
        "for i, col in enumerate(['int_1', 'int_2', 'int_3', 'cat_1', 'cat_2', 'cat_3']):\n",
        "    assert round(assert_data_binned_woe[f'WOE_atr_{col}'].sum(), 5) == woe_sum[i]"
      ],
      "execution_count": 44,
      "outputs": []
    },
    {
      "cell_type": "code",
      "metadata": {
        "id": "J7YO-d1oYWUM"
      },
      "source": [
        "%%time\n",
        "# Применяем функцию к целевой таблице\n",
        "data_binned_woe = merge_woe(data_=data_binned.copy(), attributes_=features, dict_woe=woe_dict)"
      ],
      "execution_count": null,
      "outputs": []
    },
    {
      "cell_type": "markdown",
      "metadata": {
        "id": "ETwUguxAw59Q"
      },
      "source": [
        "# Task 3. Однофакторный анализ"
      ]
    },
    {
      "cell_type": "markdown",
      "metadata": {
        "id": "EbsAQBB4vHFq"
      },
      "source": [
        "> Реализуйте функцию формирования однофакторного анализа, для каждого атрибута вычисляет следующие характеристики данного атрибута:\n",
        "* Коэффициент Джини на train выборке\n",
        "* Коэффициент Джини на test выборке\n",
        "* Значение PSI \n",
        "\n",
        "> При реализации функции учтите следующее:\n",
        "* Коэффициент Джини можно вычислить, как 2*roc_auc_score-1\n",
        "* PSI вычисляется по формуле: \n",
        "![image.png](data:image/png;base64,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)\n",
        "* n_i - количество наблюдений в группе i на выборке для разработки (dev) или тестирования (val)\n",
        "* N - число наблюдений в выборке для разработки или тестировании (dev или val)\n",
        "\n",
        "> Описание функции:\n",
        "* На вход принимает:\n",
        "1. data_ - датасет со всеми столбцами\n",
        "2. attributes_ - список атрибутов\n",
        "3. target_name - имя целевого события\n",
        "4. test_flg_name - имя столбца с флагом тестовой выборки\n",
        "* Возвращает pandas.DataFrame со следующими полями:\n",
        "1. Attribute - имя атрибута\n",
        "2. GINI test - коэффициент Джини на test выборке\n",
        "3. GINI train - коэффициент Джини на Train выборке\n",
        "4. GINI delta - относительное изменение коэффициента Джини на test по сравнению с train\n",
        "5. PSI - значение PSI для атрибута\n"
      ]
    },
    {
      "cell_type": "code",
      "metadata": {
        "id": "0AD_UZSydojX"
      },
      "source": [
        "def one_factor_analyses_function(data_, attributes_, target_name, test_flg_name):\n",
        "    # YOUR CODE HERE\n",
        "    raise NotImplementedError()"
      ],
      "execution_count": null,
      "outputs": []
    },
    {
      "cell_type": "code",
      "metadata": {
        "id": "eS7rKopccjhB"
      },
      "source": [
        "# Проверяем реализацию функции\n",
        "assert_one_factor_analyses = one_factor_analyses_function(data_ = assert_data_binned_woe.copy(), \n",
        "                                                   attributes_ = assert_features, \n",
        "                                                   target_name = 'target', \n",
        "                                                   test_flg_name = 'test_flg'\n",
        "                                                   )\n",
        "\n",
        "assert assert_one_factor_analyses.shape == (6, 5)\n",
        "assert set(assert_one_factor_analyses.columns) == {'Attribute', 'GINI test', 'GINI train', 'GINI delta', 'PSI'}\n",
        "assert round(assert_one_factor_analyses['GINI train'].sum(), 5) == 1.6008\n",
        "assert round(assert_one_factor_analyses['GINI test'].sum(), 5) == 0.286\n",
        "assert round(assert_one_factor_analyses['GINI delta'].sum(), 5) == -4.7197\n",
        "assert round(assert_one_factor_analyses['PSI'].sum(), 5) == 0.9109"
      ],
      "execution_count": null,
      "outputs": []
    },
    {
      "cell_type": "code",
      "metadata": {
        "id": "7kmeT_XWd7MB"
      },
      "source": [
        "%%time\n",
        "# Применяем функцию к целевой таблице\n",
        "one_factor_analyses = one_factor_analyses_function(data_=data_binned_woe.copy(), \n",
        "                                                   attributes_=features, \n",
        "                                                   target_name='target', \n",
        "                                                   test_flg_name='test_flg'\n",
        "                                                   )"
      ],
      "execution_count": null,
      "outputs": []
    },
    {
      "cell_type": "markdown",
      "metadata": {
        "id": "KgB9hEmTx3uM"
      },
      "source": [
        "Выведем результаты однофакторного анализа, отсортированные по убыванию коэффициента Джини на train выборке"
      ]
    },
    {
      "cell_type": "code",
      "metadata": {
        "id": "CKDNZP-Iw59R"
      },
      "source": [
        "one_factor_analyses.sort_values('GINI train', ascending=False)"
      ],
      "execution_count": null,
      "outputs": []
    },
    {
      "cell_type": "markdown",
      "metadata": {
        "id": "EcjObOGje1SS"
      },
      "source": [
        "# Task 4. Многофакторный анализ"
      ]
    },
    {
      "cell_type": "markdown",
      "metadata": {
        "id": "sQf0GJOlyEIp"
      },
      "source": [
        "Сформируем длинный список \"хороших\" атрибутов:\n",
        "* Отбираем атрибуты, удовлетворяющие условиям на величину коэффициентов, вычисленных на этапе однофакторного анализа\n",
        "* Сортируем список атрибутов по уменьшению GINI на train выборке"
      ]
    },
    {
      "cell_type": "code",
      "metadata": {
        "id": "i6ZwC8Gzw59R"
      },
      "source": [
        "good_features_long = list(one_factor_analyses[(one_factor_analyses['GINI train'] > 0.05)\n",
        "                                               & (abs(one_factor_analyses['GINI delta']) < 0.50)\n",
        "                                               & (one_factor_analyses['PSI'] < 0.20)\n",
        "                                             ].sort_values('GINI train', ascending=False)['Attribute'])\n",
        "\n",
        "print(f'Number of good features: {len(good_features_long)}')"
      ],
      "execution_count": null,
      "outputs": []
    },
    {
      "cell_type": "markdown",
      "metadata": {
        "id": "NG_bD5uF-Wyf"
      },
      "source": [
        "Также для отбора атрибутов можно использовать встренные в sklearn методы, которые основаны на статистическом отборе признаков по их влиянию на целевую переменную"
      ]
    },
    {
      "cell_type": "code",
      "execution_count": null,
      "metadata": {
        "id": "_kiVpqMC6HB3"
      },
      "outputs": [],
      "source": [
        "from sklearn.feature_selection import RFE\n",
        "from sklearn.feature_selection import SelectKBest, chi2, f_classif , mutual_info_classif \n",
        "from sklearn.preprocessing import StandardScaler, MinMaxScaler\n",
        "\n",
        "X_train = data_binned_woe[data_binned_woe['test_flg']==0]\n",
        "X_test  = data_binned_woe[data_binned_woe['test_flg']==1]\n",
        "X_train[interrval_features] = X_train[interrval_features].fillna(X_train[interrval_features].mean())\n",
        "X_test[interrval_features] = X_test[interrval_features].fillna(X_train[interrval_features].mean())\n",
        "\n",
        "scaler = MinMaxScaler()\n",
        "X_train.loc[:, interrval_features] = scaler.fit_transform(X_train[interrval_features])\n",
        "X_test.loc[:, interrval_features]  = scaler.transform(X_test[interrval_features])"
      ]
    },
    {
      "cell_type": "code",
      "execution_count": null,
      "metadata": {
        "id": "f3Jjsc9ipk7x"
      },
      "outputs": [],
      "source": [
        "selector = SelectKBest(k=10, score_func=chi2)\n",
        "selector.fit(X_train[interrval_features], X_train['target'])\n",
        "\n",
        "# Список отобранных атрибутов\n",
        "selector.get_feature_names_out()"
      ]
    },
    {
      "cell_type": "code",
      "execution_count": null,
      "metadata": {
        "id": "vBx-BLJLpk7y"
      },
      "outputs": [],
      "source": [
        "estimator = LogisticRegression()\n",
        "recursive_selector = RFE(estimator, n_features_to_select=10)\n",
        "recursive_selector.fit(X_train[interrval_features], X_train['target'])\n",
        "\n",
        "# Список отобранных атрибутов\n",
        "recursive_selector.get_feature_names_out()"
      ]
    },
    {
      "cell_type": "markdown",
      "metadata": {
        "id": "29wKOVpGynU_"
      },
      "source": [
        "Построим и отобразим матрицу корреляций Спирмена для длинного списка \"хороших\" атрибутов"
      ]
    },
    {
      "cell_type": "code",
      "metadata": {
        "id": "_obmIPPqw59R"
      },
      "source": [
        "corr_matrix = data_binned_woe[data_binned_woe['test_flg']==0][['WOE_'+col for col in good_features_long]].corr(method='spearman')\n",
        "corr_matrix.style.background_gradient(cmap='coolwarm').set_precision(2)"
      ],
      "execution_count": null,
      "outputs": []
    },
    {
      "cell_type": "markdown",
      "metadata": {
        "id": "eyNRsuYvy4_2"
      },
      "source": [
        "> Реализуйте функцию отбора короткого списка \"хороших\" атрибутов на основе корреляции атрибутов.\n",
        "\n",
        "> Алгоритм отбора признаков следующий:\n",
        "* Все признаки сортируются по уменьшению коэффициента Джини на train выборке\n",
        "* Затем они поочередно добавляются в новый список, если не коррелируют с другими атрибутами из этого списка\n",
        "* Атрибуты считаются скоррелированными, если коэффициент корреляции >= 50%\n",
        "\n",
        "> Описание функции:\n",
        "* На вход принимает:\n",
        "1. features_list - длинный список атрибутов\n",
        "2. corr - матрицу корреляций для длинного списка атрибутов\n",
        "* Возвращает короткий список \"хороших\" атрибутов"
      ]
    },
    {
      "cell_type": "code",
      "metadata": {
        "id": "85Hcbb3ww59S"
      },
      "source": [
        "def filter_uncorrelated_features(features_list, corr):\n",
        "    # YOUR CODE HERE\n",
        "    raise NotImplementedError()"
      ],
      "execution_count": null,
      "outputs": []
    },
    {
      "cell_type": "code",
      "metadata": {
        "id": "-mSgSJnydwKv"
      },
      "source": [
        "# Проверяем реализацию функции\n",
        "assert_corr_matrix = assert_data_binned_woe[assert_data_binned_woe['test_flg']==0][['WOE_'+col for col in assert_features]].corr()\n",
        "assert_good_features_short = filter_uncorrelated_features(features_list = assert_features, corr = assert_corr_matrix)\n",
        "print(f'Количество хороших некоррелирующих атрибутов: {len(assert_good_features_short)}')\n",
        "\n",
        "assert len(assert_good_features_short) == 6\n",
        "temp_corr = assert_corr_matrix.reset_index()\n",
        "temp_corr = temp_corr[temp_corr['index'].isin(['WOE_'+col for col in assert_features])][['index']+['WOE_'+col for col in assert_features]].set_index('index')\n",
        "assert np.sum(temp_corr.values<0.1) == 18\n",
        "assert round(np.sum(temp_corr.values), 5) == 7.50577"
      ],
      "execution_count": null,
      "outputs": []
    },
    {
      "cell_type": "code",
      "metadata": {
        "id": "l6i0zQvOfcnG"
      },
      "source": [
        "# Применяем функцию к целевой таблице\n",
        "good_features_short = filter_uncorrelated_features(features_list=good_features_long, corr=corr_matrix)\n",
        "print(f'Количество хороших некоррелирующих атрибутов: {len(good_features_short)}')"
      ],
      "execution_count": null,
      "outputs": []
    },
    {
      "cell_type": "markdown",
      "metadata": {
        "id": "fD_lktbL0z-R"
      },
      "source": [
        "Отобразим однофакторный анализ короткого \"хорошего\" списка атрибутов"
      ]
    },
    {
      "cell_type": "code",
      "metadata": {
        "id": "zgdkvcSHw59S"
      },
      "source": [
        "one_factor_analyses[one_factor_analyses['Attribute'].isin(good_features_short)].sort_values('GINI train', ascending=False)"
      ],
      "execution_count": null,
      "outputs": []
    },
    {
      "cell_type": "markdown",
      "metadata": {
        "id": "eOwWbTzC1Cmx"
      },
      "source": [
        "Построим и отобразим матрицу корреляций Пирсона для короткого списка \"хороших\" атрибутов, из результатов видно, что корреляция не превышает порог в 50%"
      ]
    },
    {
      "cell_type": "code",
      "metadata": {
        "id": "EMiCoVAgw59T"
      },
      "source": [
        "temp_corr = corr_matrix.reset_index()\n",
        "temp_corr = temp_corr[temp_corr['index'].isin(['WOE_'+col for col in good_features_short])][['index']+['WOE_'+col for col in good_features_short]].set_index('index')\n",
        "temp_corr.style.background_gradient(cmap='coolwarm').set_precision(2)"
      ],
      "execution_count": null,
      "outputs": []
    },
    {
      "cell_type": "markdown",
      "metadata": {
        "id": "ijRt9rMLvnUi"
      },
      "source": [
        "Отобразим биннинг атрибутов из хорошего короткого списка атрибутов (good_features_short)"
      ]
    },
    {
      "cell_type": "code",
      "metadata": {
        "id": "FNkJWrxGvfIo"
      },
      "source": [
        "# Печатаем Биннинг\n",
        "def print_binning(data, interval_attributes, category_attributes, target, test_flg_name, figsize=(16,8), h_pt=16):\n",
        "    \n",
        "    for i, col in enumerate(interval_attributes+category_attributes):\n",
        "        \n",
        "#         clear_output(wait=True)\n",
        "        print(f'Column {i+1}/{len(interval_attributes+category_attributes)}')\n",
        "        print(col)\n",
        "        \n",
        "        \n",
        "        temp = data.groupby([test_flg_name, col]).agg({target : ['count', 'sum']}).reset_index().sort_values(col)\n",
        "        temp.columns = [test_flg_name, col, 'cnt', 'def_cnt']\n",
        "        temp['def_rate'] = temp['def_cnt'] / temp['cnt']\n",
        "        temp = temp.merge(data.groupby(test_flg_name).agg({target : 'count'}).reset_index(), on=[test_flg_name], how='left')\n",
        "        temp['pop_rate'] = temp['cnt'] / temp[target]\n",
        "        temp = temp.drop(columns=[target])\n",
        "        \n",
        "        if col in interval_attributes:\n",
        "            temp['sort_col'] = temp[col].apply(lambda x: np.inf if 'MISSING' in x else float(x[1:-1].split(',')[0]) if x[1:-1].split(',')[0] != '-inf' else -np.inf)\n",
        "        elif col in category_attributes:\n",
        "            temp['sort_col'] = temp[col].apply(lambda x: np.inf if 'MISSING' in x else float(x))\n",
        "        temp = temp.sort_values([test_flg_name, 'sort_col'])\n",
        "        temp = temp.drop(columns=['sort_col'])\n",
        "        temp_tr = temp[temp[test_flg_name]==0]\n",
        "        temp_ts = temp[temp[test_flg_name]==1]\n",
        "    \n",
        "        fig, ax1 = plt.subplots(figsize=figsize)\n",
        "        color = 'tab:blue'\n",
        "        h_pt = h_pt\n",
        "        col_name = col.replace('GRP_','')\n",
        "        ax1.set_title('Распределение доли популяции и уровня дефолта по группам фактора\\n'+col_name, fontsize=h_pt)\n",
        "        ax1.set_xlabel('Группы фактора ' + col_name, fontsize=h_pt)\n",
        "        ax1.set_ylabel('Доля популяции', fontsize=h_pt)\n",
        "\n",
        "        plt.bar(temp_tr[col], temp_tr['pop_rate'], align='edge', width=-0.4, edgecolor='black', color=color, label='train')\n",
        "        plt.bar(temp_ts[col], temp_ts['pop_rate'], align='edge', width=0.4, edgecolor='black', color='lightblue', label='test')\n",
        "        plt.legend(loc='upper left')\n",
        "\n",
        "        ax1.tick_params(axis='y')\n",
        "        ax2 = ax1.twinx()\n",
        "        ax2.set_ylabel('Уровень дефолта', fontsize=h_pt)\n",
        "\n",
        "        plt.plot(temp_tr[col], temp_tr['def_rate'], '+-r', linewidth=5, markersize=20, label='train') \n",
        "        plt.plot(temp_ts[col], temp_ts['def_rate'], '+-g', linewidth=5, markersize=20, label='test') \n",
        "        plt.legend(loc='upper right')\n",
        "\n",
        "        ax2.tick_params('y')\n",
        "        fig.tight_layout()\n",
        "\n",
        "        plt.show()\n",
        "\n",
        "\n",
        "        # Печатаем расчетную таблицу\n",
        "        with pd.option_context('display.max_rows', None,\n",
        "                           'display.max_columns', None,\n",
        "                           'display.precision', 3,\n",
        "                           ):\n",
        "            print(temp)"
      ],
      "execution_count": null,
      "outputs": []
    },
    {
      "cell_type": "code",
      "metadata": {
        "id": "-neLsKRhvfEi"
      },
      "source": [
        "interrval_features_short = [col for col in good_features_short if col in interrval_features]\n",
        "category_features_short = [col for col in good_features_short if col in category_features]\n",
        "print_binning(data=data_binned_woe.copy(), \n",
        "              interval_attributes=[f'GRP_{col}' for col in interrval_features_short], \n",
        "              category_attributes=[f'GRP_{col}' for col in category_features_short], \n",
        "              target='target',\n",
        "              test_flg_name = 'test_flg'\n",
        "              )"
      ],
      "execution_count": null,
      "outputs": []
    },
    {
      "cell_type": "markdown",
      "metadata": {
        "id": "YVd47x22w59T"
      },
      "source": [
        "# Task 4. Построение модели логистической регресси на WOE факторах\n",
        "\n"
      ]
    },
    {
      "cell_type": "markdown",
      "metadata": {
        "id": "AFsIEUh917EA"
      },
      "source": [
        "Пострим модель логисчтической регресси на WOE факторах короткого списка \"хороших\" атрибутов. \n",
        "\n",
        "* Какое получается качество? \n",
        "* Чему равен коэффициент Джини на train и test выборках?\n",
        "* За счет чего можно улучшить качество?\n",
        "* Проверьте интерпретируемость модели и соответствие атрибутов бизнес смыслу"
      ]
    },
    {
      "cell_type": "code",
      "metadata": {
        "id": "1o_o4V54w59T"
      },
      "source": [
        "X_train = data_binned_woe[data_binned_woe['test_flg']==0][['WOE_'+col for col in good_features_short]]\n",
        "y_train = data_binned_woe[data_binned_woe['test_flg']==0]['target']\n",
        "X_test = data_binned_woe[data_binned_woe['test_flg']==1][['WOE_'+col for col in good_features_short]]\n",
        "y_test = data_binned_woe[data_binned_woe['test_flg']==1]['target']\n",
        "\n",
        "logreg = LogisticRegression(random_state=42)\n",
        "logreg.fit(X_train, y_train)\n",
        "\n",
        "pred_train = logreg.predict_proba(X_train)[:, 1]\n",
        "pred_test = logreg.predict_proba(X_test)[:, 1]\n",
        "\n",
        "print(f'GINI train: {round(2*roc_auc_score(y_train, pred_train)-1, 4)}')\n",
        "print(f'GINI test: {round(2*roc_auc_score(y_test, pred_test)-1, 4)}')"
      ],
      "execution_count": null,
      "outputs": []
    },
    {
      "cell_type": "markdown",
      "metadata": {
        "id": "_MN-vfZv7i7P"
      },
      "source": [
        "**Ответ:**"
      ]
    },
    {
      "cell_type": "markdown",
      "metadata": {
        "id": "C8lQU5Tr5XF5"
      },
      "source": [
        "Проскорим train и test выборки и сохраним значения вероятностей дефолта"
      ]
    },
    {
      "cell_type": "code",
      "metadata": {
        "id": "UKJeo5LW5j11"
      },
      "source": [
        "data_binned_woe['PD'] = logreg.predict_proba(data_binned_woe[['WOE_'+col for col in good_features_short]])[:, 1]"
      ],
      "execution_count": null,
      "outputs": []
    },
    {
      "cell_type": "markdown",
      "metadata": {
        "id": "f97T4Y_gw59U"
      },
      "source": [
        "# Task 5. Построение скоринговой карты"
      ]
    },
    {
      "cell_type": "markdown",
      "metadata": {
        "id": "xDdgBIVO3lmj"
      },
      "source": [
        "> Реализуйте функцию построения скоринговой карты.\n",
        "\n",
        "> При реализации функции учтите следующее:\n",
        "* 600 - значение на шкале баллов, в которой соотношение шансов составляет С:1\n",
        "* С = 72\n",
        "* 40 — количество баллов, удваивающее шансы\n",
        "* Полученное значение скорингового балла следует округлить до целого\n",
        "\n",
        "> Описание функции:\n",
        "* На вход принимает:\n",
        "1. model - построенная модель логистической регрессии\n",
        "2. features_short - список атрибутов, на котором построена логистическая регрессия\n",
        "3. woe_dict_ - словарь со значениями WOE факторов по группам\n",
        "* Возвращает pandas.DataFrame со следующими полями:\n",
        "1. ATTRIBUTE - название атрибута\n",
        "2. GRP - номер (\"имя\") группы\n",
        "3. WOE - значение WOE фактора для группы\n",
        "4. SCORE - величина скорингового балла для данной группы"
      ]
    },
    {
      "cell_type": "code",
      "metadata": {
        "id": "3BnphYXw317W"
      },
      "source": [
        "def build_scorecard(model, features_short, woe_dict_):\n",
        "    # YOUR CODE HERE\n",
        "    raise NotImplementedError()"
      ],
      "execution_count": null,
      "outputs": []
    },
    {
      "cell_type": "code",
      "metadata": {
        "id": "2OiSsArCg4P6"
      },
      "source": [
        "# Проверяем реализацию функции\n",
        "assert_logreg = LogisticRegression(random_state=42).fit(assert_data_binned_woe[[f\"WOE_{col}\" for col in assert_good_features_short]], assert_data_binned_woe['target'])\n",
        "assert_scorecard = build_scorecard(model = assert_logreg, \n",
        "                                   features_short = assert_good_features_short, \n",
        "                                   woe_dict_ = assert_woe_dict\n",
        "                                   )\n",
        "\n",
        "assert assert_scorecard.shape == (114, 4)\n",
        "assert set(assert_scorecard.columns) == {'ATTRIBUTE', 'GRP', 'SCORE', 'WOE'}\n",
        "assert round(assert_scorecard['WOE'].sum(), 5) == -10.47859\n",
        "assert round(assert_scorecard['SCORE'].sum(), 5) == 6510.0"
      ],
      "execution_count": null,
      "outputs": []
    },
    {
      "cell_type": "code",
      "metadata": {
        "id": "hok2ndTm4dnQ"
      },
      "source": [
        "scorecard = build_scorecard(model=logreg, \n",
        "                            features_short=good_features_short, \n",
        "                            woe_dict_=woe_dict\n",
        "                            )"
      ],
      "execution_count": null,
      "outputs": []
    },
    {
      "cell_type": "code",
      "metadata": {
        "scrolled": true,
        "id": "m_E3-QWHw59U"
      },
      "source": [
        "pd.set_option('display.max_rows', 100)\n",
        "scorecard.set_index(['ATTRIBUTE', 'GRP'])"
      ],
      "execution_count": null,
      "outputs": []
    },
    {
      "cell_type": "markdown",
      "metadata": {
        "id": "G3xcULBe5zxA"
      },
      "source": [
        "Присвоим каждому наблюдению скорбалл в зависимости от значения атрибута, а так же финальный скоринговый балл"
      ]
    },
    {
      "cell_type": "code",
      "metadata": {
        "id": "vnR67Mlk6DZd"
      },
      "source": [
        "%%time\n",
        "data_binned_woe['SCORE'] = 0\n",
        "for col in scorecard['ATTRIBUTE'].drop_duplicates():\n",
        "    temp_score = scorecard[scorecard['ATTRIBUTE']==col].copy()\n",
        "    temp_score = temp_score.rename(columns={'SCORE':'SCORE_'+col, 'GRP':'GRP_'+col})\n",
        "    data_binned_woe = data_binned_woe.merge(temp_score[['GRP_'+col, 'SCORE_'+col]], on='GRP_'+col, how='left')\n",
        "    data_binned_woe['SCORE'] = data_binned_woe['SCORE'] + data_binned_woe['SCORE_'+col]"
      ],
      "execution_count": null,
      "outputs": []
    },
    {
      "cell_type": "markdown",
      "metadata": {
        "id": "QtynxMjb9-G5"
      },
      "source": [
        "# Сохранение результатов"
      ]
    },
    {
      "cell_type": "markdown",
      "metadata": {
        "id": "iOXe6v886hLk"
      },
      "source": [
        "Сохраняем обученную модель, короткий список \"хороших\" атрибутов, проскоренную выборку для дальнейшего использования"
      ]
    },
    {
      "cell_type": "code",
      "metadata": {
        "id": "Z8G9WjjMw59V"
      },
      "source": [
        "%%time\n",
        "# сохраняем обученную модель\n",
        "with open('./model_logreg_woe.pickle', 'wb') as f:\n",
        "    pickle.dump(logreg, f)\n",
        "    \n",
        "# сохраняем список атрибутов\n",
        "with open('./attributes_logreg_woe.pickle', 'wb') as f:\n",
        "    pickle.dump(good_features_short, f)\n",
        "    \n",
        "# сохраняем выборку\n",
        "data_binned_woe.to_csv('./data_grp_woe_pd_score.csv', index=False)"
      ],
      "execution_count": null,
      "outputs": []
    }
  ]
}