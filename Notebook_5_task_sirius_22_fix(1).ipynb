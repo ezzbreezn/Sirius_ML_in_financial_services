{
  "cells": [
    {
      "cell_type": "code",
      "execution_count": 1,
      "metadata": {
        "id": "BNzo8a1LWUaM"
      },
      "outputs": [],
      "source": [
        "import numpy as np\n",
        "import pandas as pd\n",
        "import datetime as dt\n",
        "import pickle\n",
        "\n",
        "import warnings\n",
        "warnings.filterwarnings(\"ignore\")"
      ]
    },
    {
      "cell_type": "code",
      "execution_count": 2,
      "metadata": {
        "id": "aFU3N1EHX-b-",
        "colab": {
          "base_uri": "https://localhost:8080/"
        },
        "outputId": "0c67fc92-dd31-47e7-9ce5-03768ebb596f"
      },
      "outputs": [
        {
          "output_type": "stream",
          "name": "stdout",
          "text": [
            "Mounted at /content/drive\n"
          ]
        }
      ],
      "source": [
        "# Авторизация гугл диска\n",
        "from google.colab import drive\n",
        "drive.mount('/content/drive')"
      ]
    },
    {
      "cell_type": "code",
      "execution_count": 3,
      "metadata": {
        "id": "NFNARw5bX_6f",
        "colab": {
          "base_uri": "https://localhost:8080/"
        },
        "outputId": "ea411a82-ea04-41b5-f1e4-3b2fc4b163e3"
      },
      "outputs": [
        {
          "output_type": "stream",
          "name": "stdout",
          "text": [
            "/content/drive/MyDrive\n"
          ]
        }
      ],
      "source": [
        "%cd /content/drive/MyDrive"
      ]
    },
    {
      "cell_type": "code",
      "execution_count": 4,
      "metadata": {
        "id": "aC_WyGxkKA7E"
      },
      "outputs": [],
      "source": [
        "# создаем датасет для проверки\n",
        "assert_values = [\n",
        "    [0, 708930000.0, 688998322.0, 666349089.0, 647380821.0, 630300887.0, 611463914.0, 591781038.0],\n",
        "    [1, 721780000.0, 700858040.0, 679984420.0, 661238265.0, 644054439.0, 624842853.0, 604260080.0],\n",
        "    [2, 676197680.0, 657479234.0, 635803739.0, 616560408.0, 599282032.0, 582739733.0, 564951055.0],\n",
        "    [3, 705906000.0, 684776146.0, 664699620.0, 646675310.0, 629384170.0, 611508787.0, 590382699.0],\n",
        "    [4, 697650000.0, 677569923.0, 657200106.0, 638066185.0, 620003731.0, 600610165.0, 583305516.0],\n",
        "    [5, 690886000.0, 670980106.0, 650141712.0, 631199828.0, 613500459.0, 596658378.0, 578937537.0],\n",
        "    [6, 725780000.0, 703148787.0, 681992058.0, 661459515.0, 641162461.0, 621924929.0, 602339667.0],\n",
        "]\n",
        "assert_data = pd.DataFrame(assert_values, columns=['MONTHS_PAST_DEFAULT'] + [f'DEBT_{i}' for i in range(7)])\n",
        "assert_data = assert_data.set_index('MONTHS_PAST_DEFAULT')"
      ]
    },
    {
      "cell_type": "markdown",
      "metadata": {
        "id": "VGm74zhxWw6z"
      },
      "source": [
        "# Загрузка данных"
      ]
    },
    {
      "cell_type": "markdown",
      "metadata": {
        "id": "nZ3i7LKbmEOn"
      },
      "source": [
        "Наша стартовая таблица \"Dataset_UP_LGD.csv\" со следующими полями:\n",
        "* ID - идентификационный номер клиента \n",
        "* DEBT_0 - сумма долга клиента в месяц дефолта\n",
        "* PAYMENT_0\t- сумма платежа клиента в месяц дефолта\n",
        "* PAYMENT_1\t- сумма платежа клиента в следующем месяце после дефолта клиента\n",
        "* PAYMENT_2\t- сумма платежа клиента через 2 месяца после дефолта клиента\t\n",
        "* PAYMENT_3\t- сумма платежа клиента через 3 месяца после дефолта \t\n",
        "* PAYMENT_4\t- сумма платежа клиента через 4 месяца после дефолта \t\n",
        "* PAYMENT_5\t- сумма платежа клиента через 5 месяца после дефолта \t\n",
        "* PAYMENT_6\t- сумма платежа клиента через 6 месяца после дефолта "
      ]
    },
    {
      "cell_type": "code",
      "execution_count": 5,
      "metadata": {
        "id": "xsuApFfbf4Ms",
        "colab": {
          "base_uri": "https://localhost:8080/",
          "height": 206
        },
        "outputId": "bd7aa1c4-3c9b-4424-d36e-5e9a1e70c8f9"
      },
      "outputs": [
        {
          "output_type": "execute_result",
          "data": {
            "text/html": [
              "\n",
              "  <div id=\"df-619e78d5-5979-43dc-87f8-acd385cc93f5\">\n",
              "    <div class=\"colab-df-container\">\n",
              "      <div>\n",
              "<style scoped>\n",
              "    .dataframe tbody tr th:only-of-type {\n",
              "        vertical-align: middle;\n",
              "    }\n",
              "\n",
              "    .dataframe tbody tr th {\n",
              "        vertical-align: top;\n",
              "    }\n",
              "\n",
              "    .dataframe thead th {\n",
              "        text-align: right;\n",
              "    }\n",
              "</style>\n",
              "<table border=\"1\" class=\"dataframe\">\n",
              "  <thead>\n",
              "    <tr style=\"text-align: right;\">\n",
              "      <th></th>\n",
              "      <th>ID</th>\n",
              "      <th>DEBT_0</th>\n",
              "      <th>PAYMENT_0</th>\n",
              "      <th>PAYMENT_1</th>\n",
              "      <th>PAYMENT_2</th>\n",
              "      <th>PAYMENT_3</th>\n",
              "      <th>PAYMENT_4</th>\n",
              "      <th>PAYMENT_5</th>\n",
              "      <th>PAYMENT_6</th>\n",
              "    </tr>\n",
              "  </thead>\n",
              "  <tbody>\n",
              "    <tr>\n",
              "      <th>0</th>\n",
              "      <td>1</td>\n",
              "      <td>20000.0</td>\n",
              "      <td>0</td>\n",
              "      <td>0.0</td>\n",
              "      <td>689.0</td>\n",
              "      <td>0.0</td>\n",
              "      <td>0.0</td>\n",
              "      <td>0.0</td>\n",
              "      <td>0.0</td>\n",
              "    </tr>\n",
              "    <tr>\n",
              "      <th>1</th>\n",
              "      <td>2</td>\n",
              "      <td>120000.0</td>\n",
              "      <td>0</td>\n",
              "      <td>0.0</td>\n",
              "      <td>1000.0</td>\n",
              "      <td>1000.0</td>\n",
              "      <td>NaN</td>\n",
              "      <td>NaN</td>\n",
              "      <td>NaN</td>\n",
              "    </tr>\n",
              "    <tr>\n",
              "      <th>2</th>\n",
              "      <td>3</td>\n",
              "      <td>90000.0</td>\n",
              "      <td>0</td>\n",
              "      <td>1518.0</td>\n",
              "      <td>1500.0</td>\n",
              "      <td>1000.0</td>\n",
              "      <td>1000.0</td>\n",
              "      <td>NaN</td>\n",
              "      <td>NaN</td>\n",
              "    </tr>\n",
              "    <tr>\n",
              "      <th>3</th>\n",
              "      <td>4</td>\n",
              "      <td>50000.0</td>\n",
              "      <td>0</td>\n",
              "      <td>2000.0</td>\n",
              "      <td>2019.0</td>\n",
              "      <td>1200.0</td>\n",
              "      <td>1100.0</td>\n",
              "      <td>1069.0</td>\n",
              "      <td>1000.0</td>\n",
              "    </tr>\n",
              "    <tr>\n",
              "      <th>4</th>\n",
              "      <td>6</td>\n",
              "      <td>50000.0</td>\n",
              "      <td>0</td>\n",
              "      <td>2500.0</td>\n",
              "      <td>1815.0</td>\n",
              "      <td>657.0</td>\n",
              "      <td>1000.0</td>\n",
              "      <td>NaN</td>\n",
              "      <td>NaN</td>\n",
              "    </tr>\n",
              "  </tbody>\n",
              "</table>\n",
              "</div>\n",
              "      <button class=\"colab-df-convert\" onclick=\"convertToInteractive('df-619e78d5-5979-43dc-87f8-acd385cc93f5')\"\n",
              "              title=\"Convert this dataframe to an interactive table.\"\n",
              "              style=\"display:none;\">\n",
              "        \n",
              "  <svg xmlns=\"http://www.w3.org/2000/svg\" height=\"24px\"viewBox=\"0 0 24 24\"\n",
              "       width=\"24px\">\n",
              "    <path d=\"M0 0h24v24H0V0z\" fill=\"none\"/>\n",
              "    <path d=\"M18.56 5.44l.94 2.06.94-2.06 2.06-.94-2.06-.94-.94-2.06-.94 2.06-2.06.94zm-11 1L8.5 8.5l.94-2.06 2.06-.94-2.06-.94L8.5 2.5l-.94 2.06-2.06.94zm10 10l.94 2.06.94-2.06 2.06-.94-2.06-.94-.94-2.06-.94 2.06-2.06.94z\"/><path d=\"M17.41 7.96l-1.37-1.37c-.4-.4-.92-.59-1.43-.59-.52 0-1.04.2-1.43.59L10.3 9.45l-7.72 7.72c-.78.78-.78 2.05 0 2.83L4 21.41c.39.39.9.59 1.41.59.51 0 1.02-.2 1.41-.59l7.78-7.78 2.81-2.81c.8-.78.8-2.07 0-2.86zM5.41 20L4 18.59l7.72-7.72 1.47 1.35L5.41 20z\"/>\n",
              "  </svg>\n",
              "      </button>\n",
              "      \n",
              "  <style>\n",
              "    .colab-df-container {\n",
              "      display:flex;\n",
              "      flex-wrap:wrap;\n",
              "      gap: 12px;\n",
              "    }\n",
              "\n",
              "    .colab-df-convert {\n",
              "      background-color: #E8F0FE;\n",
              "      border: none;\n",
              "      border-radius: 50%;\n",
              "      cursor: pointer;\n",
              "      display: none;\n",
              "      fill: #1967D2;\n",
              "      height: 32px;\n",
              "      padding: 0 0 0 0;\n",
              "      width: 32px;\n",
              "    }\n",
              "\n",
              "    .colab-df-convert:hover {\n",
              "      background-color: #E2EBFA;\n",
              "      box-shadow: 0px 1px 2px rgba(60, 64, 67, 0.3), 0px 1px 3px 1px rgba(60, 64, 67, 0.15);\n",
              "      fill: #174EA6;\n",
              "    }\n",
              "\n",
              "    [theme=dark] .colab-df-convert {\n",
              "      background-color: #3B4455;\n",
              "      fill: #D2E3FC;\n",
              "    }\n",
              "\n",
              "    [theme=dark] .colab-df-convert:hover {\n",
              "      background-color: #434B5C;\n",
              "      box-shadow: 0px 1px 3px 1px rgba(0, 0, 0, 0.15);\n",
              "      filter: drop-shadow(0px 1px 2px rgba(0, 0, 0, 0.3));\n",
              "      fill: #FFFFFF;\n",
              "    }\n",
              "  </style>\n",
              "\n",
              "      <script>\n",
              "        const buttonEl =\n",
              "          document.querySelector('#df-619e78d5-5979-43dc-87f8-acd385cc93f5 button.colab-df-convert');\n",
              "        buttonEl.style.display =\n",
              "          google.colab.kernel.accessAllowed ? 'block' : 'none';\n",
              "\n",
              "        async function convertToInteractive(key) {\n",
              "          const element = document.querySelector('#df-619e78d5-5979-43dc-87f8-acd385cc93f5');\n",
              "          const dataTable =\n",
              "            await google.colab.kernel.invokeFunction('convertToInteractive',\n",
              "                                                     [key], {});\n",
              "          if (!dataTable) return;\n",
              "\n",
              "          const docLinkHtml = 'Like what you see? Visit the ' +\n",
              "            '<a target=\"_blank\" href=https://colab.research.google.com/notebooks/data_table.ipynb>data table notebook</a>'\n",
              "            + ' to learn more about interactive tables.';\n",
              "          element.innerHTML = '';\n",
              "          dataTable['output_type'] = 'display_data';\n",
              "          await google.colab.output.renderOutput(dataTable, element);\n",
              "          const docLink = document.createElement('div');\n",
              "          docLink.innerHTML = docLinkHtml;\n",
              "          element.appendChild(docLink);\n",
              "        }\n",
              "      </script>\n",
              "    </div>\n",
              "  </div>\n",
              "  "
            ],
            "text/plain": [
              "   ID    DEBT_0  PAYMENT_0  PAYMENT_1  PAYMENT_2  PAYMENT_3  PAYMENT_4  \\\n",
              "0   1   20000.0          0        0.0      689.0        0.0        0.0   \n",
              "1   2  120000.0          0        0.0     1000.0     1000.0        NaN   \n",
              "2   3   90000.0          0     1518.0     1500.0     1000.0     1000.0   \n",
              "3   4   50000.0          0     2000.0     2019.0     1200.0     1100.0   \n",
              "4   6   50000.0          0     2500.0     1815.0      657.0     1000.0   \n",
              "\n",
              "   PAYMENT_5  PAYMENT_6  \n",
              "0        0.0        0.0  \n",
              "1        NaN        NaN  \n",
              "2        NaN        NaN  \n",
              "3     1069.0     1000.0  \n",
              "4        NaN        NaN  "
            ]
          },
          "metadata": {},
          "execution_count": 5
        }
      ],
      "source": [
        "data = pd.read_csv('./Dataset_UP_LGD.csv')\n",
        "data.head()"
      ]
    },
    {
      "cell_type": "markdown",
      "metadata": {
        "id": "PhLnp_tYpMP0"
      },
      "source": [
        "# Task 1. Вычисление долга"
      ]
    },
    {
      "cell_type": "markdown",
      "metadata": {
        "id": "TfFQWwoyspeO"
      },
      "source": [
        "Напишите функцию, которая возвращает по каждому клиенту информацию о его долге в каждый месяц после дефолта.\n",
        "\n",
        "Функция на вход принимает таблицу data\n",
        "\n",
        "Результатом работы функции является DataFrame с полями:\n",
        "* ID - идентификационный номер клиента\n",
        "* MONTHS_PAST_DEFAULT - количество месяцев после дефолта (количество столбцов с долгом != Nan - 1)\n",
        "* DEBT_0 - сумма долга в момент дефолта\n",
        "* DEBT_1 - сумма долга в следующем месяце после дефолта\n",
        "* DEBT_2 - сумма долга через 2 есяца после дефолта\n",
        "* DEBT_3 - сумма долга через 3 есяца после дефолта\n",
        "* DEBT_4 - сумма долга через 4 есяца после дефолта\n",
        "* DEBT_5 - сумма долга через 5 есяца после дефолта\n",
        "* DEBT_6 - сумма долга через 6 есяца после дефолта"
      ]
    },
    {
      "cell_type": "code",
      "execution_count": 6,
      "metadata": {
        "id": "vi5tDkJZf4JO"
      },
      "outputs": [],
      "source": [
        "def calc_debt(data_):\n",
        "    df = {}\n",
        "    for id in data_['ID'].unique():\n",
        "        debt0 = data_[data_['ID'] == id]['DEBT_0'].values[0]\n",
        "        debt1 = debt0 - data_[data_['ID'] == id]['PAYMENT_1'].values[0]\n",
        "        debt2 = debt1 - data_[data_['ID'] == id]['PAYMENT_2'].values[0]\n",
        "        debt3 = debt2 - data_[data_['ID'] == id]['PAYMENT_3'].values[0]\n",
        "        debt4 = debt3 - data_[data_['ID'] == id]['PAYMENT_4'].values[0]\n",
        "        debt5 = debt4 - data_[data_['ID'] == id]['PAYMENT_5'].values[0]\n",
        "        debt6 = debt5 - data_[data_['ID'] == id]['PAYMENT_6'].values[0]\n",
        "        df[id] =  {'ID' : id, 'MONTHS_PAST_DEFAULT' : 6 - data_[data_['ID'] == id].isna().sum().sum(), 'DEBT_0' : debt0, 'DEBT_1' : debt1, 'DEBT_2' : debt2, 'DEBT_3' : debt3, 'DEBT_4' : debt4, 'DEBT_5' : debt5, 'DEBT_6' : debt6}\n",
        "    return pd.DataFrame(df).T"
      ]
    },
    {
      "cell_type": "code",
      "execution_count": 7,
      "metadata": {
        "id": "R_jCXTnvf4FV"
      },
      "outputs": [],
      "source": [
        "data = calc_debt(data_ = data.copy())\n",
        "\n",
        "assert data.shape == (29034, 9)\n",
        "assert data.sum().sum() == 19019524231.0\n",
        "assert data.count().sum() == 174319"
      ]
    },
    {
      "cell_type": "markdown",
      "metadata": {
        "id": "ECoU6_tBOf7a"
      },
      "source": [
        "# Task 2. Группировка наблюдений"
      ]
    },
    {
      "cell_type": "markdown",
      "metadata": {
        "id": "_mD2hyyRPtqo"
      },
      "source": [
        "Реалиуйте функцию, которая возвращает общую сумму долга для каждой группы наблюдений с одинаковым возрастом дефолта в каждый месяц после дефолта.\n",
        "\n",
        "Функция на вход принимает таблицу с долгом data\n",
        "\n",
        "Результатом работы функции является DataFrame с полями:\n",
        "\n",
        "* MONTHS_PAST_DEFAULT - количество месяцев после дефолта в качестве ИНДЕКСА\n",
        "* DEBT_0 - сумма долга в момент дефолта\n",
        "* DEBT_1 - сумма долга в следующем месяце после дефолта\n",
        "* DEBT_2 - сумма долга через 2 есяца после дефолта\n",
        "* DEBT_3 - сумма долга через 3 есяца после дефолта\n",
        "* DEBT_4 - сумма долга через 4 есяца после дефолта\n",
        "* DEBT_5 - сумма долга через 5 есяца после дефолта\n",
        "* DEBT_6 - сумма долга через 6 есяца после дефолта\n",
        "\n",
        "Учтите следующее: для тех месяцев, по которым нет данных о долге в таблице должно быть проставлено NaN"
      ]
    },
    {
      "cell_type": "code",
      "execution_count": 8,
      "metadata": {
        "id": "--RHr2fhOcPi"
      },
      "outputs": [],
      "source": [
        "def group_debt(data_):\n",
        "    return data_.groupby('MONTHS_PAST_DEFAULT').sum()[['DEBT_0', 'DEBT_1', 'DEBT_2', 'DEBT_3','DEBT_4', 'DEBT_5', 'DEBT_6']].replace(0, np.NaN)"
      ]
    },
    {
      "cell_type": "code",
      "execution_count": 9,
      "metadata": {
        "id": "TpszMU4AOcLL"
      },
      "outputs": [],
      "source": [
        "data_gr = group_debt(data_ = data.copy())\n",
        "\n",
        "assert data_gr.shape == (7, 7)\n",
        "assert data_gr.sum().sum() == 18584769614.0\n",
        "assert data_gr.count().sum() == 28"
      ]
    },
    {
      "cell_type": "code",
      "execution_count": 10,
      "metadata": {
        "id": "NPYaYsgdXNaP",
        "colab": {
          "base_uri": "https://localhost:8080/",
          "height": 300
        },
        "outputId": "769d3ad9-5333-43fb-d41c-3ff549653771"
      },
      "outputs": [
        {
          "output_type": "execute_result",
          "data": {
            "text/html": [
              "\n",
              "  <div id=\"df-0ca34194-345f-43ea-9d47-00a777507538\">\n",
              "    <div class=\"colab-df-container\">\n",
              "      <div>\n",
              "<style scoped>\n",
              "    .dataframe tbody tr th:only-of-type {\n",
              "        vertical-align: middle;\n",
              "    }\n",
              "\n",
              "    .dataframe tbody tr th {\n",
              "        vertical-align: top;\n",
              "    }\n",
              "\n",
              "    .dataframe thead th {\n",
              "        text-align: right;\n",
              "    }\n",
              "</style>\n",
              "<table border=\"1\" class=\"dataframe\">\n",
              "  <thead>\n",
              "    <tr style=\"text-align: right;\">\n",
              "      <th></th>\n",
              "      <th>DEBT_0</th>\n",
              "      <th>DEBT_1</th>\n",
              "      <th>DEBT_2</th>\n",
              "      <th>DEBT_3</th>\n",
              "      <th>DEBT_4</th>\n",
              "      <th>DEBT_5</th>\n",
              "      <th>DEBT_6</th>\n",
              "    </tr>\n",
              "    <tr>\n",
              "      <th>MONTHS_PAST_DEFAULT</th>\n",
              "      <th></th>\n",
              "      <th></th>\n",
              "      <th></th>\n",
              "      <th></th>\n",
              "      <th></th>\n",
              "      <th></th>\n",
              "      <th></th>\n",
              "    </tr>\n",
              "  </thead>\n",
              "  <tbody>\n",
              "    <tr>\n",
              "      <th>0.0</th>\n",
              "      <td>708930000.0</td>\n",
              "      <td>NaN</td>\n",
              "      <td>NaN</td>\n",
              "      <td>NaN</td>\n",
              "      <td>NaN</td>\n",
              "      <td>NaN</td>\n",
              "      <td>NaN</td>\n",
              "    </tr>\n",
              "    <tr>\n",
              "      <th>1.0</th>\n",
              "      <td>721780000.0</td>\n",
              "      <td>700858040.0</td>\n",
              "      <td>NaN</td>\n",
              "      <td>NaN</td>\n",
              "      <td>NaN</td>\n",
              "      <td>NaN</td>\n",
              "      <td>NaN</td>\n",
              "    </tr>\n",
              "    <tr>\n",
              "      <th>2.0</th>\n",
              "      <td>676197680.0</td>\n",
              "      <td>657479234.0</td>\n",
              "      <td>635803739.0</td>\n",
              "      <td>NaN</td>\n",
              "      <td>NaN</td>\n",
              "      <td>NaN</td>\n",
              "      <td>NaN</td>\n",
              "    </tr>\n",
              "    <tr>\n",
              "      <th>3.0</th>\n",
              "      <td>705906000.0</td>\n",
              "      <td>684776146.0</td>\n",
              "      <td>664699620.0</td>\n",
              "      <td>646675310.0</td>\n",
              "      <td>NaN</td>\n",
              "      <td>NaN</td>\n",
              "      <td>NaN</td>\n",
              "    </tr>\n",
              "    <tr>\n",
              "      <th>4.0</th>\n",
              "      <td>697650000.0</td>\n",
              "      <td>677569923.0</td>\n",
              "      <td>657200106.0</td>\n",
              "      <td>638066185.0</td>\n",
              "      <td>620003731.0</td>\n",
              "      <td>NaN</td>\n",
              "      <td>NaN</td>\n",
              "    </tr>\n",
              "    <tr>\n",
              "      <th>5.0</th>\n",
              "      <td>690886000.0</td>\n",
              "      <td>670980106.0</td>\n",
              "      <td>650141712.0</td>\n",
              "      <td>631199828.0</td>\n",
              "      <td>613500459.0</td>\n",
              "      <td>596658378.0</td>\n",
              "      <td>NaN</td>\n",
              "    </tr>\n",
              "    <tr>\n",
              "      <th>6.0</th>\n",
              "      <td>725780000.0</td>\n",
              "      <td>703148787.0</td>\n",
              "      <td>681992058.0</td>\n",
              "      <td>661459515.0</td>\n",
              "      <td>641162461.0</td>\n",
              "      <td>621924929.0</td>\n",
              "      <td>602339667.0</td>\n",
              "    </tr>\n",
              "  </tbody>\n",
              "</table>\n",
              "</div>\n",
              "      <button class=\"colab-df-convert\" onclick=\"convertToInteractive('df-0ca34194-345f-43ea-9d47-00a777507538')\"\n",
              "              title=\"Convert this dataframe to an interactive table.\"\n",
              "              style=\"display:none;\">\n",
              "        \n",
              "  <svg xmlns=\"http://www.w3.org/2000/svg\" height=\"24px\"viewBox=\"0 0 24 24\"\n",
              "       width=\"24px\">\n",
              "    <path d=\"M0 0h24v24H0V0z\" fill=\"none\"/>\n",
              "    <path d=\"M18.56 5.44l.94 2.06.94-2.06 2.06-.94-2.06-.94-.94-2.06-.94 2.06-2.06.94zm-11 1L8.5 8.5l.94-2.06 2.06-.94-2.06-.94L8.5 2.5l-.94 2.06-2.06.94zm10 10l.94 2.06.94-2.06 2.06-.94-2.06-.94-.94-2.06-.94 2.06-2.06.94z\"/><path d=\"M17.41 7.96l-1.37-1.37c-.4-.4-.92-.59-1.43-.59-.52 0-1.04.2-1.43.59L10.3 9.45l-7.72 7.72c-.78.78-.78 2.05 0 2.83L4 21.41c.39.39.9.59 1.41.59.51 0 1.02-.2 1.41-.59l7.78-7.78 2.81-2.81c.8-.78.8-2.07 0-2.86zM5.41 20L4 18.59l7.72-7.72 1.47 1.35L5.41 20z\"/>\n",
              "  </svg>\n",
              "      </button>\n",
              "      \n",
              "  <style>\n",
              "    .colab-df-container {\n",
              "      display:flex;\n",
              "      flex-wrap:wrap;\n",
              "      gap: 12px;\n",
              "    }\n",
              "\n",
              "    .colab-df-convert {\n",
              "      background-color: #E8F0FE;\n",
              "      border: none;\n",
              "      border-radius: 50%;\n",
              "      cursor: pointer;\n",
              "      display: none;\n",
              "      fill: #1967D2;\n",
              "      height: 32px;\n",
              "      padding: 0 0 0 0;\n",
              "      width: 32px;\n",
              "    }\n",
              "\n",
              "    .colab-df-convert:hover {\n",
              "      background-color: #E2EBFA;\n",
              "      box-shadow: 0px 1px 2px rgba(60, 64, 67, 0.3), 0px 1px 3px 1px rgba(60, 64, 67, 0.15);\n",
              "      fill: #174EA6;\n",
              "    }\n",
              "\n",
              "    [theme=dark] .colab-df-convert {\n",
              "      background-color: #3B4455;\n",
              "      fill: #D2E3FC;\n",
              "    }\n",
              "\n",
              "    [theme=dark] .colab-df-convert:hover {\n",
              "      background-color: #434B5C;\n",
              "      box-shadow: 0px 1px 3px 1px rgba(0, 0, 0, 0.15);\n",
              "      filter: drop-shadow(0px 1px 2px rgba(0, 0, 0, 0.3));\n",
              "      fill: #FFFFFF;\n",
              "    }\n",
              "  </style>\n",
              "\n",
              "      <script>\n",
              "        const buttonEl =\n",
              "          document.querySelector('#df-0ca34194-345f-43ea-9d47-00a777507538 button.colab-df-convert');\n",
              "        buttonEl.style.display =\n",
              "          google.colab.kernel.accessAllowed ? 'block' : 'none';\n",
              "\n",
              "        async function convertToInteractive(key) {\n",
              "          const element = document.querySelector('#df-0ca34194-345f-43ea-9d47-00a777507538');\n",
              "          const dataTable =\n",
              "            await google.colab.kernel.invokeFunction('convertToInteractive',\n",
              "                                                     [key], {});\n",
              "          if (!dataTable) return;\n",
              "\n",
              "          const docLinkHtml = 'Like what you see? Visit the ' +\n",
              "            '<a target=\"_blank\" href=https://colab.research.google.com/notebooks/data_table.ipynb>data table notebook</a>'\n",
              "            + ' to learn more about interactive tables.';\n",
              "          element.innerHTML = '';\n",
              "          dataTable['output_type'] = 'display_data';\n",
              "          await google.colab.output.renderOutput(dataTable, element);\n",
              "          const docLink = document.createElement('div');\n",
              "          docLink.innerHTML = docLinkHtml;\n",
              "          element.appendChild(docLink);\n",
              "        }\n",
              "      </script>\n",
              "    </div>\n",
              "  </div>\n",
              "  "
            ],
            "text/plain": [
              "                          DEBT_0       DEBT_1       DEBT_2       DEBT_3  \\\n",
              "MONTHS_PAST_DEFAULT                                                       \n",
              "0.0                  708930000.0          NaN          NaN          NaN   \n",
              "1.0                  721780000.0  700858040.0          NaN          NaN   \n",
              "2.0                  676197680.0  657479234.0  635803739.0          NaN   \n",
              "3.0                  705906000.0  684776146.0  664699620.0  646675310.0   \n",
              "4.0                  697650000.0  677569923.0  657200106.0  638066185.0   \n",
              "5.0                  690886000.0  670980106.0  650141712.0  631199828.0   \n",
              "6.0                  725780000.0  703148787.0  681992058.0  661459515.0   \n",
              "\n",
              "                          DEBT_4       DEBT_5       DEBT_6  \n",
              "MONTHS_PAST_DEFAULT                                         \n",
              "0.0                          NaN          NaN          NaN  \n",
              "1.0                          NaN          NaN          NaN  \n",
              "2.0                          NaN          NaN          NaN  \n",
              "3.0                          NaN          NaN          NaN  \n",
              "4.0                  620003731.0          NaN          NaN  \n",
              "5.0                  613500459.0  596658378.0          NaN  \n",
              "6.0                  641162461.0  621924929.0  602339667.0  "
            ]
          },
          "metadata": {},
          "execution_count": 10
        }
      ],
      "source": [
        "data_gr"
      ]
    },
    {
      "cell_type": "markdown",
      "metadata": {
        "id": "FAE58RzfSBVD"
      },
      "source": [
        "# Task 3. Вычисление коэффициентов"
      ]
    },
    {
      "cell_type": "markdown",
      "metadata": {
        "id": "4i1NOd3gSBFD"
      },
      "source": [
        "Реализуйте функцию, которая возвращает список коэффициентов переходов для суммы долга между суммами долга в разные месяцы.\n",
        "\n",
        "Функция на вход принимает сгруппированную таблицу data_gr\n",
        "\n",
        "Результатом работы функции является np.array с коэффициентами перехода (округлите коэффициенты перехода до 5 знака)."
      ]
    },
    {
      "cell_type": "code",
      "execution_count": null,
      "metadata": {
        "id": "wk5nEzblOcC4"
      },
      "outputs": [],
      "source": [
        "def calc_coefs(data_):\n",
        "    coefs = []\n",
        "    raise NotImplementedError\n",
        "    # return np.round(coefs, 5)"
      ]
    },
    {
      "cell_type": "code",
      "execution_count": null,
      "metadata": {
        "id": "7QPN1fXvR8Ux"
      },
      "outputs": [],
      "source": [
        "coefs = calc_coefs(data_ = data_gr)\n",
        "print(coefs)\n",
        "assert coefs.shape == (6,)\n",
        "assert round(coefs.sum(), 5) == 5.82191"
      ]
    },
    {
      "cell_type": "markdown",
      "metadata": {
        "id": "-gVD54DcT12N"
      },
      "source": [
        "# Task 4. Заполнение пропусков"
      ]
    },
    {
      "cell_type": "markdown",
      "metadata": {
        "id": "u70UE6_gT1ry"
      },
      "source": [
        "Реалиуйте функцию, которая заполняет пропуски в сгруппированной таблице долга.\n",
        "\n",
        "Функция на вход принимает:\n",
        "* таблицу со сгруппированным долгом data_gr\n",
        "* список коэффициентов coefs\n",
        "\n",
        "Результатом работы функции является заполненный DataFrame с полями:\n",
        "\n",
        "* MONTHS_PAST_DEFAULT - количество месяцев после дефолта в качестве ИНДЕКСА\n",
        "* DEBT_0 - сумма долга в момент дефолта\n",
        "* DEBT_1 - сумма долга в следующем месяце после дефолта\n",
        "* DEBT_2 - сумма долга через 2 есяца после дефолта\n",
        "* DEBT_3 - сумма долга через 3 есяца после дефолта\n",
        "* DEBT_4 - сумма долга через 4 есяца после дефолта\n",
        "* DEBT_5 - сумма долга через 5 есяца после дефолта\n",
        "* DEBT_6 - сумма долга через 6 есяца после дефолта\n"
      ]
    },
    {
      "cell_type": "code",
      "execution_count": null,
      "metadata": {
        "id": "De94NSfsR8Nf"
      },
      "outputs": [],
      "source": [
        "def fill_data(data_, coefs):\n",
        "    # YOUR CODE HERE\n",
        "    raise NotImplementedError"
      ]
    },
    {
      "cell_type": "code",
      "execution_count": null,
      "metadata": {
        "id": "mPW6WeebR8KL"
      },
      "outputs": [],
      "source": [
        "data_gr_filled = fill_data(data_ = data_gr.copy(),\n",
        "                           coefs = np.round(coefs, 5)\n",
        "                           )\n",
        "\n",
        "assert data_gr_filled.shape == (7, 7)\n",
        "assert round(data_gr_filled.sum().sum(), 5) == 31578683486.38918\n",
        "assert data_gr_filled.count().sum() == 49"
      ]
    },
    {
      "cell_type": "code",
      "execution_count": null,
      "metadata": {
        "id": "7hZ2Y5cFXZlp"
      },
      "outputs": [],
      "source": [
        "data_gr_filled"
      ]
    },
    {
      "cell_type": "markdown",
      "metadata": {
        "id": "f5v6zC04Wav5"
      },
      "source": [
        "Средняя абсолютная ошибка долга по заполненным месяцам"
      ]
    },
    {
      "cell_type": "code",
      "execution_count": null,
      "metadata": {
        "id": "--1YiROMR8Gq"
      },
      "outputs": [],
      "source": [
        "abs((data_gr_filled - assert_data) / assert_data).sum().sum()/((data_gr_filled.shape[0]*data_gr_filled.shape[1] - data_gr_filled.shape[0])/2)"
      ]
    },
    {
      "cell_type": "markdown",
      "metadata": {
        "id": "NCEESvW0W0n2"
      },
      "source": [
        "Теперь можно рассчитать ожидаемый уровень LGD на горизонте 6 месяцев"
      ]
    },
    {
      "cell_type": "code",
      "execution_count": null,
      "metadata": {
        "id": "QO0T46QBVbV8"
      },
      "outputs": [],
      "source": [
        "(data_gr_filled['DEBT_6'] / data_gr_filled['DEBT_0']).mean()"
      ]
    }
  ],
  "metadata": {
    "colab": {
      "collapsed_sections": [],
      "name": "Notebook_5_task_sirius_22_fix.ipynb",
      "provenance": []
    },
    "kernelspec": {
      "display_name": "Python 3 (ipykernel)",
      "language": "python",
      "name": "python3"
    },
    "language_info": {
      "codemirror_mode": {
        "name": "ipython",
        "version": 3
      },
      "file_extension": ".py",
      "mimetype": "text/x-python",
      "name": "python",
      "nbconvert_exporter": "python",
      "pygments_lexer": "ipython3",
      "version": "3.9.7"
    }
  },
  "nbformat": 4,
  "nbformat_minor": 0
}